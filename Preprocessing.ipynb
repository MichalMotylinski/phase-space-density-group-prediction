{
 "cells": [
  {
   "cell_type": "code",
   "execution_count": 1,
   "id": "spare-wings",
   "metadata": {},
   "outputs": [],
   "source": [
    "import pandas as pd\n",
    "import os\n",
    "import seaborn as sns\n",
    "import numpy as np\n",
    "import scipy as sp\n",
    "import coord_transform as coord\n",
    "import time\n",
    "from scipy.spatial import distance\n",
    "from matplotlib import pyplot as plt\n",
    "import numpy as np\n",
    "from sklearn.mixture import GaussianMixture\n",
    "from dask import delayed\n",
    "import dask.dataframe as dd\n",
    "from dask.distributed import Client, LocalCluster# this is experimental\n",
    "from dask_cuda import LocalCUDACluster\n",
    "from dask.dataframe import from_pandas\n",
    "import dask.array as da\n",
    "import dask.bag as db\n",
    "import cupy as cp\n",
    "from numba import cuda\n",
    "from numba import roc\n",
    "from numba import njit\n",
    "import numba as nb\n",
    "import dask\n",
    "import dask_cudf\n",
    "import gc\n",
    "import cupy\n",
    "import cudf\n",
    "import os\n",
    "import time\n",
    "import math\n",
    "from multiprocessing import Pool\n",
    "from itertools import product\n",
    "from numba import prange"
   ]
  },
  {
   "cell_type": "code",
   "execution_count": 104,
   "id": "sharp-edgar",
   "metadata": {},
   "outputs": [],
   "source": [
    "def prepare_data(df, hosts=False):\n",
    "    # Reduce data\n",
    "    if not hosts:\n",
    "        df = df[4.5 > df[\"parallax\"]/df[\"parallax_error\"]]\n",
    "    \n",
    "    # Calculate distance in pc\n",
    "    df[\"distance_pc\"] = 1./df[\"parallax\"]\n",
    "    df = df[df[\"distance_pc\"]>0]\n",
    "    \n",
    "    # Convert from spherical to cartesian coordinates\n",
    "    df[\"x\"], df[\"y\"], df[\"z\"] = coord.sph2cart(df[\"distance_pc\"], df[\"ra\"], df[\"dec\"])\n",
    "    df[\"vx\"],df[\"vy\"],df[\"vz\"] = coord.vsph2cart(df[\"dr2_radial_velocity\"], df[\"pmra\"], df[\"pmdec\"], df[\"distance_pc\"], df[\"ra\"], df[\"dec\"])\n",
    "    \n",
    "    # Remove unnecessary columns\n",
    "    if hosts:\n",
    "        df = df.drop(df.columns[1:24], axis=1)\n",
    "    else:\n",
    "        df = df.drop(df.columns[:13], axis=1)\n",
    "    \n",
    "    return df"
   ]
  },
  {
   "cell_type": "markdown",
   "id": "separated-fireplace",
   "metadata": {},
   "source": [
    "# Load exoplanet host stars data"
   ]
  },
  {
   "cell_type": "code",
   "execution_count": 105,
   "id": "impossible-livestock",
   "metadata": {},
   "outputs": [],
   "source": [
    "hosts = cudf.read_csv(\"hosts.csv\")"
   ]
  },
  {
   "cell_type": "code",
   "execution_count": 106,
   "id": "horizontal-minneapolis",
   "metadata": {},
   "outputs": [],
   "source": [
    "hosts = prepare_data(hosts, True)"
   ]
  },
  {
   "cell_type": "markdown",
   "id": "indian-mouth",
   "metadata": {},
   "source": [
    "# Load gaia stars dataset"
   ]
  },
  {
   "cell_type": "code",
   "execution_count": 107,
   "id": "through-employment",
   "metadata": {},
   "outputs": [],
   "source": [
    "gaia = cudf.read_csv(\"gaia.csv\")"
   ]
  },
  {
   "cell_type": "code",
   "execution_count": 108,
   "id": "loving-vienna",
   "metadata": {},
   "outputs": [],
   "source": [
    "gaia = prepare_data(gaia)"
   ]
  },
  {
   "cell_type": "code",
   "execution_count": 109,
   "id": "phantom-cotton",
   "metadata": {},
   "outputs": [],
   "source": [
    "hosts = hosts.to_pandas()"
   ]
  },
  {
   "cell_type": "code",
   "execution_count": 110,
   "id": "proved-thread",
   "metadata": {},
   "outputs": [],
   "source": [
    "gaia.drop([\"dr2_radial_velocity_error\", \"distance_pc\"], axis=1, inplace=True)"
   ]
  },
  {
   "cell_type": "code",
   "execution_count": 111,
   "id": "stupid-vision",
   "metadata": {},
   "outputs": [],
   "source": [
    "gaia = gaia.to_pandas().to_numpy()"
   ]
  },
  {
   "cell_type": "code",
   "execution_count": 112,
   "id": "spatial-calgary",
   "metadata": {},
   "outputs": [],
   "source": [
    "planets_densities = pd.read_csv(\"planets_dense_6d.csv\", index_col=0)"
   ]
  },
  {
   "cell_type": "markdown",
   "id": "working-recognition",
   "metadata": {},
   "source": [
    "### Function creating 2 sets of data.\n",
    "### Set1 consists of stars within 40pc from target planet. \n",
    "### Set2 consists of stars within 80pc from target planet."
   ]
  },
  {
   "cell_type": "code",
   "execution_count": 271,
   "id": "bulgarian-western",
   "metadata": {},
   "outputs": [],
   "source": [
    "@njit\n",
    "def to_sets(target):\n",
    "    dist1 = 0.26\n",
    "    dist2 = 80\n",
    "    \n",
    "    set1 = []\n",
    "    set2 = []\n",
    "    for j in range(gaia.shape[0]):\n",
    "        # Calculate distance with an equivalent of np.linalg.norm function which is not supported by numba.\n",
    "        z = np.zeros(shape=target[:3].shape)\n",
    "        for i in range(len(target)):\n",
    "            z[i] = target[i] - gaia[j][i]\n",
    "        dist = np.sqrt(np.sum(z**2, 0))\n",
    "\n",
    "        # Check if value fits into a predefined range and if so add value to an appropriate array.\n",
    "        # TO DO: python lists are very inefficient and should be replaced.\n",
    "        if dist < dist1:\n",
    "            set1.append([gaia[j][0], gaia[j][1], gaia[j][2], gaia[j][3], gaia[j][4], gaia[j][5]])\n",
    "        if dist < dist2:\n",
    "            set2.append([gaia[j][0], gaia[j][1], gaia[j][2], gaia[j][3], gaia[j][4], gaia[j][5]])\n",
    "\n",
    "    \n",
    "    # Calculate covariance matrix\n",
    "    set1 = np.array(set1)\n",
    "    set2 = np.array(set2)\n",
    "\n",
    "    # Below code is designed to run entire pipeline with numba however so far it is slower, thus it should not be used\n",
    "    \"\"\"res = np.zeros(set2.T.shape[0])\n",
    "    for i in prange(set2.T.shape[0]):\n",
    "        res[i] = set2.T[i, :].mean()\n",
    "    res = set2 - res\n",
    "    fact = set2.shape[0] - 1 \n",
    "\n",
    "    # Invert covariance matrix\n",
    "    set2_inv = np.linalg.inv(np.dot(res.T, res.conj()) / fact)\n",
    "    \n",
    "    mah_dist_arr = np.zeros(10000)\n",
    "    for i in range(set1.shape[0]):\n",
    "        if i == 10000:\n",
    "            break\n",
    "        # Create an array with infinite numbers. for 20 closest stars.\n",
    "        # The idea here is that as the new values are being calculated the largest values will be replaced in the list.\n",
    "        mahal_dist = np.full(20, np.inf, dtype=\"float64\")\n",
    "\n",
    "        for j in range(0, set2.shape[0]):\n",
    "            # Below is a manual implementation of mahalanobis distance as numba does not support scipy function.\n",
    "            set2_inv = np.atleast_2d(set2_inv)\n",
    "            delta = set2[i] - set2[j]\n",
    "            m = np.dot(np.dot(delta, set2_inv), delta)\n",
    "\n",
    "            # New value is compared to currently stored values and if it replaces the highest value if new value < highest value in the set.\n",
    "            if np.sqrt(m) < mahal_dist.max():\n",
    "                mahal_dist[mahal_dist.argmax()] = np.sqrt(m)\n",
    "        mah_dist_arr[i] = mahal_dist.max()\n",
    "        # Return 20th closest neighbour, which in this case is the last value in the set.\n",
    "    \n",
    "    density = 20/(mah_dist_arr)**6\n",
    "    norm_density = density/np.median(density)\n",
    "    return norm_density\"\"\"\n",
    "    return set1, set2"
   ]
  },
  {
   "cell_type": "markdown",
   "id": "quarterly-encoding",
   "metadata": {},
   "source": [
    "### For every star in set1 calculate mahalanobis distance to every star in set2. Store only 20 closest stars in an array. Then pick the 20th closest star from the planet "
   ]
  },
  {
   "cell_type": "code",
   "execution_count": 272,
   "id": "rapid-carroll",
   "metadata": {},
   "outputs": [],
   "source": [
    "@njit\n",
    "def calc_mah(i, set1, set2, set2_inv):\n",
    "\n",
    "    # Create an array with infinite numbers. for 20 closest stars.\n",
    "    # The idea here is that as the new values are being calculated the largest values will be replaced in the list.\n",
    "    mahal_dist = np.full(20, np.inf, dtype=\"float64\")\n",
    "\n",
    "    for j in range(0, set2.shape[0]):\n",
    "        # Below is a manual implementation of mahalanobis distance as numba does not support scipy function.\n",
    "        set2_inv = np.atleast_2d(set2_inv)\n",
    "        delta = set1[i] - set2[j]\n",
    "        m = np.dot(np.dot(delta, set2_inv), delta)\n",
    "\n",
    "        # New value is compared to currently stored values and if it replaces the highest value if new value < highest value in the set.\n",
    "        if np.sqrt(m) < mahal_dist.max():\n",
    "            mahal_dist[mahal_dist.argmax()] = np.sqrt(m)\n",
    "    \n",
    "    # Return 20th closest neighbour, which in this case is the last value in the set.\n",
    "    return mahal_dist.max()"
   ]
  },
  {
   "cell_type": "markdown",
   "id": "forbidden-peninsula",
   "metadata": {},
   "source": [
    "### Convert mahalanobis distances of all stars in set1 to density"
   ]
  },
  {
   "cell_type": "code",
   "execution_count": 273,
   "id": "square-terminal",
   "metadata": {},
   "outputs": [],
   "source": [
    "@njit\n",
    "def calc_dense(mah_dist_arr):\n",
    "    density = 20/(mah_dist_arr)**6\n",
    "    norm_density = density/np.median(density)\n",
    "    return norm_density"
   ]
  },
  {
   "cell_type": "markdown",
   "id": "speaking-hudson",
   "metadata": {},
   "source": [
    "### Use density to create GausianMixture model and draw low and high density groups"
   ]
  },
  {
   "cell_type": "code",
   "execution_count": 274,
   "id": "labeled-shame",
   "metadata": {},
   "outputs": [],
   "source": [
    "def draw(norm_density, planet):\n",
    "    # Add second dimension and transpose array to match input format for GaussianMixture\n",
    "    X = np.expand_dims(np.log10(norm_density), axis=0).T\n",
    "\n",
    "    # train GaussianMixture\n",
    "    model = GaussianMixture(2).fit(X)\n",
    "\n",
    "    # Define figure params\n",
    "    fig = plt.figure(figsize=(50, 5))\n",
    "    fig.subplots_adjust(left=0.12, right=0.97, bottom=0.21, top=0.9, wspace=0.5)\n",
    "    ax = fig.add_subplot(131)\n",
    "\n",
    "    x = np.linspace(-6, 6, 1000)\n",
    "    logprob = model.score_samples(x.reshape(-1, 1))\n",
    "    responsibilities = model.predict_proba(x.reshape(-1, 1))\n",
    "    pdf = np.exp(logprob)\n",
    "    pdf_individual = responsibilities * pdf[:, np.newaxis]\n",
    "    \n",
    "    plt.axvline(x=planet[1], color=\"r\", label=f\"{planet[0]}: {planet[1]}\")\n",
    "\n",
    "    ax.hist(X, 100, density=True, histtype='stepfilled', alpha=0.4)\n",
    "    # Add combined kde line\n",
    "    ax.plot(x, pdf, '-k')\n",
    "    # Add individual lines for low and high density\n",
    "    ax.plot(x, pdf_individual, '--k')\n",
    "    ax.text(0.04, 0.96, \"Best-fit Mixture\", ha='left', va='top', transform=ax.transAxes)\n",
    "\n",
    "    ax.set_xlabel('$x$')\n",
    "    ax.set_ylabel('$p(x)$')\n",
    "    plt.legend()\n",
    "    plt.savefig(\"plot_v1.png\", bbox_inches='tight')\n",
    "    plt.show()\n",
    "    \n",
    "    return model"
   ]
  },
  {
   "cell_type": "markdown",
   "id": "alert-scholarship",
   "metadata": {},
   "source": [
    "### Loop through all planets and apply above functions. \n",
    "### For testing purposes I am using only 3 planets and 1000 stars from set1. This takes around 90 seconds on my PC to compute. At the moment for planet with 150000 neighbours within 40pc it would take around 1 hour and 10 minutes to compute."
   ]
  },
  {
   "cell_type": "code",
   "execution_count": 275,
   "id": "useful-knowing",
   "metadata": {},
   "outputs": [],
   "source": [
    "def get_stars():\n",
    "    o=0\n",
    "    density_list = []\n",
    "    model = 0\n",
    "    for i, row in hosts.iterrows():\n",
    "        #if o == 1:\n",
    "            #break\n",
    "        o = o + 1\n",
    "        if row[0] != \"WASP-12\":\n",
    "            continue\n",
    "        print(row[0])\n",
    "        # Get coordinates of the planet\n",
    "        target = np.array([row[2], row[3], row[4], row[5], row[6], row[7]])\n",
    "        \n",
    "        # Create two sets of stars:\n",
    "        # set1 - closest stars in 40pc range from planet\n",
    "        # set2 - closest stars in 80pc range from planet\n",
    "        \"norm_density = to_sets(target)\"\n",
    "        set1, set2 = to_sets(target)\n",
    "\n",
    "        print(set1.shape, set2.shape)\n",
    "        # Shuffle set with stars within 40pc from host in order to randomize the results\n",
    "        set1 = np.random.permutation(set1)\n",
    "        \n",
    "        # Add exoplanet host star to the set\n",
    "        set1 = np.vstack((target, set1))\n",
    "        \n",
    "        # Below operations are temporarely here because numba does not support them but finally they will be changed moved to a separate function.\n",
    "        # TO DO: Convert to format acceptable by numba   \n",
    "        set1_cov_mat = np.cov(set1.T) # Calculate the covariance matrix\n",
    "        set1_inv = np.linalg.inv(set1_cov_mat) # Invert\n",
    "        \n",
    "        set2_cov_mat = np.cov(set2.T) # Calculate the covariance matrix\n",
    "        set2_inv = np.linalg.inv(set2_cov_mat) # Invert\n",
    "        \n",
    "        # Temporarely calculate mahalanobis distance for 600 closest stars. Final version will loop through all neighbours within 40pc.\n",
    "        mah_dist_arr = np.zeros(600)\n",
    "        for j in range(set1.shape[0]):\n",
    "            if j == 600:\n",
    "                break\n",
    "            \n",
    "            # Save calculated distances\n",
    "            mah_dist_arr[j] = (calc_mah(j, set1, set2, set2_inv))\n",
    "            \n",
    "        # Calculate densities for each star within 40pc\n",
    "        norm_density = calc_dense(np.array(mah_dist_arr))\n",
    "        density_list.append(norm_density)\n",
    "        \n",
    "        # Use normalised densities of set1 stars to create Gaussian mixture model\n",
    "        # First entry is exoplanet host star. The values are used to draw in on the graph as a vertical line\n",
    "        x = np.expand_dims(np.log10(norm_density[0]), axis=0).T\n",
    "        model = draw(norm_density[1:], [row[0], x])\n",
    "        #model = draw(norm_density, [planets_densities.loc[row[0]].name, planets_densities.loc[row[0]][\"density\"]])\n",
    "        \n",
    "        # Print local star cluster\n",
    "        d = pd.DataFrame(set1[:600])\n",
    "        sns.scatterplot(x=d.iloc[1:, 0], y=d.iloc[1:, 1])\n",
    "        plt.scatter(x=d.iloc[0, 0], y=d.iloc[0, 1], color='r')\n",
    "        plt.xlabel(\"x(pc)\")\n",
    "        plt.ylabel(\"y(pc)\")\n",
    "    return density_list, model"
   ]
  },
  {
   "cell_type": "code",
   "execution_count": 278,
   "id": "academic-master",
   "metadata": {},
   "outputs": [
    {
     "name": "stdout",
     "output_type": "stream",
     "text": [
      "WASP-12\n",
      "(623, 6) (156954, 6)\n"
     ]
    },
    {
     "data": {
      "image/png": "[encoded data removed]",
      "text/plain": [
       "<Figure size 3600x360 with 1 Axes>"
      ]
     },
     "metadata": {
      "needs_background": "light"
     },
     "output_type": "display_data"
    },
    {
     "data": {
      "text/plain": [
       "17.368664850997448"
      ]
     },
     "execution_count": 278,
     "metadata": {},
     "output_type": "execute_result"
    },
    {
     "data": {
      "image/png": "[encoded data removed]",
      "text/plain": [
       "<Figure size 432x288 with 1 Axes>"
      ]
     },
     "metadata": {
      "needs_background": "light"
     },
     "output_type": "display_data"
    }
   ],
   "source": [
    "start = time.perf_counter()\n",
    "density_list, model = get_stars()\n",
    "end = time.perf_counter()\n",
    "end-start"
   ]
  },
  {
   "cell_type": "code",
   "execution_count": null,
   "id": "fiscal-empire",
   "metadata": {},
   "outputs": [],
   "source": []
  },
  {
   "cell_type": "code",
   "execution_count": null,
   "id": "common-pipeline",
   "metadata": {},
   "outputs": [],
   "source": []
  },
  {
   "cell_type": "code",
   "execution_count": null,
   "id": "mysterious-calgary",
   "metadata": {},
   "outputs": [],
   "source": []
  },
  {
   "cell_type": "code",
   "execution_count": null,
   "id": "powered-saturn",
   "metadata": {},
   "outputs": [],
   "source": []
  },
  {
   "cell_type": "code",
   "execution_count": null,
   "id": "fantastic-hebrew",
   "metadata": {},
   "outputs": [],
   "source": []
  },
  {
   "cell_type": "code",
   "execution_count": null,
   "id": "respective-diabetes",
   "metadata": {},
   "outputs": [],
   "source": []
  },
  {
   "cell_type": "code",
   "execution_count": null,
   "id": "juvenile-samoa",
   "metadata": {},
   "outputs": [],
   "source": []
  },
  {
   "cell_type": "code",
   "execution_count": null,
   "id": "played-insurance",
   "metadata": {},
   "outputs": [],
   "source": []
  },
  {
   "cell_type": "code",
   "execution_count": null,
   "id": "metallic-mississippi",
   "metadata": {},
   "outputs": [],
   "source": []
  },
  {
   "cell_type": "code",
   "execution_count": null,
   "id": "human-franklin",
   "metadata": {},
   "outputs": [],
   "source": []
  },
  {
   "cell_type": "code",
   "execution_count": null,
   "id": "mighty-vault",
   "metadata": {},
   "outputs": [],
   "source": []
  },
  {
   "cell_type": "code",
   "execution_count": null,
   "id": "cognitive-michael",
   "metadata": {},
   "outputs": [],
   "source": []
  },
  {
   "cell_type": "code",
   "execution_count": null,
   "id": "settled-trauma",
   "metadata": {},
   "outputs": [],
   "source": []
  },
  {
   "cell_type": "code",
   "execution_count": null,
   "id": "subjective-conclusion",
   "metadata": {},
   "outputs": [],
   "source": []
  },
  {
   "cell_type": "code",
   "execution_count": null,
   "id": "expressed-dollar",
   "metadata": {},
   "outputs": [],
   "source": []
  },
  {
   "cell_type": "code",
   "execution_count": null,
   "id": "buried-memorabilia",
   "metadata": {},
   "outputs": [],
   "source": []
  },
  {
   "cell_type": "code",
   "execution_count": null,
   "id": "alpine-fortune",
   "metadata": {},
   "outputs": [],
   "source": []
  },
  {
   "cell_type": "code",
   "execution_count": null,
   "id": "furnished-airline",
   "metadata": {},
   "outputs": [],
   "source": []
  },
  {
   "cell_type": "code",
   "execution_count": null,
   "id": "occupied-kenya",
   "metadata": {},
   "outputs": [],
   "source": []
  },
  {
   "cell_type": "code",
   "execution_count": null,
   "id": "municipal-union",
   "metadata": {},
   "outputs": [],
   "source": []
  },
  {
   "cell_type": "code",
   "execution_count": null,
   "id": "fatal-insurance",
   "metadata": {},
   "outputs": [],
   "source": []
  },
  {
   "cell_type": "code",
   "execution_count": null,
   "id": "precious-witness",
   "metadata": {},
   "outputs": [],
   "source": []
  },
  {
   "cell_type": "code",
   "execution_count": null,
   "id": "worse-occasions",
   "metadata": {},
   "outputs": [],
   "source": []
  },
  {
   "cell_type": "code",
   "execution_count": null,
   "id": "recovered-luther",
   "metadata": {},
   "outputs": [],
   "source": []
  },
  {
   "cell_type": "code",
   "execution_count": null,
   "id": "nearby-musical",
   "metadata": {},
   "outputs": [],
   "source": []
  },
  {
   "cell_type": "code",
   "execution_count": null,
   "id": "formal-source",
   "metadata": {},
   "outputs": [],
   "source": []
  },
  {
   "cell_type": "code",
   "execution_count": null,
   "id": "vital-creature",
   "metadata": {},
   "outputs": [],
   "source": []
  },
  {
   "cell_type": "code",
   "execution_count": null,
   "id": "exposed-traffic",
   "metadata": {},
   "outputs": [],
   "source": []
  },
  {
   "cell_type": "code",
   "execution_count": null,
   "id": "governmental-carpet",
   "metadata": {},
   "outputs": [],
   "source": []
  },
  {
   "cell_type": "code",
   "execution_count": null,
   "id": "cloudy-entrepreneur",
   "metadata": {},
   "outputs": [],
   "source": []
  },
  {
   "cell_type": "code",
   "execution_count": null,
   "id": "south-going",
   "metadata": {},
   "outputs": [],
   "source": []
  },
  {
   "cell_type": "code",
   "execution_count": null,
   "id": "adopted-sudan",
   "metadata": {},
   "outputs": [],
   "source": []
  },
  {
   "cell_type": "code",
   "execution_count": null,
   "id": "incomplete-verification",
   "metadata": {},
   "outputs": [],
   "source": []
  },
  {
   "cell_type": "code",
   "execution_count": 133,
   "id": "final-satin",
   "metadata": {},
   "outputs": [],
   "source": [
    "def draw_planets(norm_density, planets_list):\n",
    "    # Add second dimension and transpose array to match input format for GaussianMixture\n",
    "    X = np.expand_dims(np.log10(norm_density), axis=0).T\n",
    "\n",
    "    # train GaussianMixture\n",
    "    model = GaussianMixture(2).fit(X)\n",
    "    \n",
    "    colors = [\"b\", \"g\", \"r\", \"m\", \"y\", \"k\"]\n",
    "    \n",
    "    # Define figure params\n",
    "    fig = plt.figure(figsize=(60, 10))\n",
    "    fig.subplots_adjust(left=0.12, right=0.97, bottom=0.21, top=0.9, wspace=0.5)\n",
    "    ax = fig.add_subplot(131)\n",
    "\n",
    "    x = np.linspace(-6, 6, 1000)\n",
    "    logprob = model.score_samples(x.reshape(-1, 1))\n",
    "    responsibilities = model.predict_proba(x.reshape(-1, 1))\n",
    "    pdf = np.exp(logprob)\n",
    "    pdf_individual = responsibilities * pdf[:, np.newaxis]\n",
    "    \n",
    "    # draw chosen planets\n",
    "    \n",
    "    o = 0\n",
    "    for i in planets_list:\n",
    "        plt.axvline(x=i[1], color=colors[o], label=f\"{i[0]}: {i[1]}\")\n",
    "        o += 1\n",
    "            \n",
    "    ax.hist(X, 30, density=True, histtype='stepfilled', alpha=0.4)\n",
    "    # Add combined kde line\n",
    "    ax.plot(x, pdf, '-k')\n",
    "    # Add individual lines for low and high density\n",
    "    ax.plot(x, pdf_individual, '--k')\n",
    "    ax.text(0.04, 0.96, \"Best-fit Mixture\", ha='left', va='top', transform=ax.transAxes)\n",
    "    \n",
    "    plt.legend(fontsize=12)\n",
    "    ax.set_xlabel('$x$')\n",
    "    ax.set_ylabel('$p(x)$')\n",
    "    plt.savefig(\"plot_v1.png\", bbox_inches='tight')\n",
    "    plt.show()\n",
    "    \n",
    "    return model"
   ]
  },
  {
   "cell_type": "code",
   "execution_count": 134,
   "id": "expressed-london",
   "metadata": {},
   "outputs": [],
   "source": [
    "planets_dense = pd.read_csv(\"planets_dense_6d.csv\")"
   ]
  },
  {
   "cell_type": "code",
   "execution_count": 156,
   "id": "stone-romance",
   "metadata": {},
   "outputs": [
    {
     "data": {
      "image/png": "[encoded data removed]",
      "text/plain": [
       "<Figure size 4320x720 with 1 Axes>"
      ]
     },
     "metadata": {
      "needs_background": "light"
     },
     "output_type": "display_data"
    },
    {
     "data": {
      "text/plain": [
       "GaussianMixture(n_components=2)"
      ]
     },
     "execution_count": 156,
     "metadata": {},
     "output_type": "execute_result"
    }
   ],
   "source": [
    "draw_planets(density_list[0], [planets_dense.iloc[0, :].values])"
   ]
  },
  {
   "cell_type": "code",
   "execution_count": 149,
   "id": "stuck-prototype",
   "metadata": {},
   "outputs": [
    {
     "data": {
      "image/png": "[encoded data removed]",
      "text/plain": [
       "<Figure size 4320x720 with 1 Axes>"
      ]
     },
     "metadata": {
      "needs_background": "light"
     },
     "output_type": "display_data"
    },
    {
     "data": {
      "text/plain": [
       "GaussianMixture(n_components=2)"
      ]
     },
     "execution_count": 149,
     "metadata": {},
     "output_type": "execute_result"
    }
   ],
   "source": [
    "draw_planets(density_list[0], planets_dense.sample(n=6).values)"
   ]
  },
  {
   "cell_type": "code",
   "execution_count": 72,
   "id": "headed-procedure",
   "metadata": {},
   "outputs": [
    {
     "data": {
      "text/html": [
       "<div>\n",
       "<style scoped>\n",
       "    .dataframe tbody tr th:only-of-type {\n",
       "        vertical-align: middle;\n",
       "    }\n",
       "\n",
       "    .dataframe tbody tr th {\n",
       "        vertical-align: top;\n",
       "    }\n",
       "\n",
       "    .dataframe thead th {\n",
       "        text-align: right;\n",
       "    }\n",
       "</style>\n",
       "<table border=\"1\" class=\"dataframe\">\n",
       "  <thead>\n",
       "    <tr style=\"text-align: right;\">\n",
       "      <th></th>\n",
       "      <th>index</th>\n",
       "      <th>density</th>\n",
       "      <th>distance_pc</th>\n",
       "      <th>x</th>\n",
       "      <th>y</th>\n",
       "      <th>z</th>\n",
       "      <th>vx</th>\n",
       "      <th>vy</th>\n",
       "      <th>vz</th>\n",
       "    </tr>\n",
       "  </thead>\n",
       "  <tbody>\n",
       "    <tr>\n",
       "      <th>0</th>\n",
       "      <td>4.0</td>\n",
       "      <td>-1.862311</td>\n",
       "      <td>4.533882</td>\n",
       "      <td>3.719793</td>\n",
       "      <td>-0.186641</td>\n",
       "      <td>-2.585420</td>\n",
       "      <td>69.817767</td>\n",
       "      <td>-13.857311</td>\n",
       "      <td>-77.070225</td>\n",
       "    </tr>\n",
       "    <tr>\n",
       "      <th>1</th>\n",
       "      <td>7.0</td>\n",
       "      <td>-0.882302</td>\n",
       "      <td>8.251274</td>\n",
       "      <td>6.737695</td>\n",
       "      <td>3.800255</td>\n",
       "      <td>-2.871419</td>\n",
       "      <td>164.664820</td>\n",
       "      <td>53.223959</td>\n",
       "      <td>-84.625623</td>\n",
       "    </tr>\n",
       "    <tr>\n",
       "      <th>2</th>\n",
       "      <td>30.0</td>\n",
       "      <td>-1.484875</td>\n",
       "      <td>2.974852</td>\n",
       "      <td>2.527311</td>\n",
       "      <td>0.167956</td>\n",
       "      <td>-1.560204</td>\n",
       "      <td>5.279663</td>\n",
       "      <td>-4.895415</td>\n",
       "      <td>-28.628855</td>\n",
       "    </tr>\n",
       "    <tr>\n",
       "      <th>3</th>\n",
       "      <td>59.0</td>\n",
       "      <td>3.995439</td>\n",
       "      <td>13.093292</td>\n",
       "      <td>11.436229</td>\n",
       "      <td>1.327061</td>\n",
       "      <td>-6.235854</td>\n",
       "      <td>45.514479</td>\n",
       "      <td>-33.959848</td>\n",
       "      <td>-114.773070</td>\n",
       "    </tr>\n",
       "    <tr>\n",
       "      <th>4</th>\n",
       "      <td>63.0</td>\n",
       "      <td>0.684720</td>\n",
       "      <td>51.907321</td>\n",
       "      <td>20.418319</td>\n",
       "      <td>9.380248</td>\n",
       "      <td>-46.791807</td>\n",
       "      <td>-114.175047</td>\n",
       "      <td>-145.084068</td>\n",
       "      <td>-52.722591</td>\n",
       "    </tr>\n",
       "    <tr>\n",
       "      <th>...</th>\n",
       "      <td>...</td>\n",
       "      <td>...</td>\n",
       "      <td>...</td>\n",
       "      <td>...</td>\n",
       "      <td>...</td>\n",
       "      <td>...</td>\n",
       "      <td>...</td>\n",
       "      <td>...</td>\n",
       "      <td>...</td>\n",
       "    </tr>\n",
       "    <tr>\n",
       "      <th>1183</th>\n",
       "      <td>37225.0</td>\n",
       "      <td>-1.353971</td>\n",
       "      <td>10.245985</td>\n",
       "      <td>9.748607</td>\n",
       "      <td>0.637457</td>\n",
       "      <td>3.088451</td>\n",
       "      <td>68.670374</td>\n",
       "      <td>13.270998</td>\n",
       "      <td>17.251395</td>\n",
       "    </tr>\n",
       "    <tr>\n",
       "      <th>1184</th>\n",
       "      <td>37226.0</td>\n",
       "      <td>3.771723</td>\n",
       "      <td>8.989737</td>\n",
       "      <td>8.170781</td>\n",
       "      <td>-3.484240</td>\n",
       "      <td>1.383394</td>\n",
       "      <td>-14.291366</td>\n",
       "      <td>-14.384641</td>\n",
       "      <td>40.588183</td>\n",
       "    </tr>\n",
       "    <tr>\n",
       "      <th>1185</th>\n",
       "      <td>37236.0</td>\n",
       "      <td>3.770013</td>\n",
       "      <td>15.479630</td>\n",
       "      <td>6.591978</td>\n",
       "      <td>8.106239</td>\n",
       "      <td>11.421632</td>\n",
       "      <td>78.596414</td>\n",
       "      <td>56.775948</td>\n",
       "      <td>-91.342811</td>\n",
       "    </tr>\n",
       "    <tr>\n",
       "      <th>1186</th>\n",
       "      <td>37257.0</td>\n",
       "      <td>2.762642</td>\n",
       "      <td>13.056399</td>\n",
       "      <td>12.522339</td>\n",
       "      <td>0.873464</td>\n",
       "      <td>3.591328</td>\n",
       "      <td>-294.600584</td>\n",
       "      <td>-25.907465</td>\n",
       "      <td>-6.751603</td>\n",
       "    </tr>\n",
       "    <tr>\n",
       "      <th>1187</th>\n",
       "      <td>37290.0</td>\n",
       "      <td>0.581291</td>\n",
       "      <td>5.009950</td>\n",
       "      <td>-0.913077</td>\n",
       "      <td>-4.914437</td>\n",
       "      <td>-0.337929</td>\n",
       "      <td>-5.583683</td>\n",
       "      <td>-24.146699</td>\n",
       "      <td>19.099984</td>\n",
       "    </tr>\n",
       "  </tbody>\n",
       "</table>\n",
       "<p>1188 rows × 9 columns</p>\n",
       "</div>"
      ],
      "text/plain": [
       "        index   density  distance_pc          x         y          z  \\\n",
       "0         4.0 -1.862311     4.533882   3.719793 -0.186641  -2.585420   \n",
       "1         7.0 -0.882302     8.251274   6.737695  3.800255  -2.871419   \n",
       "2        30.0 -1.484875     2.974852   2.527311  0.167956  -1.560204   \n",
       "3        59.0  3.995439    13.093292  11.436229  1.327061  -6.235854   \n",
       "4        63.0  0.684720    51.907321  20.418319  9.380248 -46.791807   \n",
       "...       ...       ...          ...        ...       ...        ...   \n",
       "1183  37225.0 -1.353971    10.245985   9.748607  0.637457   3.088451   \n",
       "1184  37226.0  3.771723     8.989737   8.170781 -3.484240   1.383394   \n",
       "1185  37236.0  3.770013    15.479630   6.591978  8.106239  11.421632   \n",
       "1186  37257.0  2.762642    13.056399  12.522339  0.873464   3.591328   \n",
       "1187  37290.0  0.581291     5.009950  -0.913077 -4.914437  -0.337929   \n",
       "\n",
       "              vx          vy          vz  \n",
       "0      69.817767  -13.857311  -77.070225  \n",
       "1     164.664820   53.223959  -84.625623  \n",
       "2       5.279663   -4.895415  -28.628855  \n",
       "3      45.514479  -33.959848 -114.773070  \n",
       "4    -114.175047 -145.084068  -52.722591  \n",
       "...          ...         ...         ...  \n",
       "1183   68.670374   13.270998   17.251395  \n",
       "1184  -14.291366  -14.384641   40.588183  \n",
       "1185   78.596414   56.775948  -91.342811  \n",
       "1186 -294.600584  -25.907465   -6.751603  \n",
       "1187   -5.583683  -24.146699   19.099984  \n",
       "\n",
       "[1188 rows x 9 columns]"
      ]
     },
     "execution_count": 72,
     "metadata": {},
     "output_type": "execute_result"
    }
   ],
   "source": [
    "planets_dense.sample(n=3)"
   ]
  },
  {
   "cell_type": "code",
   "execution_count": 333,
   "id": "fossil-announcement",
   "metadata": {},
   "outputs": [],
   "source": [
    "planets_dense = pd.read_csv(\"planets_dense_6d.csv\").to_numpy()"
   ]
  },
  {
   "cell_type": "code",
   "execution_count": 334,
   "id": "exotic-vacuum",
   "metadata": {},
   "outputs": [],
   "source": [
    "np.set_printoptions(suppress=True)"
   ]
  },
  {
   "cell_type": "code",
   "execution_count": 335,
   "id": "laughing-relay",
   "metadata": {},
   "outputs": [
    {
     "data": {
      "text/plain": [
       "528"
      ]
     },
     "execution_count": 335,
     "metadata": {},
     "output_type": "execute_result"
    }
   ],
   "source": [
    "planets_dense.argmin()"
   ]
  },
  {
   "cell_type": "code",
   "execution_count": 336,
   "id": "insured-chase",
   "metadata": {},
   "outputs": [
    {
     "data": {
      "text/plain": [
       "array([[-4.41498405],\n",
       "       [ 0.56083123],\n",
       "       [ 0.54895838],\n",
       "       [-2.96608311],\n",
       "       [-2.97140155],\n",
       "       [-1.0208333 ],\n",
       "       [ 1.18967361],\n",
       "       [ 5.78589047],\n",
       "       [ 1.63797022],\n",
       "       [-0.47671442]])"
      ]
     },
     "execution_count": 336,
     "metadata": {},
     "output_type": "execute_result"
    }
   ],
   "source": [
    "planets_dense[120:130]"
   ]
  },
  {
   "cell_type": "markdown",
   "id": "second-sperm",
   "metadata": {},
   "source": [
    "# 5d"
   ]
  },
  {
   "cell_type": "code",
   "execution_count": 268,
   "id": "british-cleaning",
   "metadata": {},
   "outputs": [
    {
     "data": {
      "text/plain": [
       "array([[0.06022823, 0.93977177],\n",
       "       [0.74635127, 0.25364873],\n",
       "       [0.74669733, 0.25330267],\n",
       "       [0.34364592, 0.65635408],\n",
       "       [0.34237824, 0.65762176],\n",
       "       [0.67535068, 0.32464932],\n",
       "       [0.58436298, 0.41563702],\n",
       "       [0.00502124, 0.99497876],\n",
       "       [0.62975968, 0.37024032],\n",
       "       [0.74552535, 0.25447465]])"
      ]
     },
     "execution_count": 268,
     "metadata": {},
     "output_type": "execute_result"
    }
   ],
   "source": [
    "model.predict_proba(planets_dense)[120:130]"
   ]
  },
  {
   "cell_type": "markdown",
   "id": "cellular-gentleman",
   "metadata": {},
   "source": [
    "# 6d"
   ]
  },
  {
   "cell_type": "code",
   "execution_count": 337,
   "id": "parental-withdrawal",
   "metadata": {},
   "outputs": [
    {
     "data": {
      "text/plain": [
       "array([[0.93862448, 0.06137552],\n",
       "       [0.71213179, 0.28786821],\n",
       "       [0.71386274, 0.28613726],\n",
       "       [0.92780937, 0.07219063],\n",
       "       [0.92788797, 0.07211203],\n",
       "       [0.86522472, 0.13477528],\n",
       "       [0.60578478, 0.39421522],\n",
       "       [0.00878331, 0.99121669],\n",
       "       [0.5141224 , 0.4858776 ],\n",
       "       [0.82788478, 0.17211522]])"
      ]
     },
     "execution_count": 337,
     "metadata": {},
     "output_type": "execute_result"
    }
   ],
   "source": [
    "model.predict_proba(planets_dense)[120:130]"
   ]
  }
 ],
 "metadata": {
  "kernelspec": {
   "display_name": "Python 3",
   "language": "python",
   "name": "python3"
  },
  "language_info": {
   "codemirror_mode": {
    "name": "ipython",
    "version": 3
   },
   "file_extension": ".py",
   "mimetype": "text/x-python",
   "name": "python",
   "nbconvert_exporter": "python",
   "pygments_lexer": "ipython3",
   "version": "3.8.6"
  }
 },
 "nbformat": 4,
 "nbformat_minor": 5
}
