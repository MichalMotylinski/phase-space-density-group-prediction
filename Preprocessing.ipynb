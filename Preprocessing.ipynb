{
 "cells": [
  {
   "cell_type": "code",
   "execution_count": 1,
   "id": "serial-linux",
   "metadata": {},
   "outputs": [],
   "source": [
    "import pandas as pd\n",
    "import os\n",
    "import seaborn as sns\n",
    "import numpy as np\n",
    "import scipy as sp\n",
    "import coord_transform as coord\n",
    "import time\n",
    "from scipy.spatial import distance\n",
    "from matplotlib import pyplot as plt\n",
    "import numpy as np\n",
    "from sklearn.mixture import GaussianMixture\n",
    "from dask import delayed\n",
    "import dask.dataframe as dd\n",
    "from dask.distributed import Client, LocalCluster# this is experimental\n",
    "from dask_cuda import LocalCUDACluster\n",
    "from dask.dataframe import from_pandas\n",
    "import dask.array as da\n",
    "import dask.bag as db\n",
    "import cupy as cp\n",
    "from numba import cuda\n",
    "from numba import roc\n",
    "from numba import njit\n",
    "import numba as nb\n",
    "import dask\n",
    "import dask_cudf\n",
    "import gc\n",
    "import cupy\n",
    "import cudf\n",
    "import os\n",
    "import time\n",
    "import math\n",
    "from multiprocessing import Pool\n",
    "from itertools import product\n",
    "from numba import prange"
   ]
  },
  {
   "cell_type": "code",
   "execution_count": 2,
   "id": "romantic-gender",
   "metadata": {},
   "outputs": [],
   "source": [
    "df = cudf.read_csv(\"gaia.csv\")"
   ]
  },
  {
   "cell_type": "markdown",
   "id": "unavailable-northeast",
   "metadata": {},
   "source": [
    "# Reduce data"
   ]
  },
  {
   "cell_type": "code",
   "execution_count": 3,
   "id": "prime-korea",
   "metadata": {},
   "outputs": [],
   "source": [
    "df = df[4.5 > df[\"parallax\"]/df[\"parallax_error\"]]"
   ]
  },
  {
   "cell_type": "markdown",
   "id": "pleased-eclipse",
   "metadata": {},
   "source": [
    "# Calculate distance in pc"
   ]
  },
  {
   "cell_type": "code",
   "execution_count": 4,
   "id": "instrumental-victory",
   "metadata": {},
   "outputs": [],
   "source": [
    "df[\"distance_pc\"] = 1./df[\"parallax\"]"
   ]
  },
  {
   "cell_type": "code",
   "execution_count": 5,
   "id": "russian-vegetable",
   "metadata": {},
   "outputs": [],
   "source": [
    "df = df[df[\"distance_pc\"]>0]"
   ]
  },
  {
   "cell_type": "markdown",
   "id": "agricultural-inventory",
   "metadata": {},
   "source": [
    "# Converting from spherical to cartesian coordinates"
   ]
  },
  {
   "cell_type": "code",
   "execution_count": 6,
   "id": "indoor-emphasis",
   "metadata": {},
   "outputs": [],
   "source": [
    "df[\"x\"], df[\"y\"], df[\"z\"] = coord.sph2cart(df[\"distance_pc\"], df[\"ra\"], df[\"dec\"])"
   ]
  },
  {
   "cell_type": "code",
   "execution_count": 7,
   "id": "civilian-canal",
   "metadata": {},
   "outputs": [],
   "source": [
    "df[\"vx\"],df[\"vy\"],df[\"vz\"] = coord.vsph2cart(df[\"dr2_radial_velocity\"], df[\"pmra\"], df[\"pmdec\"], df[\"distance_pc\"], df[\"ra\"], df[\"dec\"])"
   ]
  },
  {
   "cell_type": "code",
   "execution_count": 8,
   "id": "otherwise-saver",
   "metadata": {},
   "outputs": [],
   "source": [
    "df = df.drop(df.columns[:13], axis=1)"
   ]
  },
  {
   "cell_type": "markdown",
   "id": "noted-league",
   "metadata": {},
   "source": [
    "# Divide set into planets and stars sets. This is only for testing purposes"
   ]
  },
  {
   "cell_type": "code",
   "execution_count": 9,
   "id": "statewide-venture",
   "metadata": {},
   "outputs": [],
   "source": [
    "df[\"index\"] = df.index"
   ]
  },
  {
   "cell_type": "code",
   "execution_count": 10,
   "id": "impaired-summary",
   "metadata": {},
   "outputs": [],
   "source": [
    "planets = df[df[\"index\"] < 175000].to_pandas()"
   ]
  },
  {
   "cell_type": "code",
   "execution_count": 11,
   "id": "caring-metropolitan",
   "metadata": {},
   "outputs": [
    {
     "data": {
      "text/html": [
       "<div>\n",
       "<style scoped>\n",
       "    .dataframe tbody tr th:only-of-type {\n",
       "        vertical-align: middle;\n",
       "    }\n",
       "\n",
       "    .dataframe tbody tr th {\n",
       "        vertical-align: top;\n",
       "    }\n",
       "\n",
       "    .dataframe thead th {\n",
       "        text-align: right;\n",
       "    }\n",
       "</style>\n",
       "<table border=\"1\" class=\"dataframe\">\n",
       "  <thead>\n",
       "    <tr style=\"text-align: right;\">\n",
       "      <th></th>\n",
       "      <th>distance_pc</th>\n",
       "      <th>x</th>\n",
       "      <th>y</th>\n",
       "      <th>z</th>\n",
       "      <th>vx</th>\n",
       "      <th>vy</th>\n",
       "      <th>vz</th>\n",
       "      <th>index</th>\n",
       "    </tr>\n",
       "  </thead>\n",
       "  <tbody>\n",
       "    <tr>\n",
       "      <th>4</th>\n",
       "      <td>4.533882</td>\n",
       "      <td>3.719793</td>\n",
       "      <td>-0.186641</td>\n",
       "      <td>-2.585420</td>\n",
       "      <td>69.817767</td>\n",
       "      <td>-13.857311</td>\n",
       "      <td>-77.070225</td>\n",
       "      <td>4</td>\n",
       "    </tr>\n",
       "    <tr>\n",
       "      <th>7</th>\n",
       "      <td>8.251274</td>\n",
       "      <td>6.737695</td>\n",
       "      <td>3.800255</td>\n",
       "      <td>-2.871419</td>\n",
       "      <td>164.664820</td>\n",
       "      <td>53.223959</td>\n",
       "      <td>-84.625623</td>\n",
       "      <td>7</td>\n",
       "    </tr>\n",
       "    <tr>\n",
       "      <th>30</th>\n",
       "      <td>2.974852</td>\n",
       "      <td>2.527311</td>\n",
       "      <td>0.167956</td>\n",
       "      <td>-1.560204</td>\n",
       "      <td>5.279663</td>\n",
       "      <td>-4.895415</td>\n",
       "      <td>-28.628855</td>\n",
       "      <td>30</td>\n",
       "    </tr>\n",
       "    <tr>\n",
       "      <th>59</th>\n",
       "      <td>13.093292</td>\n",
       "      <td>11.436229</td>\n",
       "      <td>1.327061</td>\n",
       "      <td>-6.235854</td>\n",
       "      <td>45.514479</td>\n",
       "      <td>-33.959848</td>\n",
       "      <td>-114.773070</td>\n",
       "      <td>59</td>\n",
       "    </tr>\n",
       "    <tr>\n",
       "      <th>63</th>\n",
       "      <td>51.907321</td>\n",
       "      <td>20.418319</td>\n",
       "      <td>9.380248</td>\n",
       "      <td>-46.791807</td>\n",
       "      <td>-114.175047</td>\n",
       "      <td>-145.084068</td>\n",
       "      <td>-52.722591</td>\n",
       "      <td>63</td>\n",
       "    </tr>\n",
       "    <tr>\n",
       "      <th>...</th>\n",
       "      <td>...</td>\n",
       "      <td>...</td>\n",
       "      <td>...</td>\n",
       "      <td>...</td>\n",
       "      <td>...</td>\n",
       "      <td>...</td>\n",
       "      <td>...</td>\n",
       "      <td>...</td>\n",
       "    </tr>\n",
       "    <tr>\n",
       "      <th>174672</th>\n",
       "      <td>17.869305</td>\n",
       "      <td>0.437873</td>\n",
       "      <td>-8.620749</td>\n",
       "      <td>-15.646182</td>\n",
       "      <td>-40.882283</td>\n",
       "      <td>98.287504</td>\n",
       "      <td>-6.178595</td>\n",
       "      <td>174672</td>\n",
       "    </tr>\n",
       "    <tr>\n",
       "      <th>174681</th>\n",
       "      <td>17.423250</td>\n",
       "      <td>-0.331502</td>\n",
       "      <td>-13.574329</td>\n",
       "      <td>-10.917753</td>\n",
       "      <td>56.718015</td>\n",
       "      <td>106.723114</td>\n",
       "      <td>25.147908</td>\n",
       "      <td>174681</td>\n",
       "    </tr>\n",
       "    <tr>\n",
       "      <th>174825</th>\n",
       "      <td>1.389500</td>\n",
       "      <td>-0.292824</td>\n",
       "      <td>-0.309821</td>\n",
       "      <td>-1.322489</td>\n",
       "      <td>-7.098680</td>\n",
       "      <td>-5.022415</td>\n",
       "      <td>-17.711709</td>\n",
       "      <td>174825</td>\n",
       "    </tr>\n",
       "    <tr>\n",
       "      <th>174892</th>\n",
       "      <td>13.600626</td>\n",
       "      <td>5.164722</td>\n",
       "      <td>-11.523291</td>\n",
       "      <td>5.051378</td>\n",
       "      <td>-74.321204</td>\n",
       "      <td>-79.899271</td>\n",
       "      <td>33.808291</td>\n",
       "      <td>174892</td>\n",
       "    </tr>\n",
       "    <tr>\n",
       "      <th>174908</th>\n",
       "      <td>0.658556</td>\n",
       "      <td>0.265443</td>\n",
       "      <td>-0.543696</td>\n",
       "      <td>0.260060</td>\n",
       "      <td>-8.153204</td>\n",
       "      <td>16.295340</td>\n",
       "      <td>-8.209072</td>\n",
       "      <td>174908</td>\n",
       "    </tr>\n",
       "  </tbody>\n",
       "</table>\n",
       "<p>4332 rows × 8 columns</p>\n",
       "</div>"
      ],
      "text/plain": [
       "        distance_pc          x          y          z          vx          vy  \\\n",
       "4          4.533882   3.719793  -0.186641  -2.585420   69.817767  -13.857311   \n",
       "7          8.251274   6.737695   3.800255  -2.871419  164.664820   53.223959   \n",
       "30         2.974852   2.527311   0.167956  -1.560204    5.279663   -4.895415   \n",
       "59        13.093292  11.436229   1.327061  -6.235854   45.514479  -33.959848   \n",
       "63        51.907321  20.418319   9.380248 -46.791807 -114.175047 -145.084068   \n",
       "...             ...        ...        ...        ...         ...         ...   \n",
       "174672    17.869305   0.437873  -8.620749 -15.646182  -40.882283   98.287504   \n",
       "174681    17.423250  -0.331502 -13.574329 -10.917753   56.718015  106.723114   \n",
       "174825     1.389500  -0.292824  -0.309821  -1.322489   -7.098680   -5.022415   \n",
       "174892    13.600626   5.164722 -11.523291   5.051378  -74.321204  -79.899271   \n",
       "174908     0.658556   0.265443  -0.543696   0.260060   -8.153204   16.295340   \n",
       "\n",
       "                vz   index  \n",
       "4       -77.070225       4  \n",
       "7       -84.625623       7  \n",
       "30      -28.628855      30  \n",
       "59     -114.773070      59  \n",
       "63      -52.722591      63  \n",
       "...            ...     ...  \n",
       "174672   -6.178595  174672  \n",
       "174681   25.147908  174681  \n",
       "174825  -17.711709  174825  \n",
       "174892   33.808291  174892  \n",
       "174908   -8.209072  174908  \n",
       "\n",
       "[4332 rows x 8 columns]"
      ]
     },
     "execution_count": 11,
     "metadata": {},
     "output_type": "execute_result"
    }
   ],
   "source": [
    "planets"
   ]
  },
  {
   "cell_type": "code",
   "execution_count": 12,
   "id": "flexible-means",
   "metadata": {},
   "outputs": [],
   "source": [
    "df = df[df[\"index\"] > 175000]"
   ]
  },
  {
   "cell_type": "code",
   "execution_count": 13,
   "id": "determined-circus",
   "metadata": {},
   "outputs": [],
   "source": [
    "np_df = df.to_pandas().to_numpy()"
   ]
  },
  {
   "cell_type": "code",
   "execution_count": 14,
   "id": "raising-gentleman",
   "metadata": {},
   "outputs": [],
   "source": [
    "planets_densities = pd.read_csv(\"planets_dense_6d.csv\")"
   ]
  },
  {
   "cell_type": "markdown",
   "id": "suited-distance",
   "metadata": {},
   "source": [
    "### Function creating 2 sets of data.\n",
    "### Set1 consists of stars within 40pc from target planet. \n",
    "### Set2 consists of stars within 80pc from target planet."
   ]
  },
  {
   "cell_type": "code",
   "execution_count": 28,
   "id": "armed-pizza",
   "metadata": {},
   "outputs": [],
   "source": [
    "@njit\n",
    "def to_sets(target):\n",
    "    dist1 = 40\n",
    "    dist2 = 80\n",
    "    \n",
    "    set1 = []\n",
    "    set2 = []\n",
    "    for j in range(np_df.shape[0]):\n",
    "        # Calculate distance with an equivalent of np.linalg.norm function which is not supported by numba.\n",
    "        z = np.zeros(shape=target.shape)\n",
    "        for i in range(len(target)):\n",
    "            z[i] = target[i] - np_df[j][i]\n",
    "        dist = np.sqrt(np.sum(z**2, 0))\n",
    "        \n",
    "        # Check if value fits into a predefined range and if so add value to an appropriate array.\n",
    "        # TO DO: python lists are very inefficient and should be replaced.\n",
    "        if dist < dist1:\n",
    "            set1.append([np_df[j][1], np_df[j][2], np_df[j][3], np_df[j][4], np_df[j][5], np_df[j][6]])\n",
    "        if dist < dist2:\n",
    "            set2.append([np_df[j][1], np_df[j][2], np_df[j][3], np_df[j][4], np_df[j][5], np_df[j][6]])\n",
    "\n",
    "    \n",
    "    # Calculate covariance matrix\n",
    "    set1 = np.array(set1)\n",
    "    set2 = np.array(set2)\n",
    "    \n",
    "    # Below code is designed to run entire pipeline with numba however so far it is slower, thus it should not be used\n",
    "    \"\"\"res = np.zeros(set2.T.shape[0])\n",
    "    for i in prange(set2.T.shape[0]):\n",
    "        res[i] = set2.T[i, :].mean()\n",
    "    res = set2 - res\n",
    "    fact = set2.shape[0] - 1 \n",
    "\n",
    "    # Invert covariance matrix\n",
    "    set2_inv = np.linalg.inv(np.dot(res.T, res.conj()) / fact)\n",
    "    \n",
    "    mah_dist_arr = np.zeros(10000)\n",
    "    for i in range(set1.shape[0]):\n",
    "        if i == 10000:\n",
    "            break\n",
    "        # Create an array with infinite numbers. for 20 closest stars.\n",
    "        # The idea here is that as the new values are being calculated the largest values will be replaced in the list.\n",
    "        mahal_dist = np.full(20, np.inf, dtype=\"float64\")\n",
    "\n",
    "        for j in range(0, set2.shape[0]):\n",
    "            # Below is a manual implementation of mahalanobis distance as numba does not support scipy function.\n",
    "            set2_inv = np.atleast_2d(set2_inv)\n",
    "            delta = set2[i] - set2[j]\n",
    "            m = np.dot(np.dot(delta, set2_inv), delta)\n",
    "\n",
    "            # New value is compared to currently stored values and if it replaces the highest value if new value < highest value in the set.\n",
    "            if np.sqrt(m) < mahal_dist.max():\n",
    "                mahal_dist[mahal_dist.argmax()] = np.sqrt(m)\n",
    "        mah_dist_arr[i] = mahal_dist.max()\n",
    "        # Return 20th closest neighbour, which in this case is the last value in the set.\n",
    "    \n",
    "    density = 20/(mah_dist_arr)**6\n",
    "    norm_density = density/np.median(density)\n",
    "    return norm_density\"\"\"\n",
    "    return set1, set2"
   ]
  },
  {
   "cell_type": "markdown",
   "id": "german-supplier",
   "metadata": {},
   "source": [
    "### For every star in set1 calculate mahalanobis distance to every star in set2. Store only 20 closest stars in an array. Then pick the 20th closest star from the planet "
   ]
  },
  {
   "cell_type": "code",
   "execution_count": 29,
   "id": "moderate-object",
   "metadata": {},
   "outputs": [],
   "source": [
    "@njit\n",
    "def calc_mah(i, set2, set2_inv):\n",
    "\n",
    "    # Create an array with infinite numbers. for 20 closest stars.\n",
    "    # The idea here is that as the new values are being calculated the largest values will be replaced in the list.\n",
    "    mahal_dist = np.full(20, np.inf, dtype=\"float64\")\n",
    "    \n",
    "    for j in range(0, set2.shape[0]):\n",
    "        # Below is a manual implementation of mahalanobis distance as numba does not support scipy function.\n",
    "        set2_inv = np.atleast_2d(set2_inv)\n",
    "        delta = set2[i] - set2[j]\n",
    "        m = np.dot(np.dot(delta, set2_inv), delta)\n",
    "\n",
    "        # New value is compared to currently stored values and if it replaces the highest value if new value < highest value in the set.\n",
    "        if np.sqrt(m) < mahal_dist.max():\n",
    "            mahal_dist[mahal_dist.argmax()] = np.sqrt(m)\n",
    "    \n",
    "    # Return 20th closest neighbour, which in this case is the last value in the set.\n",
    "    return mahal_dist.max()"
   ]
  },
  {
   "cell_type": "markdown",
   "id": "invisible-shift",
   "metadata": {},
   "source": [
    "### Convert mahalanobis distances of all stars in set1 to density"
   ]
  },
  {
   "cell_type": "code",
   "execution_count": 30,
   "id": "future-greece",
   "metadata": {},
   "outputs": [],
   "source": [
    "@njit\n",
    "def calc_dense(mah_dist_arr):\n",
    "    density = 20/(mah_dist_arr)**6\n",
    "    norm_density = density/np.median(density)\n",
    "    return norm_density"
   ]
  },
  {
   "cell_type": "markdown",
   "id": "positive-perth",
   "metadata": {},
   "source": [
    "### Use density to create GausianMixture model and draw low and high density groups"
   ]
  },
  {
   "cell_type": "code",
   "execution_count": 31,
   "id": "instrumental-combination",
   "metadata": {},
   "outputs": [],
   "source": [
    "def draw(norm_density, planet):\n",
    "    # Add second dimension and transpose array to match input format for GaussianMixture\n",
    "    X = np.expand_dims(np.log10(norm_density), axis=0).T\n",
    "\n",
    "    # train GaussianMixture\n",
    "    model = GaussianMixture(2).fit(X)\n",
    "\n",
    "    # Define figure params\n",
    "    fig = plt.figure(figsize=(50, 5))\n",
    "    fig.subplots_adjust(left=0.12, right=0.97, bottom=0.21, top=0.9, wspace=0.5)\n",
    "    ax = fig.add_subplot(131)\n",
    "\n",
    "    x = np.linspace(-6, 6, 1000)\n",
    "    logprob = model.score_samples(x.reshape(-1, 1))\n",
    "    responsibilities = model.predict_proba(x.reshape(-1, 1))\n",
    "    pdf = np.exp(logprob)\n",
    "    pdf_individual = responsibilities * pdf[:, np.newaxis]\n",
    "    \n",
    "    plt.axvline(x=planet[1], color=\"r\", label=f\"{planet[0]}: {planet[1]}\")\n",
    "\n",
    "    ax.hist(X, 30, density=True, histtype='stepfilled', alpha=0.4)\n",
    "    # Add combined kde line\n",
    "    ax.plot(x, pdf, '-k')\n",
    "    # Add individual lines for low and high density\n",
    "    ax.plot(x, pdf_individual, '--k')\n",
    "    ax.text(0.04, 0.96, \"Best-fit Mixture\", ha='left', va='top', transform=ax.transAxes)\n",
    "\n",
    "    ax.set_xlabel('$x$')\n",
    "    ax.set_ylabel('$p(x)$')\n",
    "    plt.legend()\n",
    "    plt.savefig(\"plot_v1.png\", bbox_inches='tight')\n",
    "    plt.show()\n",
    "    \n",
    "    return model"
   ]
  },
  {
   "cell_type": "markdown",
   "id": "liable-childhood",
   "metadata": {},
   "source": [
    "### Loop through all planets and apply above functions. \n",
    "### For testing purposes I am using only 3 planets and 1000 stars from set1. This takes around 90 seconds on my PC to compute. At the moment for planet with 150000 neighbours within 40pc it would take around 1 hour and 10 minutes to compute."
   ]
  },
  {
   "cell_type": "code",
   "execution_count": 39,
   "id": "indoor-nigeria",
   "metadata": {},
   "outputs": [],
   "source": [
    "def get_stars():\n",
    "    o=0\n",
    "    density_list = []\n",
    "    model = 0\n",
    "    for i, row in planets.iterrows():\n",
    "        if o == 1:\n",
    "            break\n",
    "        o = o + 1\n",
    "        \n",
    "        # Get coordinates of the planet\n",
    "        target = np.array([row[1], row[2], row[3]])\n",
    "        \n",
    "        # Create two sets of stars:\n",
    "        # set1 - closest stars in 40pc range from planet\n",
    "        # set2 - closest stars in 80pc range from planet\n",
    "        \"norm_density = to_sets(target)\"\n",
    "        set1, set2 = to_sets(target)\n",
    "        \n",
    "        # Below operations are temporarely here because numba does not support them but finally they will be changed moved to a separate function.\n",
    "        # TO DO: Convert to format acceptable by numba\n",
    "\n",
    "        set2_cov_mat = np.cov(set2.T) # Calculate the covariance matrix\n",
    "        set2_inv = np.linalg.inv(set2_cov_mat) # Invert\n",
    "\n",
    "        # Temporarely calculate mahalanobis distance for 600 closest stars. Final version will loop through all neighbours within 40pc.\n",
    "        mah_dist_arr = np.zeros(600)\n",
    "        for j in range(set1.shape[0]):\n",
    "            if j == 600:\n",
    "                break\n",
    "            # Save calculated distances\n",
    "            mah_dist_arr[j] = (calc_mah(j, set2, set2_inv))\n",
    "        \n",
    "        #print(mah_dist_arr)\n",
    "        # Calculate densities for each star within 40pc\n",
    "        norm_density = calc_dense(np.array(mah_dist_arr))\n",
    "        density_list.append(norm_density)\n",
    "        \n",
    "        model = draw(norm_density, planets_densities.iloc[o-1, :2].values)\n",
    "        \n",
    "    return density_list, model"
   ]
  },
  {
   "cell_type": "code",
   "execution_count": 40,
   "id": "emotional-subcommittee",
   "metadata": {},
   "outputs": [
    {
     "data": {
      "image/png": "[encoded data removed]",
      "text/plain": [
       "<Figure size 3600x360 with 1 Axes>"
      ]
     },
     "metadata": {
      "needs_background": "light"
     },
     "output_type": "display_data"
    },
    {
     "data": {
      "text/plain": [
       "17.35896579400105"
      ]
     },
     "execution_count": 40,
     "metadata": {},
     "output_type": "execute_result"
    }
   ],
   "source": [
    "start = time.perf_counter()\n",
    "density_list, model = get_stars()\n",
    "end = time.perf_counter()\n",
    "end-start"
   ]
  },
  {
   "cell_type": "code",
   "execution_count": 37,
   "id": "cognitive-withdrawal",
   "metadata": {},
   "outputs": [
    {
     "data": {
      "text/plain": [
       "[array([7.90543649e-03, 7.48656949e-02, 1.91018298e-02, ...,\n",
       "        2.50483816e-02, 2.35115475e-05, 1.37495049e+00])]"
      ]
     },
     "execution_count": 37,
     "metadata": {},
     "output_type": "execute_result"
    }
   ],
   "source": [
    "density_list[:5]"
   ]
  },
  {
   "cell_type": "code",
   "execution_count": null,
   "id": "respiratory-childhood",
   "metadata": {},
   "outputs": [],
   "source": []
  },
  {
   "cell_type": "code",
   "execution_count": null,
   "id": "regulated-minutes",
   "metadata": {},
   "outputs": [],
   "source": []
  },
  {
   "cell_type": "code",
   "execution_count": null,
   "id": "flying-religious",
   "metadata": {},
   "outputs": [],
   "source": []
  },
  {
   "cell_type": "code",
   "execution_count": null,
   "id": "recovered-queens",
   "metadata": {},
   "outputs": [],
   "source": []
  },
  {
   "cell_type": "code",
   "execution_count": null,
   "id": "featured-winner",
   "metadata": {},
   "outputs": [],
   "source": []
  },
  {
   "cell_type": "code",
   "execution_count": null,
   "id": "young-calgary",
   "metadata": {},
   "outputs": [],
   "source": []
  },
  {
   "cell_type": "code",
   "execution_count": null,
   "id": "covered-waste",
   "metadata": {},
   "outputs": [],
   "source": []
  },
  {
   "cell_type": "code",
   "execution_count": null,
   "id": "prepared-passing",
   "metadata": {},
   "outputs": [],
   "source": []
  },
  {
   "cell_type": "code",
   "execution_count": null,
   "id": "israeli-planner",
   "metadata": {},
   "outputs": [],
   "source": []
  },
  {
   "cell_type": "code",
   "execution_count": null,
   "id": "cognitive-fitness",
   "metadata": {},
   "outputs": [],
   "source": []
  },
  {
   "cell_type": "code",
   "execution_count": null,
   "id": "usual-medication",
   "metadata": {},
   "outputs": [],
   "source": []
  },
  {
   "cell_type": "code",
   "execution_count": null,
   "id": "honey-therapist",
   "metadata": {},
   "outputs": [],
   "source": []
  },
  {
   "cell_type": "code",
   "execution_count": null,
   "id": "dedicated-daughter",
   "metadata": {},
   "outputs": [],
   "source": []
  },
  {
   "cell_type": "code",
   "execution_count": null,
   "id": "neural-benefit",
   "metadata": {},
   "outputs": [],
   "source": []
  },
  {
   "cell_type": "code",
   "execution_count": null,
   "id": "million-british",
   "metadata": {},
   "outputs": [],
   "source": []
  },
  {
   "cell_type": "code",
   "execution_count": null,
   "id": "colonial-connectivity",
   "metadata": {},
   "outputs": [],
   "source": []
  },
  {
   "cell_type": "code",
   "execution_count": null,
   "id": "seven-brake",
   "metadata": {},
   "outputs": [],
   "source": []
  },
  {
   "cell_type": "code",
   "execution_count": null,
   "id": "tested-underwear",
   "metadata": {},
   "outputs": [],
   "source": []
  },
  {
   "cell_type": "code",
   "execution_count": 133,
   "id": "cultural-channels",
   "metadata": {},
   "outputs": [],
   "source": [
    "def draw_planets(norm_density, planets_list):\n",
    "    # Add second dimension and transpose array to match input format for GaussianMixture\n",
    "    X = np.expand_dims(np.log10(norm_density), axis=0).T\n",
    "\n",
    "    # train GaussianMixture\n",
    "    model = GaussianMixture(2).fit(X)\n",
    "    \n",
    "    colors = [\"b\", \"g\", \"r\", \"m\", \"y\", \"k\"]\n",
    "    \n",
    "    # Define figure params\n",
    "    fig = plt.figure(figsize=(60, 10))\n",
    "    fig.subplots_adjust(left=0.12, right=0.97, bottom=0.21, top=0.9, wspace=0.5)\n",
    "    ax = fig.add_subplot(131)\n",
    "\n",
    "    x = np.linspace(-6, 6, 1000)\n",
    "    logprob = model.score_samples(x.reshape(-1, 1))\n",
    "    responsibilities = model.predict_proba(x.reshape(-1, 1))\n",
    "    pdf = np.exp(logprob)\n",
    "    pdf_individual = responsibilities * pdf[:, np.newaxis]\n",
    "    \n",
    "    # draw chosen planets\n",
    "    \n",
    "    o = 0\n",
    "    for i in planets_list:\n",
    "        plt.axvline(x=i[1], color=colors[o], label=f\"{i[0]}: {i[1]}\")\n",
    "        o += 1\n",
    "            \n",
    "    ax.hist(X, 30, density=True, histtype='stepfilled', alpha=0.4)\n",
    "    # Add combined kde line\n",
    "    ax.plot(x, pdf, '-k')\n",
    "    # Add individual lines for low and high density\n",
    "    ax.plot(x, pdf_individual, '--k')\n",
    "    ax.text(0.04, 0.96, \"Best-fit Mixture\", ha='left', va='top', transform=ax.transAxes)\n",
    "    \n",
    "    plt.legend(fontsize=12)\n",
    "    ax.set_xlabel('$x$')\n",
    "    ax.set_ylabel('$p(x)$')\n",
    "    plt.savefig(\"plot_v1.png\", bbox_inches='tight')\n",
    "    plt.show()\n",
    "    \n",
    "    return model"
   ]
  },
  {
   "cell_type": "code",
   "execution_count": 134,
   "id": "international-trunk",
   "metadata": {},
   "outputs": [],
   "source": [
    "planets_dense = pd.read_csv(\"planets_dense_6d.csv\")"
   ]
  },
  {
   "cell_type": "code",
   "execution_count": 156,
   "id": "oriental-protein",
   "metadata": {},
   "outputs": [
    {
     "data": {
      "image/png": "[encoded data removed]",
      "text/plain": [
       "<Figure size 4320x720 with 1 Axes>"
      ]
     },
     "metadata": {
      "needs_background": "light"
     },
     "output_type": "display_data"
    },
    {
     "data": {
      "text/plain": [
       "GaussianMixture(n_components=2)"
      ]
     },
     "execution_count": 156,
     "metadata": {},
     "output_type": "execute_result"
    }
   ],
   "source": [
    "draw_planets(density_list[0], [planets_dense.iloc[0, :].values])"
   ]
  },
  {
   "cell_type": "code",
   "execution_count": 149,
   "id": "rotary-tumor",
   "metadata": {},
   "outputs": [
    {
     "data": {
      "image/png": "[encoded data removed]",
      "text/plain": [
       "<Figure size 4320x720 with 1 Axes>"
      ]
     },
     "metadata": {
      "needs_background": "light"
     },
     "output_type": "display_data"
    },
    {
     "data": {
      "text/plain": [
       "GaussianMixture(n_components=2)"
      ]
     },
     "execution_count": 149,
     "metadata": {},
     "output_type": "execute_result"
    }
   ],
   "source": [
    "draw_planets(density_list[0], planets_dense.sample(n=6).values)"
   ]
  },
  {
   "cell_type": "code",
   "execution_count": 72,
   "id": "legislative-circle",
   "metadata": {},
   "outputs": [
    {
     "data": {
      "text/html": [
       "<div>\n",
       "<style scoped>\n",
       "    .dataframe tbody tr th:only-of-type {\n",
       "        vertical-align: middle;\n",
       "    }\n",
       "\n",
       "    .dataframe tbody tr th {\n",
       "        vertical-align: top;\n",
       "    }\n",
       "\n",
       "    .dataframe thead th {\n",
       "        text-align: right;\n",
       "    }\n",
       "</style>\n",
       "<table border=\"1\" class=\"dataframe\">\n",
       "  <thead>\n",
       "    <tr style=\"text-align: right;\">\n",
       "      <th></th>\n",
       "      <th>index</th>\n",
       "      <th>density</th>\n",
       "      <th>distance_pc</th>\n",
       "      <th>x</th>\n",
       "      <th>y</th>\n",
       "      <th>z</th>\n",
       "      <th>vx</th>\n",
       "      <th>vy</th>\n",
       "      <th>vz</th>\n",
       "    </tr>\n",
       "  </thead>\n",
       "  <tbody>\n",
       "    <tr>\n",
       "      <th>0</th>\n",
       "      <td>4.0</td>\n",
       "      <td>-1.862311</td>\n",
       "      <td>4.533882</td>\n",
       "      <td>3.719793</td>\n",
       "      <td>-0.186641</td>\n",
       "      <td>-2.585420</td>\n",
       "      <td>69.817767</td>\n",
       "      <td>-13.857311</td>\n",
       "      <td>-77.070225</td>\n",
       "    </tr>\n",
       "    <tr>\n",
       "      <th>1</th>\n",
       "      <td>7.0</td>\n",
       "      <td>-0.882302</td>\n",
       "      <td>8.251274</td>\n",
       "      <td>6.737695</td>\n",
       "      <td>3.800255</td>\n",
       "      <td>-2.871419</td>\n",
       "      <td>164.664820</td>\n",
       "      <td>53.223959</td>\n",
       "      <td>-84.625623</td>\n",
       "    </tr>\n",
       "    <tr>\n",
       "      <th>2</th>\n",
       "      <td>30.0</td>\n",
       "      <td>-1.484875</td>\n",
       "      <td>2.974852</td>\n",
       "      <td>2.527311</td>\n",
       "      <td>0.167956</td>\n",
       "      <td>-1.560204</td>\n",
       "      <td>5.279663</td>\n",
       "      <td>-4.895415</td>\n",
       "      <td>-28.628855</td>\n",
       "    </tr>\n",
       "    <tr>\n",
       "      <th>3</th>\n",
       "      <td>59.0</td>\n",
       "      <td>3.995439</td>\n",
       "      <td>13.093292</td>\n",
       "      <td>11.436229</td>\n",
       "      <td>1.327061</td>\n",
       "      <td>-6.235854</td>\n",
       "      <td>45.514479</td>\n",
       "      <td>-33.959848</td>\n",
       "      <td>-114.773070</td>\n",
       "    </tr>\n",
       "    <tr>\n",
       "      <th>4</th>\n",
       "      <td>63.0</td>\n",
       "      <td>0.684720</td>\n",
       "      <td>51.907321</td>\n",
       "      <td>20.418319</td>\n",
       "      <td>9.380248</td>\n",
       "      <td>-46.791807</td>\n",
       "      <td>-114.175047</td>\n",
       "      <td>-145.084068</td>\n",
       "      <td>-52.722591</td>\n",
       "    </tr>\n",
       "    <tr>\n",
       "      <th>...</th>\n",
       "      <td>...</td>\n",
       "      <td>...</td>\n",
       "      <td>...</td>\n",
       "      <td>...</td>\n",
       "      <td>...</td>\n",
       "      <td>...</td>\n",
       "      <td>...</td>\n",
       "      <td>...</td>\n",
       "      <td>...</td>\n",
       "    </tr>\n",
       "    <tr>\n",
       "      <th>1183</th>\n",
       "      <td>37225.0</td>\n",
       "      <td>-1.353971</td>\n",
       "      <td>10.245985</td>\n",
       "      <td>9.748607</td>\n",
       "      <td>0.637457</td>\n",
       "      <td>3.088451</td>\n",
       "      <td>68.670374</td>\n",
       "      <td>13.270998</td>\n",
       "      <td>17.251395</td>\n",
       "    </tr>\n",
       "    <tr>\n",
       "      <th>1184</th>\n",
       "      <td>37226.0</td>\n",
       "      <td>3.771723</td>\n",
       "      <td>8.989737</td>\n",
       "      <td>8.170781</td>\n",
       "      <td>-3.484240</td>\n",
       "      <td>1.383394</td>\n",
       "      <td>-14.291366</td>\n",
       "      <td>-14.384641</td>\n",
       "      <td>40.588183</td>\n",
       "    </tr>\n",
       "    <tr>\n",
       "      <th>1185</th>\n",
       "      <td>37236.0</td>\n",
       "      <td>3.770013</td>\n",
       "      <td>15.479630</td>\n",
       "      <td>6.591978</td>\n",
       "      <td>8.106239</td>\n",
       "      <td>11.421632</td>\n",
       "      <td>78.596414</td>\n",
       "      <td>56.775948</td>\n",
       "      <td>-91.342811</td>\n",
       "    </tr>\n",
       "    <tr>\n",
       "      <th>1186</th>\n",
       "      <td>37257.0</td>\n",
       "      <td>2.762642</td>\n",
       "      <td>13.056399</td>\n",
       "      <td>12.522339</td>\n",
       "      <td>0.873464</td>\n",
       "      <td>3.591328</td>\n",
       "      <td>-294.600584</td>\n",
       "      <td>-25.907465</td>\n",
       "      <td>-6.751603</td>\n",
       "    </tr>\n",
       "    <tr>\n",
       "      <th>1187</th>\n",
       "      <td>37290.0</td>\n",
       "      <td>0.581291</td>\n",
       "      <td>5.009950</td>\n",
       "      <td>-0.913077</td>\n",
       "      <td>-4.914437</td>\n",
       "      <td>-0.337929</td>\n",
       "      <td>-5.583683</td>\n",
       "      <td>-24.146699</td>\n",
       "      <td>19.099984</td>\n",
       "    </tr>\n",
       "  </tbody>\n",
       "</table>\n",
       "<p>1188 rows × 9 columns</p>\n",
       "</div>"
      ],
      "text/plain": [
       "        index   density  distance_pc          x         y          z  \\\n",
       "0         4.0 -1.862311     4.533882   3.719793 -0.186641  -2.585420   \n",
       "1         7.0 -0.882302     8.251274   6.737695  3.800255  -2.871419   \n",
       "2        30.0 -1.484875     2.974852   2.527311  0.167956  -1.560204   \n",
       "3        59.0  3.995439    13.093292  11.436229  1.327061  -6.235854   \n",
       "4        63.0  0.684720    51.907321  20.418319  9.380248 -46.791807   \n",
       "...       ...       ...          ...        ...       ...        ...   \n",
       "1183  37225.0 -1.353971    10.245985   9.748607  0.637457   3.088451   \n",
       "1184  37226.0  3.771723     8.989737   8.170781 -3.484240   1.383394   \n",
       "1185  37236.0  3.770013    15.479630   6.591978  8.106239  11.421632   \n",
       "1186  37257.0  2.762642    13.056399  12.522339  0.873464   3.591328   \n",
       "1187  37290.0  0.581291     5.009950  -0.913077 -4.914437  -0.337929   \n",
       "\n",
       "              vx          vy          vz  \n",
       "0      69.817767  -13.857311  -77.070225  \n",
       "1     164.664820   53.223959  -84.625623  \n",
       "2       5.279663   -4.895415  -28.628855  \n",
       "3      45.514479  -33.959848 -114.773070  \n",
       "4    -114.175047 -145.084068  -52.722591  \n",
       "...          ...         ...         ...  \n",
       "1183   68.670374   13.270998   17.251395  \n",
       "1184  -14.291366  -14.384641   40.588183  \n",
       "1185   78.596414   56.775948  -91.342811  \n",
       "1186 -294.600584  -25.907465   -6.751603  \n",
       "1187   -5.583683  -24.146699   19.099984  \n",
       "\n",
       "[1188 rows x 9 columns]"
      ]
     },
     "execution_count": 72,
     "metadata": {},
     "output_type": "execute_result"
    }
   ],
   "source": [
    "planets_dense.sample(n=3)"
   ]
  },
  {
   "cell_type": "code",
   "execution_count": 333,
   "id": "nominated-average",
   "metadata": {},
   "outputs": [],
   "source": [
    "planets_dense = pd.read_csv(\"planets_dense_6d.csv\").to_numpy()"
   ]
  },
  {
   "cell_type": "code",
   "execution_count": 334,
   "id": "amateur-variance",
   "metadata": {},
   "outputs": [],
   "source": [
    "np.set_printoptions(suppress=True)"
   ]
  },
  {
   "cell_type": "code",
   "execution_count": 335,
   "id": "aware-pennsylvania",
   "metadata": {},
   "outputs": [
    {
     "data": {
      "text/plain": [
       "528"
      ]
     },
     "execution_count": 335,
     "metadata": {},
     "output_type": "execute_result"
    }
   ],
   "source": [
    "planets_dense.argmin()"
   ]
  },
  {
   "cell_type": "code",
   "execution_count": 336,
   "id": "olympic-primary",
   "metadata": {},
   "outputs": [
    {
     "data": {
      "text/plain": [
       "array([[-4.41498405],\n",
       "       [ 0.56083123],\n",
       "       [ 0.54895838],\n",
       "       [-2.96608311],\n",
       "       [-2.97140155],\n",
       "       [-1.0208333 ],\n",
       "       [ 1.18967361],\n",
       "       [ 5.78589047],\n",
       "       [ 1.63797022],\n",
       "       [-0.47671442]])"
      ]
     },
     "execution_count": 336,
     "metadata": {},
     "output_type": "execute_result"
    }
   ],
   "source": [
    "planets_dense[120:130]"
   ]
  },
  {
   "cell_type": "markdown",
   "id": "functional-chick",
   "metadata": {},
   "source": [
    "# 5d"
   ]
  },
  {
   "cell_type": "code",
   "execution_count": 268,
   "id": "serious-hobby",
   "metadata": {},
   "outputs": [
    {
     "data": {
      "text/plain": [
       "array([[0.06022823, 0.93977177],\n",
       "       [0.74635127, 0.25364873],\n",
       "       [0.74669733, 0.25330267],\n",
       "       [0.34364592, 0.65635408],\n",
       "       [0.34237824, 0.65762176],\n",
       "       [0.67535068, 0.32464932],\n",
       "       [0.58436298, 0.41563702],\n",
       "       [0.00502124, 0.99497876],\n",
       "       [0.62975968, 0.37024032],\n",
       "       [0.74552535, 0.25447465]])"
      ]
     },
     "execution_count": 268,
     "metadata": {},
     "output_type": "execute_result"
    }
   ],
   "source": [
    "model.predict_proba(planets_dense)[120:130]"
   ]
  },
  {
   "cell_type": "markdown",
   "id": "coated-works",
   "metadata": {},
   "source": [
    "# 6d"
   ]
  },
  {
   "cell_type": "code",
   "execution_count": 337,
   "id": "differential-modern",
   "metadata": {},
   "outputs": [
    {
     "data": {
      "text/plain": [
       "array([[0.93862448, 0.06137552],\n",
       "       [0.71213179, 0.28786821],\n",
       "       [0.71386274, 0.28613726],\n",
       "       [0.92780937, 0.07219063],\n",
       "       [0.92788797, 0.07211203],\n",
       "       [0.86522472, 0.13477528],\n",
       "       [0.60578478, 0.39421522],\n",
       "       [0.00878331, 0.99121669],\n",
       "       [0.5141224 , 0.4858776 ],\n",
       "       [0.82788478, 0.17211522]])"
      ]
     },
     "execution_count": 337,
     "metadata": {},
     "output_type": "execute_result"
    }
   ],
   "source": [
    "model.predict_proba(planets_dense)[120:130]"
   ]
  }
 ],
 "metadata": {
  "kernelspec": {
   "display_name": "Python 3",
   "language": "python",
   "name": "python3"
  },
  "language_info": {
   "codemirror_mode": {
    "name": "ipython",
    "version": 3
   },
   "file_extension": ".py",
   "mimetype": "text/x-python",
   "name": "python",
   "nbconvert_exporter": "python",
   "pygments_lexer": "ipython3",
   "version": "3.8.6"
  }
 },
 "nbformat": 4,
 "nbformat_minor": 5
}
