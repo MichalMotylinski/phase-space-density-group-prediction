{
 "cells": [
  {
   "cell_type": "markdown",
   "id": "oriental-agent",
   "metadata": {},
   "source": [
    "<center><font size=\"7\"><b>Preprocessing</b></font></center>"
   ]
  },
  {
   "cell_type": "markdown",
   "id": "sweet-pizza",
   "metadata": {},
   "source": [
    "# Import required modules"
   ]
  },
  {
   "cell_type": "code",
   "execution_count": 1,
   "id": "younger-barcelona",
   "metadata": {},
   "outputs": [],
   "source": [
    "import pandas as pd\n",
    "import os\n",
    "import seaborn as sns\n",
    "import numpy as np\n",
    "import scipy as sp\n",
    "import coord_transform as coord\n",
    "import time\n",
    "from scipy.spatial import distance\n",
    "from matplotlib import pyplot as plt\n",
    "import numpy as np\n",
    "from sklearn.mixture import GaussianMixture"
   ]
  },
  {
   "cell_type": "markdown",
   "id": "turkish-exemption",
   "metadata": {},
   "source": [
    "# Load dataset"
   ]
  },
  {
   "cell_type": "code",
   "execution_count": 2,
   "id": "differential-bathroom",
   "metadata": {},
   "outputs": [],
   "source": [
    "df = pd.read_csv(\"gaia.csv\")"
   ]
  },
  {
   "cell_type": "code",
   "execution_count": 3,
   "id": "demanding-formula",
   "metadata": {},
   "outputs": [
    {
     "data": {
      "text/html": [
       "<div>\n",
       "<style scoped>\n",
       "    .dataframe tbody tr th:only-of-type {\n",
       "        vertical-align: middle;\n",
       "    }\n",
       "\n",
       "    .dataframe tbody tr th {\n",
       "        vertical-align: top;\n",
       "    }\n",
       "\n",
       "    .dataframe thead th {\n",
       "        text-align: right;\n",
       "    }\n",
       "</style>\n",
       "<table border=\"1\" class=\"dataframe\">\n",
       "  <thead>\n",
       "    <tr style=\"text-align: right;\">\n",
       "      <th></th>\n",
       "      <th>source_id</th>\n",
       "      <th>ra</th>\n",
       "      <th>ra_error</th>\n",
       "      <th>dec</th>\n",
       "      <th>dec_error</th>\n",
       "      <th>parallax</th>\n",
       "      <th>parallax_error</th>\n",
       "      <th>pmra</th>\n",
       "      <th>pmra_error</th>\n",
       "      <th>pmdec</th>\n",
       "      <th>pmdec_error</th>\n",
       "      <th>dr2_radial_velocity</th>\n",
       "      <th>dr2_radial_velocity_error</th>\n",
       "    </tr>\n",
       "  </thead>\n",
       "  <tbody>\n",
       "    <tr>\n",
       "      <th>0</th>\n",
       "      <td>4282338859504214528</td>\n",
       "      <td>282.785908</td>\n",
       "      <td>0.011250</td>\n",
       "      <td>5.648257</td>\n",
       "      <td>0.010881</td>\n",
       "      <td>0.932263</td>\n",
       "      <td>0.012898</td>\n",
       "      <td>0.032933</td>\n",
       "      <td>0.013984</td>\n",
       "      <td>-3.393563</td>\n",
       "      <td>0.014206</td>\n",
       "      <td>17.328890</td>\n",
       "      <td>0.455194</td>\n",
       "    </tr>\n",
       "    <tr>\n",
       "      <th>1</th>\n",
       "      <td>4089436927451879424</td>\n",
       "      <td>276.307287</td>\n",
       "      <td>0.015868</td>\n",
       "      <td>-23.559144</td>\n",
       "      <td>0.014007</td>\n",
       "      <td>0.480759</td>\n",
       "      <td>0.016674</td>\n",
       "      <td>-1.294703</td>\n",
       "      <td>0.021944</td>\n",
       "      <td>-4.438685</td>\n",
       "      <td>0.016833</td>\n",
       "      <td>-4.846311</td>\n",
       "      <td>0.431333</td>\n",
       "    </tr>\n",
       "    <tr>\n",
       "      <th>2</th>\n",
       "      <td>4282339611113854720</td>\n",
       "      <td>282.717639</td>\n",
       "      <td>0.018980</td>\n",
       "      <td>5.678589</td>\n",
       "      <td>0.018446</td>\n",
       "      <td>4.895652</td>\n",
       "      <td>0.023608</td>\n",
       "      <td>12.920215</td>\n",
       "      <td>0.022806</td>\n",
       "      <td>-12.157485</td>\n",
       "      <td>0.020005</td>\n",
       "      <td>-17.226954</td>\n",
       "      <td>0.598977</td>\n",
       "    </tr>\n",
       "    <tr>\n",
       "      <th>3</th>\n",
       "      <td>4089436961811610752</td>\n",
       "      <td>276.261810</td>\n",
       "      <td>0.019102</td>\n",
       "      <td>-23.575342</td>\n",
       "      <td>0.016849</td>\n",
       "      <td>0.889500</td>\n",
       "      <td>0.018416</td>\n",
       "      <td>2.852077</td>\n",
       "      <td>0.026938</td>\n",
       "      <td>2.816054</td>\n",
       "      <td>0.020369</td>\n",
       "      <td>-9.293663</td>\n",
       "      <td>14.794000</td>\n",
       "    </tr>\n",
       "    <tr>\n",
       "      <th>4</th>\n",
       "      <td>4282339718497802368</td>\n",
       "      <td>282.693206</td>\n",
       "      <td>0.044804</td>\n",
       "      <td>5.676382</td>\n",
       "      <td>0.047415</td>\n",
       "      <td>0.220562</td>\n",
       "      <td>0.056072</td>\n",
       "      <td>-2.776552</td>\n",
       "      <td>0.052576</td>\n",
       "      <td>-5.106474</td>\n",
       "      <td>0.047889</td>\n",
       "      <td>101.800800</td>\n",
       "      <td>3.921371</td>\n",
       "    </tr>\n",
       "    <tr>\n",
       "      <th>...</th>\n",
       "      <td>...</td>\n",
       "      <td>...</td>\n",
       "      <td>...</td>\n",
       "      <td>...</td>\n",
       "      <td>...</td>\n",
       "      <td>...</td>\n",
       "      <td>...</td>\n",
       "      <td>...</td>\n",
       "      <td>...</td>\n",
       "      <td>...</td>\n",
       "      <td>...</td>\n",
       "      <td>...</td>\n",
       "      <td>...</td>\n",
       "    </tr>\n",
       "    <tr>\n",
       "      <th>7180461</th>\n",
       "      <td>6056109912690990208</td>\n",
       "      <td>196.443925</td>\n",
       "      <td>0.008734</td>\n",
       "      <td>-59.708078</td>\n",
       "      <td>0.010616</td>\n",
       "      <td>0.345771</td>\n",
       "      <td>0.014380</td>\n",
       "      <td>-5.967731</td>\n",
       "      <td>0.011590</td>\n",
       "      <td>0.257960</td>\n",
       "      <td>0.014352</td>\n",
       "      <td>-36.252293</td>\n",
       "      <td>1.029703</td>\n",
       "    </tr>\n",
       "    <tr>\n",
       "      <th>7180462</th>\n",
       "      <td>6056110153209542784</td>\n",
       "      <td>196.704875</td>\n",
       "      <td>0.008982</td>\n",
       "      <td>-60.019421</td>\n",
       "      <td>0.010622</td>\n",
       "      <td>0.921323</td>\n",
       "      <td>0.014480</td>\n",
       "      <td>-8.120991</td>\n",
       "      <td>0.012039</td>\n",
       "      <td>-0.255920</td>\n",
       "      <td>0.014669</td>\n",
       "      <td>7.458116</td>\n",
       "      <td>5.133635</td>\n",
       "    </tr>\n",
       "    <tr>\n",
       "      <th>7180463</th>\n",
       "      <td>6056110256288763136</td>\n",
       "      <td>196.736272</td>\n",
       "      <td>0.010899</td>\n",
       "      <td>-60.009747</td>\n",
       "      <td>0.012719</td>\n",
       "      <td>0.347871</td>\n",
       "      <td>0.017093</td>\n",
       "      <td>-7.450814</td>\n",
       "      <td>0.014529</td>\n",
       "      <td>-1.491618</td>\n",
       "      <td>0.017644</td>\n",
       "      <td>-45.831112</td>\n",
       "      <td>2.259007</td>\n",
       "    </tr>\n",
       "    <tr>\n",
       "      <th>7180464</th>\n",
       "      <td>6056110599886154880</td>\n",
       "      <td>196.789455</td>\n",
       "      <td>0.008566</td>\n",
       "      <td>-59.994962</td>\n",
       "      <td>0.010127</td>\n",
       "      <td>0.172409</td>\n",
       "      <td>0.013939</td>\n",
       "      <td>-8.214466</td>\n",
       "      <td>0.011524</td>\n",
       "      <td>0.098175</td>\n",
       "      <td>0.013726</td>\n",
       "      <td>-7.874334</td>\n",
       "      <td>1.049933</td>\n",
       "    </tr>\n",
       "    <tr>\n",
       "      <th>7180465</th>\n",
       "      <td>6056110668605635840</td>\n",
       "      <td>196.784352</td>\n",
       "      <td>0.009615</td>\n",
       "      <td>-59.987575</td>\n",
       "      <td>0.011183</td>\n",
       "      <td>0.329768</td>\n",
       "      <td>0.015490</td>\n",
       "      <td>-5.837269</td>\n",
       "      <td>0.012877</td>\n",
       "      <td>-2.591774</td>\n",
       "      <td>0.015029</td>\n",
       "      <td>-20.521160</td>\n",
       "      <td>2.270189</td>\n",
       "    </tr>\n",
       "  </tbody>\n",
       "</table>\n",
       "<p>7180466 rows × 13 columns</p>\n",
       "</div>"
      ],
      "text/plain": [
       "                   source_id          ra  ra_error        dec  dec_error  \\\n",
       "0        4282338859504214528  282.785908  0.011250   5.648257   0.010881   \n",
       "1        4089436927451879424  276.307287  0.015868 -23.559144   0.014007   \n",
       "2        4282339611113854720  282.717639  0.018980   5.678589   0.018446   \n",
       "3        4089436961811610752  276.261810  0.019102 -23.575342   0.016849   \n",
       "4        4282339718497802368  282.693206  0.044804   5.676382   0.047415   \n",
       "...                      ...         ...       ...        ...        ...   \n",
       "7180461  6056109912690990208  196.443925  0.008734 -59.708078   0.010616   \n",
       "7180462  6056110153209542784  196.704875  0.008982 -60.019421   0.010622   \n",
       "7180463  6056110256288763136  196.736272  0.010899 -60.009747   0.012719   \n",
       "7180464  6056110599886154880  196.789455  0.008566 -59.994962   0.010127   \n",
       "7180465  6056110668605635840  196.784352  0.009615 -59.987575   0.011183   \n",
       "\n",
       "         parallax  parallax_error       pmra  pmra_error      pmdec  \\\n",
       "0        0.932263        0.012898   0.032933    0.013984  -3.393563   \n",
       "1        0.480759        0.016674  -1.294703    0.021944  -4.438685   \n",
       "2        4.895652        0.023608  12.920215    0.022806 -12.157485   \n",
       "3        0.889500        0.018416   2.852077    0.026938   2.816054   \n",
       "4        0.220562        0.056072  -2.776552    0.052576  -5.106474   \n",
       "...           ...             ...        ...         ...        ...   \n",
       "7180461  0.345771        0.014380  -5.967731    0.011590   0.257960   \n",
       "7180462  0.921323        0.014480  -8.120991    0.012039  -0.255920   \n",
       "7180463  0.347871        0.017093  -7.450814    0.014529  -1.491618   \n",
       "7180464  0.172409        0.013939  -8.214466    0.011524   0.098175   \n",
       "7180465  0.329768        0.015490  -5.837269    0.012877  -2.591774   \n",
       "\n",
       "         pmdec_error  dr2_radial_velocity  dr2_radial_velocity_error  \n",
       "0           0.014206            17.328890                   0.455194  \n",
       "1           0.016833            -4.846311                   0.431333  \n",
       "2           0.020005           -17.226954                   0.598977  \n",
       "3           0.020369            -9.293663                  14.794000  \n",
       "4           0.047889           101.800800                   3.921371  \n",
       "...              ...                  ...                        ...  \n",
       "7180461     0.014352           -36.252293                   1.029703  \n",
       "7180462     0.014669             7.458116                   5.133635  \n",
       "7180463     0.017644           -45.831112                   2.259007  \n",
       "7180464     0.013726            -7.874334                   1.049933  \n",
       "7180465     0.015029           -20.521160                   2.270189  \n",
       "\n",
       "[7180466 rows x 13 columns]"
      ]
     },
     "execution_count": 3,
     "metadata": {},
     "output_type": "execute_result"
    }
   ],
   "source": [
    "df"
   ]
  },
  {
   "cell_type": "markdown",
   "id": "turned-printing",
   "metadata": {},
   "source": [
    "# Reduce data"
   ]
  },
  {
   "cell_type": "code",
   "execution_count": 4,
   "id": "distinguished-petroleum",
   "metadata": {},
   "outputs": [],
   "source": [
    "df_reduced = df[4.5 > df[\"parallax\"]/df[\"parallax_error\"]]"
   ]
  },
  {
   "cell_type": "code",
   "execution_count": 5,
   "id": "convenient-taylor",
   "metadata": {},
   "outputs": [
    {
     "data": {
      "text/plain": [
       "(176404, 13)"
      ]
     },
     "execution_count": 5,
     "metadata": {},
     "output_type": "execute_result"
    }
   ],
   "source": [
    "df_reduced.shape"
   ]
  },
  {
   "cell_type": "markdown",
   "id": "biological-secret",
   "metadata": {},
   "source": [
    "# Calculate distance in pc"
   ]
  },
  {
   "cell_type": "code",
   "execution_count": 6,
   "id": "physical-jacksonville",
   "metadata": {},
   "outputs": [],
   "source": [
    "df_conv = pd.DataFrame()"
   ]
  },
  {
   "cell_type": "code",
   "execution_count": 7,
   "id": "functional-medline",
   "metadata": {},
   "outputs": [
    {
     "data": {
      "text/plain": [
       "0.01118453700109967"
      ]
     },
     "execution_count": 7,
     "metadata": {},
     "output_type": "execute_result"
    }
   ],
   "source": [
    "start = time.perf_counter()\n",
    "df_conv[\"distance_pc\"] = 1./df_reduced[\"parallax\"]\n",
    "end = time.perf_counter()\n",
    "end-start"
   ]
  },
  {
   "cell_type": "code",
   "execution_count": 8,
   "id": "historical-bacteria",
   "metadata": {},
   "outputs": [
    {
     "data": {
      "text/plain": [
       "(176404, 1)"
      ]
     },
     "execution_count": 8,
     "metadata": {},
     "output_type": "execute_result"
    }
   ],
   "source": [
    "df_conv.shape"
   ]
  },
  {
   "cell_type": "code",
   "execution_count": 9,
   "id": "changed-analyst",
   "metadata": {},
   "outputs": [],
   "source": [
    "df_conv = df_conv[df_conv[\"distance_pc\"]>0]"
   ]
  },
  {
   "cell_type": "code",
   "execution_count": 10,
   "id": "sufficient-newton",
   "metadata": {},
   "outputs": [
    {
     "data": {
      "text/html": [
       "<div>\n",
       "<style scoped>\n",
       "    .dataframe tbody tr th:only-of-type {\n",
       "        vertical-align: middle;\n",
       "    }\n",
       "\n",
       "    .dataframe tbody tr th {\n",
       "        vertical-align: top;\n",
       "    }\n",
       "\n",
       "    .dataframe thead th {\n",
       "        text-align: right;\n",
       "    }\n",
       "</style>\n",
       "<table border=\"1\" class=\"dataframe\">\n",
       "  <thead>\n",
       "    <tr style=\"text-align: right;\">\n",
       "      <th></th>\n",
       "      <th>distance_pc</th>\n",
       "    </tr>\n",
       "  </thead>\n",
       "  <tbody>\n",
       "    <tr>\n",
       "      <th>4</th>\n",
       "      <td>4.533882</td>\n",
       "    </tr>\n",
       "    <tr>\n",
       "      <th>7</th>\n",
       "      <td>8.251274</td>\n",
       "    </tr>\n",
       "    <tr>\n",
       "      <th>30</th>\n",
       "      <td>2.974852</td>\n",
       "    </tr>\n",
       "    <tr>\n",
       "      <th>59</th>\n",
       "      <td>13.093292</td>\n",
       "    </tr>\n",
       "    <tr>\n",
       "      <th>63</th>\n",
       "      <td>51.907321</td>\n",
       "    </tr>\n",
       "    <tr>\n",
       "      <th>...</th>\n",
       "      <td>...</td>\n",
       "    </tr>\n",
       "    <tr>\n",
       "      <th>7180261</th>\n",
       "      <td>8.836949</td>\n",
       "    </tr>\n",
       "    <tr>\n",
       "      <th>7180340</th>\n",
       "      <td>24.408366</td>\n",
       "    </tr>\n",
       "    <tr>\n",
       "      <th>7180389</th>\n",
       "      <td>8.679258</td>\n",
       "    </tr>\n",
       "    <tr>\n",
       "      <th>7180413</th>\n",
       "      <td>13.884487</td>\n",
       "    </tr>\n",
       "    <tr>\n",
       "      <th>7180459</th>\n",
       "      <td>1.300380</td>\n",
       "    </tr>\n",
       "  </tbody>\n",
       "</table>\n",
       "<p>160109 rows × 1 columns</p>\n",
       "</div>"
      ],
      "text/plain": [
       "         distance_pc\n",
       "4           4.533882\n",
       "7           8.251274\n",
       "30          2.974852\n",
       "59         13.093292\n",
       "63         51.907321\n",
       "...              ...\n",
       "7180261     8.836949\n",
       "7180340    24.408366\n",
       "7180389     8.679258\n",
       "7180413    13.884487\n",
       "7180459     1.300380\n",
       "\n",
       "[160109 rows x 1 columns]"
      ]
     },
     "execution_count": 10,
     "metadata": {},
     "output_type": "execute_result"
    }
   ],
   "source": [
    "df_conv"
   ]
  },
  {
   "cell_type": "code",
   "execution_count": 11,
   "id": "downtown-destination",
   "metadata": {},
   "outputs": [
    {
     "data": {
      "text/plain": [
       "(160109, 1)"
      ]
     },
     "execution_count": 11,
     "metadata": {},
     "output_type": "execute_result"
    }
   ],
   "source": [
    "df_conv.shape"
   ]
  },
  {
   "cell_type": "markdown",
   "id": "oriental-following",
   "metadata": {},
   "source": [
    "# Converting from spherical to cartesian coordinates"
   ]
  },
  {
   "cell_type": "code",
   "execution_count": 12,
   "id": "whole-middle",
   "metadata": {},
   "outputs": [],
   "source": [
    "df_conv[\"x\"], df_conv[\"y\"], df_conv[\"z\"] = coord.sph2cart(df_conv[\"distance_pc\"], df_reduced[\"ra\"], df_reduced[\"dec\"])"
   ]
  },
  {
   "cell_type": "code",
   "execution_count": 13,
   "id": "appropriate-usage",
   "metadata": {},
   "outputs": [],
   "source": [
    "df_conv[\"vx\"],df_conv[\"vy\"],df_conv[\"vz\"] = coord.vsph2cart(df_reduced[\"dr2_radial_velocity\"], df_reduced[\"pmra\"], df_reduced[\"pmdec\"], df_conv[\"distance_pc\"], df_reduced[\"ra\"], df_reduced[\"dec\"])"
   ]
  },
  {
   "cell_type": "code",
   "execution_count": 14,
   "id": "signal-bishop",
   "metadata": {},
   "outputs": [],
   "source": [
    "pv_6d = np.array([df_conv[\"x\"], df_conv[\"y\"], df_conv[\"z\"], df_conv[\"vx\"], df_conv[\"vy\"], df_conv[\"vz\"]])"
   ]
  },
  {
   "cell_type": "markdown",
   "id": "pointed-radius",
   "metadata": {},
   "source": [
    "# Create 2 sets of stars"
   ]
  },
  {
   "cell_type": "code",
   "execution_count": 15,
   "id": "wrapped-piano",
   "metadata": {},
   "outputs": [],
   "source": [
    "# Set target star\n",
    "STAR_NUM=100\n",
    "NDENSE=20"
   ]
  },
  {
   "cell_type": "code",
   "execution_count": 16,
   "id": "adjusted-cologne",
   "metadata": {},
   "outputs": [
    {
     "data": {
      "text/html": [
       "<div>\n",
       "<style scoped>\n",
       "    .dataframe tbody tr th:only-of-type {\n",
       "        vertical-align: middle;\n",
       "    }\n",
       "\n",
       "    .dataframe tbody tr th {\n",
       "        vertical-align: top;\n",
       "    }\n",
       "\n",
       "    .dataframe thead th {\n",
       "        text-align: right;\n",
       "    }\n",
       "</style>\n",
       "<table border=\"1\" class=\"dataframe\">\n",
       "  <thead>\n",
       "    <tr style=\"text-align: right;\">\n",
       "      <th></th>\n",
       "      <th>distance_pc</th>\n",
       "      <th>x</th>\n",
       "      <th>y</th>\n",
       "      <th>z</th>\n",
       "      <th>vx</th>\n",
       "      <th>vy</th>\n",
       "      <th>vz</th>\n",
       "    </tr>\n",
       "  </thead>\n",
       "  <tbody>\n",
       "    <tr>\n",
       "      <th>4</th>\n",
       "      <td>4.533882</td>\n",
       "      <td>3.719793</td>\n",
       "      <td>-0.186641</td>\n",
       "      <td>-2.585420</td>\n",
       "      <td>69.817767</td>\n",
       "      <td>-13.857311</td>\n",
       "      <td>-77.070225</td>\n",
       "    </tr>\n",
       "    <tr>\n",
       "      <th>7</th>\n",
       "      <td>8.251274</td>\n",
       "      <td>6.737695</td>\n",
       "      <td>3.800255</td>\n",
       "      <td>-2.871419</td>\n",
       "      <td>164.664820</td>\n",
       "      <td>53.223959</td>\n",
       "      <td>-84.625623</td>\n",
       "    </tr>\n",
       "    <tr>\n",
       "      <th>30</th>\n",
       "      <td>2.974852</td>\n",
       "      <td>2.527311</td>\n",
       "      <td>0.167956</td>\n",
       "      <td>-1.560204</td>\n",
       "      <td>5.279663</td>\n",
       "      <td>-4.895415</td>\n",
       "      <td>-28.628855</td>\n",
       "    </tr>\n",
       "    <tr>\n",
       "      <th>59</th>\n",
       "      <td>13.093292</td>\n",
       "      <td>11.436229</td>\n",
       "      <td>1.327061</td>\n",
       "      <td>-6.235854</td>\n",
       "      <td>45.514479</td>\n",
       "      <td>-33.959848</td>\n",
       "      <td>-114.773070</td>\n",
       "    </tr>\n",
       "    <tr>\n",
       "      <th>63</th>\n",
       "      <td>51.907321</td>\n",
       "      <td>20.418319</td>\n",
       "      <td>9.380248</td>\n",
       "      <td>-46.791807</td>\n",
       "      <td>-114.175047</td>\n",
       "      <td>-145.084068</td>\n",
       "      <td>-52.722591</td>\n",
       "    </tr>\n",
       "    <tr>\n",
       "      <th>...</th>\n",
       "      <td>...</td>\n",
       "      <td>...</td>\n",
       "      <td>...</td>\n",
       "      <td>...</td>\n",
       "      <td>...</td>\n",
       "      <td>...</td>\n",
       "      <td>...</td>\n",
       "    </tr>\n",
       "    <tr>\n",
       "      <th>7180261</th>\n",
       "      <td>8.836949</td>\n",
       "      <td>-4.774041</td>\n",
       "      <td>-6.837971</td>\n",
       "      <td>2.922729</td>\n",
       "      <td>-50.766164</td>\n",
       "      <td>15.044939</td>\n",
       "      <td>14.025305</td>\n",
       "    </tr>\n",
       "    <tr>\n",
       "      <th>7180340</th>\n",
       "      <td>24.408366</td>\n",
       "      <td>9.447117</td>\n",
       "      <td>-2.685535</td>\n",
       "      <td>22.345206</td>\n",
       "      <td>-8.255152</td>\n",
       "      <td>-48.545954</td>\n",
       "      <td>19.383718</td>\n",
       "    </tr>\n",
       "    <tr>\n",
       "      <th>7180389</th>\n",
       "      <td>8.679258</td>\n",
       "      <td>-0.853836</td>\n",
       "      <td>-8.295204</td>\n",
       "      <td>2.406256</td>\n",
       "      <td>-55.384073</td>\n",
       "      <td>27.418704</td>\n",
       "      <td>-8.252534</td>\n",
       "    </tr>\n",
       "    <tr>\n",
       "      <th>7180413</th>\n",
       "      <td>13.884487</td>\n",
       "      <td>-1.792584</td>\n",
       "      <td>-13.430945</td>\n",
       "      <td>3.029083</td>\n",
       "      <td>-72.398399</td>\n",
       "      <td>18.842831</td>\n",
       "      <td>4.259836</td>\n",
       "    </tr>\n",
       "    <tr>\n",
       "      <th>7180459</th>\n",
       "      <td>1.300380</td>\n",
       "      <td>0.071592</td>\n",
       "      <td>-1.297387</td>\n",
       "      <td>0.051487</td>\n",
       "      <td>-9.431402</td>\n",
       "      <td>38.921195</td>\n",
       "      <td>-0.228798</td>\n",
       "    </tr>\n",
       "  </tbody>\n",
       "</table>\n",
       "<p>160109 rows × 7 columns</p>\n",
       "</div>"
      ],
      "text/plain": [
       "         distance_pc          x          y          z          vx          vy  \\\n",
       "4           4.533882   3.719793  -0.186641  -2.585420   69.817767  -13.857311   \n",
       "7           8.251274   6.737695   3.800255  -2.871419  164.664820   53.223959   \n",
       "30          2.974852   2.527311   0.167956  -1.560204    5.279663   -4.895415   \n",
       "59         13.093292  11.436229   1.327061  -6.235854   45.514479  -33.959848   \n",
       "63         51.907321  20.418319   9.380248 -46.791807 -114.175047 -145.084068   \n",
       "...              ...        ...        ...        ...         ...         ...   \n",
       "7180261     8.836949  -4.774041  -6.837971   2.922729  -50.766164   15.044939   \n",
       "7180340    24.408366   9.447117  -2.685535  22.345206   -8.255152  -48.545954   \n",
       "7180389     8.679258  -0.853836  -8.295204   2.406256  -55.384073   27.418704   \n",
       "7180413    13.884487  -1.792584 -13.430945   3.029083  -72.398399   18.842831   \n",
       "7180459     1.300380   0.071592  -1.297387   0.051487   -9.431402   38.921195   \n",
       "\n",
       "                 vz  \n",
       "4        -77.070225  \n",
       "7        -84.625623  \n",
       "30       -28.628855  \n",
       "59      -114.773070  \n",
       "63       -52.722591  \n",
       "...             ...  \n",
       "7180261   14.025305  \n",
       "7180340   19.383718  \n",
       "7180389   -8.252534  \n",
       "7180413    4.259836  \n",
       "7180459   -0.228798  \n",
       "\n",
       "[160109 rows x 7 columns]"
      ]
     },
     "execution_count": 16,
     "metadata": {},
     "output_type": "execute_result"
    }
   ],
   "source": [
    "df_conv"
   ]
  },
  {
   "cell_type": "markdown",
   "id": "tamil-moscow",
   "metadata": {},
   "source": [
    "### Create one set with stars within 2pc from our target and second set with stars within 15pc"
   ]
  },
  {
   "cell_type": "code",
   "execution_count": 17,
   "id": "trying-speech",
   "metadata": {},
   "outputs": [],
   "source": [
    "target = df_conv.iloc[[STAR_NUM], [1,2,3]].to_numpy()[0]\n",
    "arr_40pc = []\n",
    "arr_60pc = []\n",
    "\n",
    "for i, row in df_conv.iterrows():\n",
    "    dist = np.linalg.norm(target-[row[1], row[2], row[3]])\n",
    "\n",
    "    if dist < 2:\n",
    "        arr_40pc.append([row[1], row[2], row[3], row[4], row[5], row[6]])\n",
    "    if dist < 10:\n",
    "        arr_60pc.append([row[1], row[2], row[3], row[4], row[5], row[6]])\n",
    "        \n"
   ]
  },
  {
   "cell_type": "code",
   "execution_count": 18,
   "id": "numerous-wiring",
   "metadata": {},
   "outputs": [
    {
     "data": {
      "text/plain": [
       "(289, 19708)"
      ]
     },
     "execution_count": 18,
     "metadata": {},
     "output_type": "execute_result"
    }
   ],
   "source": [
    "len(arr_40pc), len(arr_60pc)"
   ]
  },
  {
   "cell_type": "markdown",
   "id": "electronic-brush",
   "metadata": {},
   "source": [
    "# Calculating the Mahalanobis distance"
   ]
  },
  {
   "cell_type": "code",
   "execution_count": 19,
   "id": "numeric-thermal",
   "metadata": {},
   "outputs": [],
   "source": [
    "arr_40pc_6d = np.array(arr_40pc)"
   ]
  },
  {
   "cell_type": "code",
   "execution_count": 20,
   "id": "characteristic-cherry",
   "metadata": {},
   "outputs": [],
   "source": [
    "arr_60pc_6d = np.array(arr_60pc)\n",
    "arr_60pc_cov_mat = np.cov(arr_60pc_6d.T) # Calculate the covariance matrix\n",
    "arr_60pc_inv = np.linalg.inv(arr_60pc_cov_mat) # Determine the inverse matrix"
   ]
  },
  {
   "cell_type": "markdown",
   "id": "promising-probability",
   "metadata": {},
   "source": [
    "### For each star within 2pc from our target calculate mahalanobis distance for all stars within 15pc"
   ]
  },
  {
   "cell_type": "code",
   "execution_count": 21,
   "id": "parental-doubt",
   "metadata": {},
   "outputs": [
    {
     "data": {
      "text/plain": [
       "48.50498461399911"
      ]
     },
     "execution_count": 21,
     "metadata": {},
     "output_type": "execute_result"
    }
   ],
   "source": [
    "start = time.perf_counter()\n",
    "mah_dist_arr = []\n",
    "for i in range(arr_40pc_6d.shape[0]):\n",
    "    # 150000 stars within 40pc\n",
    "    # 289 stars within 2pc\n",
    "    mahal_dist = np.zeros(arr_60pc_6d.shape[0])\n",
    "    for j in range(arr_60pc_6d.shape[0]):\n",
    "        # 160000 stars within 60pc\n",
    "        # 50553 stars within 15pc\n",
    "        mahal_dist[j] = distance.mahalanobis(arr_60pc_6d[i], arr_60pc_6d[j], arr_60pc_inv)\n",
    "    mah_dist_arr.append(mahal_dist)\n",
    "end = time.perf_counter()\n",
    "end - start"
   ]
  },
  {
   "cell_type": "markdown",
   "id": "integral-monaco",
   "metadata": {},
   "source": [
    "### Sort and get 20th closest neighbour"
   ]
  },
  {
   "cell_type": "code",
   "execution_count": 22,
   "id": "dangerous-expression",
   "metadata": {},
   "outputs": [
    {
     "data": {
      "text/plain": [
       "0.29496420299983583"
      ]
     },
     "execution_count": 22,
     "metadata": {},
     "output_type": "execute_result"
    }
   ],
   "source": [
    "start = time.perf_counter()\n",
    "mahal_dist_ndense = np.zeros(len(mah_dist_arr))\n",
    "for i in range(len(mah_dist_arr)):\n",
    "    mahal_dist_ndense[i] = (np.sort(mah_dist_arr[i])[NDENSE])\n",
    "end = time.perf_counter()\n",
    "end - start"
   ]
  },
  {
   "cell_type": "markdown",
   "id": "fitted-leone",
   "metadata": {},
   "source": [
    "### Convert mahalanobis distance to density"
   ]
  },
  {
   "cell_type": "code",
   "execution_count": 23,
   "id": "affiliated-agriculture",
   "metadata": {},
   "outputs": [],
   "source": [
    "#(1/mahal_dist_ndense)**6\n",
    "density = 20/(mahal_dist_ndense)**6"
   ]
  },
  {
   "cell_type": "code",
   "execution_count": 24,
   "id": "desirable-husband",
   "metadata": {},
   "outputs": [],
   "source": [
    "norm_density = density/np.median(density)"
   ]
  },
  {
   "cell_type": "code",
   "execution_count": 25,
   "id": "limited-atlantic",
   "metadata": {},
   "outputs": [
    {
     "data": {
      "text/plain": [
       "(289,)"
      ]
     },
     "execution_count": 25,
     "metadata": {},
     "output_type": "execute_result"
    }
   ],
   "source": [
    "norm_density.shape"
   ]
  },
  {
   "cell_type": "markdown",
   "id": "outside-quebec",
   "metadata": {},
   "source": [
    "gausianmixture scikitlearn\n",
    "decompose kde (gaussian line profile) as it can be unique 2 components, (mean and standard deviation)"
   ]
  },
  {
   "cell_type": "code",
   "execution_count": 26,
   "id": "horizontal-roads",
   "metadata": {},
   "outputs": [
    {
     "data": {
      "text/plain": [
       "<seaborn.axisgrid.FacetGrid at 0x7ff87c8d2430>"
      ]
     },
     "execution_count": 26,
     "metadata": {},
     "output_type": "execute_result"
    },
    {
     "data": {
      "image/png": "[encoded data removed]",
      "text/plain": [
       "<Figure size 360x360 with 1 Axes>"
      ]
     },
     "metadata": {
      "needs_background": "light"
     },
     "output_type": "display_data"
    }
   ],
   "source": [
    "sns.displot(np.log10(norm_density), kde=True)"
   ]
  },
  {
   "cell_type": "code",
   "execution_count": null,
   "id": "under-atlas",
   "metadata": {},
   "outputs": [],
   "source": []
  },
  {
   "cell_type": "code",
   "execution_count": null,
   "id": "subjective-contact",
   "metadata": {},
   "outputs": [],
   "source": []
  },
  {
   "cell_type": "code",
   "execution_count": 29,
   "id": "measured-resource",
   "metadata": {},
   "outputs": [
    {
     "data": {
      "image/png": "[encoded data removed]",
      "text/plain": [
       "<Figure size 3600x360 with 1 Axes>"
      ]
     },
     "metadata": {
      "needs_background": "light"
     },
     "output_type": "display_data"
    }
   ],
   "source": [
    "\n",
    "\n",
    "\"\"\"if \"setup_text_plots\" not in globals():\n",
    "    from astroML.plotting import setup_text_plots\n",
    "setup_text_plots(fontsize=8, usetex=True)\"\"\"\n",
    "\n",
    "# Add second dimension and transpose array to match input format for GaussianMixture\n",
    "X = np.expand_dims(np.log10(norm_density), axis=0).T\n",
    "\n",
    "# train GaussianMixture\n",
    "model = GaussianMixture(2).fit(X)\n",
    "\n",
    "# Define figure params\n",
    "fig = plt.figure(figsize=(50, 5))\n",
    "fig.subplots_adjust(left=0.12, right=0.97, bottom=0.21, top=0.9, wspace=0.5)\n",
    "ax = fig.add_subplot(131)\n",
    "\n",
    "x = np.linspace(-6, 6, 1000)\n",
    "logprob = model.score_samples(x.reshape(-1, 1))\n",
    "responsibilities = model.predict_proba(x.reshape(-1, 1))\n",
    "pdf = np.exp(logprob)\n",
    "pdf_individual = responsibilities * pdf[:, np.newaxis]\n",
    "\n",
    "ax.hist(X, 30, density=True, histtype='stepfilled', alpha=0.4)\n",
    "# Add combined kde line\n",
    "ax.plot(x, pdf, '-k')\n",
    "# Add individual lines for low and high density\n",
    "ax.plot(x, pdf_individual, '--k')\n",
    "ax.text(0.04, 0.96, \"Best-fit Mixture\", ha='left', va='top', transform=ax.transAxes)\n",
    "\n",
    "ax.set_xlabel('$x$')\n",
    "ax.set_ylabel('$p(x)$')\n",
    "plt.savefig(\"plot_v1.png\", bbox_inches='tight')\n",
    "plt.show()"
   ]
  },
  {
   "cell_type": "code",
   "execution_count": null,
   "id": "japanese-galaxy",
   "metadata": {},
   "outputs": [],
   "source": []
  },
  {
   "cell_type": "code",
   "execution_count": null,
   "id": "adverse-spoke",
   "metadata": {},
   "outputs": [],
   "source": []
  },
  {
   "cell_type": "code",
   "execution_count": null,
   "id": "passive-sunset",
   "metadata": {},
   "outputs": [],
   "source": []
  },
  {
   "cell_type": "code",
   "execution_count": null,
   "id": "compound-pride",
   "metadata": {},
   "outputs": [],
   "source": []
  },
  {
   "cell_type": "markdown",
   "id": "mathematical-inspection",
   "metadata": {},
   "source": [
    "# Please ignore below code"
   ]
  },
  {
   "cell_type": "markdown",
   "id": "warming-bible",
   "metadata": {},
   "source": [
    "# Calculating the Mahalanobis distance"
   ]
  },
  {
   "cell_type": "code",
   "execution_count": null,
   "id": "recognized-point",
   "metadata": {},
   "outputs": [],
   "source": [
    "pv_6d = np.array([df_conv[\"x\"], df_conv[\"y\"], df_conv[\"z\"], df_conv[\"vx\"], df_conv[\"vy\"], df_conv[\"vz\"]])"
   ]
  },
  {
   "cell_type": "code",
   "execution_count": null,
   "id": "coated-tunnel",
   "metadata": {},
   "outputs": [],
   "source": [
    "pv_6d_cov_mat = np.cov(pv_6d)            # Calculate the covariance matrix"
   ]
  },
  {
   "cell_type": "code",
   "execution_count": null,
   "id": "urban-acquisition",
   "metadata": {},
   "outputs": [],
   "source": [
    "pv_6d_inv = np.linalg.inv(pv_6d_cov_mat) # Determine the inverse matrix"
   ]
  },
  {
   "cell_type": "code",
   "execution_count": null,
   "id": "enormous-business",
   "metadata": {},
   "outputs": [],
   "source": [
    "start = time.perf_counter()\n",
    "mah_dist_arr = []\n",
    "for j in range(100):\n",
    "    mahal_dist = np.zeros(pv_6d.shape[1])\n",
    "    for i in range(len(mahal_dist)):\n",
    "        mahal_dist[i] = distance.mahalanobis(pv_6d.T[j], pv_6d.T[i], pv_6d_inv)\n",
    "    mah_dist_arr.append(mahal_dist)\n",
    "end = time.perf_counter()\n",
    "end - start"
   ]
  },
  {
   "cell_type": "code",
   "execution_count": null,
   "id": "explicit-projection",
   "metadata": {},
   "outputs": [],
   "source": [
    "start = time.perf_counter()\n",
    "mahal_dist_ndense = []\n",
    "for i in range(len(mah_dist_arr)):\n",
    "    mahal_dist_ndense.append(np.sort(mah_dist_arr[i])[NDENSE])\n",
    "end = time.perf_counter()\n",
    "end - start"
   ]
  },
  {
   "cell_type": "code",
   "execution_count": null,
   "id": "hollywood-swift",
   "metadata": {},
   "outputs": [],
   "source": [
    "len(mahal_dist_ndense)"
   ]
  },
  {
   "cell_type": "code",
   "execution_count": null,
   "id": "dramatic-influence",
   "metadata": {},
   "outputs": [],
   "source": [
    "print(len(mahal_dist_ndense))\n",
    "new =[]\n",
    "for i in range(len(mahal_dist_ndense)):\n",
    "    if mahal_dist_ndense[i] > 0.2:\n",
    "        continue\n",
    "    new.append(mahal_dist_ndense[i])\n",
    "print(len(mahal_dist_ndense))"
   ]
  },
  {
   "cell_type": "code",
   "execution_count": null,
   "id": "municipal-production",
   "metadata": {},
   "outputs": [],
   "source": [
    "#divide density by median of the whole set"
   ]
  },
  {
   "cell_type": "code",
   "execution_count": null,
   "id": "false-charles",
   "metadata": {},
   "outputs": [],
   "source": [
    "sns.displot(mahal_dist_ndense, kde=True)"
   ]
  },
  {
   "cell_type": "code",
   "execution_count": null,
   "id": "dried-ordering",
   "metadata": {},
   "outputs": [],
   "source": []
  }
 ],
 "metadata": {
  "kernelspec": {
   "display_name": "Python 3",
   "language": "python",
   "name": "python3"
  },
  "language_info": {
   "codemirror_mode": {
    "name": "ipython",
    "version": 3
   },
   "file_extension": ".py",
   "mimetype": "text/x-python",
   "name": "python",
   "nbconvert_exporter": "python",
   "pygments_lexer": "ipython3",
   "version": "3.8.6"
  }
 },
 "nbformat": 4,
 "nbformat_minor": 5
}
