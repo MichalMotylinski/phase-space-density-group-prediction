{
 "cells": [
  {
   "cell_type": "code",
   "execution_count": 1,
   "id": "65dfd7b6-a7a7-4ac1-991e-47901a774feb",
   "metadata": {},
   "outputs": [
    {
     "name": "stdout",
     "output_type": "stream",
     "text": [
      "Created TAP+ (v1.2.1) - Connection:\n",
      "\tHost: gea.esac.esa.int\n",
      "\tUse HTTPS: True\n",
      "\tPort: 443\n",
      "\tSSL Port: 443\n",
      "Created TAP+ (v1.2.1) - Connection:\n",
      "\tHost: geadata.esac.esa.int\n",
      "\tUse HTTPS: True\n",
      "\tPort: 443\n",
      "\tSSL Port: 443\n"
     ]
    }
   ],
   "source": [
    "import matplotlib.pyplot as plt\n",
    "import numpy as np\n",
    "import os\n",
    "from os import path\n",
    "from pathlib import Path\n",
    "import pandas as pd\n",
    "import pickle\n",
    "import seaborn as sns\n",
    "import shutil\n",
    "import time\n",
    "\n",
    "from graphs.mixture_fit import best_fit_mixture\n",
    "from models.gaussian_mixture import remove_outliers, gaussian_mixture\n",
    "from preprocessing.exoplanets_gaia_crossmatch import gaia_exoplanets_cross, transform_to_cart\n",
    "from preprocessing.download_gaia import GaiaDataset\n",
    "from preprocessing.calc_density import get_densities"
   ]
  },
  {
   "cell_type": "markdown",
   "id": "0bfb48bf-fec4-4558-bbcf-ab9ddf35517e",
   "metadata": {},
   "source": [
    "## Create folder structure"
   ]
  },
  {
   "cell_type": "code",
   "execution_count": 3,
   "id": "e6ff7cc8-3851-43b9-84f7-5ec734bb7db1",
   "metadata": {},
   "outputs": [],
   "source": [
    "crossmatch_dir = \"data/crossmatch/dr3\"\n",
    "densities_dir = \"data/densities/dr3\"\n",
    "classification_dir = \"data/classification/dr3\"\n",
    "datasets_dir = \"data/initial_datasets\""
   ]
  },
  {
   "cell_type": "code",
   "execution_count": null,
   "id": "98a6e025-6398-4115-a56d-12b09eb186bb",
   "metadata": {},
   "outputs": [],
   "source": [
    "if not os.path.exists(crossmatch_dir):\n",
    "    os.mkdir(crossmatch_dir)\n",
    "if not os.path.exists(densities_dir):\n",
    "    os.mkdir(densities_dir)\n",
    "if not os.path.exists(classification_dir):\n",
    "    os.mkdir(classification_dir)\n",
    "if not os.path.exists(datasets_dir):\n",
    "    os.mkdir(datasets_dir)"
   ]
  },
  {
   "cell_type": "markdown",
   "id": "0cac63c4-aa72-4b18-ad83-e8c96b1ce7d8",
   "metadata": {},
   "source": [
    "# 1. Download Gaia dataset"
   ]
  },
  {
   "cell_type": "code",
   "execution_count": 5,
   "id": "e2d589aa-7bf8-408e-84dc-697439c72a44",
   "metadata": {},
   "outputs": [
    {
     "name": "stdout",
     "output_type": "stream",
     "text": [
      "OK\n",
      "INFO: Query finished. [astroquery.utils.tap.core]\n"
     ]
    }
   ],
   "source": [
    "GaiaDataset().get_gaia()"
   ]
  },
  {
   "cell_type": "markdown",
   "id": "7a0e4697-7f3e-4a92-9518-fe37cc9e93b1",
   "metadata": {},
   "source": [
    "# 2. Crossmatch NASA Exoplanet dataset with Gaia dataset"
   ]
  },
  {
   "cell_type": "code",
   "execution_count": 32,
   "id": "e6e9fba9-5c91-487d-a908-27725ed86ebb",
   "metadata": {},
   "outputs": [],
   "source": [
    "def exoplanet_gaia_crossmatch(crossmatch_dir, transform_type=\"6d\", table_name=\"gaiaedr3\", save_spherical=True):\n",
    "    \"\"\"\n",
    "    :param: transform_type: Type of coordinates transformation to perform on the data (6d, 5d_drop_vx, 5d_drop_vy or 5d_drop_vz).\n",
    "    :param: table_name: Name of the Gaia dataset to use.\n",
    "    :param: save_spherical: Save spherical values to a CSV file. When looping it is adviced to apply only once to save time. \n",
    "    \n",
    "    :return: Density values for 1065 exoplanets and their neighbours, Winter-Gaia-NASA exoplanet archive crossmatch\n",
    "    table containing 6D coordinates only and Winter-Gaia-NASA exoplanet archive crossmatch table with data from all 3\n",
    "    sources combined.\n",
    "    \"\"\"\n",
    "\n",
    "    # Cross match datasets and generate new ones.\n",
    "    gaia = gaia_exoplanets_cross(f\"{table_name}.csv\", crossmatch_dir, save_gaia_id=True, return_data=True, save_spherical=save_spherical)\n",
    "    transform_to_cart(gaia, table_name, crossmatch_dir, setting=transform_type)"
   ]
  },
  {
   "cell_type": "code",
   "execution_count": 8,
   "id": "3da03d62-13d3-4705-8f78-1e0ad8a9a021",
   "metadata": {
    "tags": []
   },
   "outputs": [],
   "source": [
    "exoplanet_gaia_crossmatch(crossmatch_dir, transform_type=\"6d\", save_spherical=True)\n",
    "exoplanet_gaia_crossmatch(crossmatch_dir, transform_type=\"5d_drop_vx\", save_spherical=False)\n",
    "exoplanet_gaia_crossmatch(crossmatch_dir, transform_type=\"5d_drop_vy\", save_spherical=False)\n",
    "exoplanet_gaia_crossmatch(crossmatch_dir, transform_type=\"5d_drop_rv\", save_spherical=False)\n",
    "exoplanet_gaia_crossmatch(crossmatch_dir, transform_type=\"5d_drop_vz\", save_spherical=False)"
   ]
  },
  {
   "cell_type": "markdown",
   "id": "9bd4b916-ad8c-420a-96ed-1a879d7002c6",
   "metadata": {},
   "source": [
    "# 3. Calculate phase space density for neighbours of exoplanet hosts"
   ]
  },
  {
   "cell_type": "code",
   "execution_count": 3,
   "id": "3c4646a6-9e7c-4e9f-b5be-3a0851ff556e",
   "metadata": {},
   "outputs": [],
   "source": [
    "def calculate_densities(star_labels_filename, dataset_filename, crossmatch_dir, densities_dir, exoplanets_only=True, start=0, stop=100000, step=1, run_on_gpu=False):\n",
    "    \"\"\"\n",
    "    Calculate phase space density for given set of stars.\n",
    "    \n",
    "    :param: star_labels_filename: Name of the file containing star labels.\n",
    "    :param: dataset_filename: Name of the file containing coordinates of the stars.\n",
    "    :param: exoplanets_only: Compute density only for a list of exoplanets (~1000).\n",
    "    :param: n_stars: Numeber of stars to calculate density for.\n",
    "    :param: run_on_gpu: Use GPU accelerated pipeline.\n",
    "    \"\"\"\n",
    "    \n",
    "    labels_file = pd.read_csv(os.path.join(crossmatch_dir, star_labels_filename), dtype={\"source_id\": str, \"Host\": str})\n",
    "    gaia = pd.read_csv(os.path.join(crossmatch_dir, dataset_filename))\n",
    "                \n",
    "    if gaia.shape[1] == 6:\n",
    "        name = dataset_filename.split(\"_\")[0] + f\"_{dataset_filename[-6:-4]}\"\n",
    "    else:\n",
    "        name = dataset_filename.split(\"_\")[0] + f\"_{dataset_filename[-14:-4]}\"\n",
    "\n",
    "    if exoplanets_only:\n",
    "        labels = labels_file[\"Host\"].dropna()\n",
    "        start = 0\n",
    "        stop = labels.shape[0]\n",
    "        step = 1\n",
    "        name = name + \"_only-\" + dataset_filename.split(\"_\")[1] + \"s\"\n",
    "    else:\n",
    "        labels = labels_file[\"source_id\"]\n",
    "        name = name + f\"_{str(start)}_{str(stop)}\"\n",
    "\n",
    "\n",
    "    densities, dropped = get_densities(labels.to_numpy(), gaia.to_numpy(), start=start, stop=stop, step=step, run_on_gpu=run_on_gpu)\n",
    "    \n",
    "    with open(f\"{densities_dir}/densities_{name}.data\", \"wb\") as f:\n",
    "        pickle.dump(densities, f)\n",
    "    with open(f\"{densities_dir}/dropped_densities_{name}.data\", \"wb\") as f:\n",
    "        pickle.dump(dropped, f)"
   ]
  },
  {
   "cell_type": "code",
   "execution_count": 4,
   "id": "ae354bc8-1cf0-4dda-850a-35c9ce28c24a",
   "metadata": {
    "collapsed": true,
    "jupyter": {
     "outputs_hidden": true
    },
    "tags": []
   },
   "outputs": [
    {
     "name": "stdout",
     "output_type": "stream",
     "text": [
      "gaiaedr3_exoplanet_cross_cartesian_5d_drop_rv.csv\n",
      "[  43.45707318  680.05666801  181.7113348  ...  144.64907299 1236.2134252\n",
      "   13.53082587]\n",
      "[0.08904531 1.39346377 0.37233392 0.18610557 1.04338644 0.50730358\n",
      " 1.40589494 1.46725307 1.02351093 1.21825855 0.19117919 0.07740128\n",
      " 1.52887852 0.10397187 1.18146957 0.33835085 1.12161869 1.12372453\n",
      " 1.18585869 1.25618811]\n",
      "[  41.28421953  646.05383461  172.62576806 ...  137.41661934 1174.40275394\n",
      "   12.85428457]\n",
      "[0.08904531 1.39346377 0.37233392 0.18610557 1.04338644 0.50730358\n",
      " 1.40589494 1.46725307 1.02351093 1.21825855 0.19117919 0.07740128\n",
      " 1.52887852 0.10397187 1.18146957 0.33835085 1.12161869 1.12372453\n",
      " 1.18585869 1.25618811]\n",
      "AAA\n"
     ]
    },
    {
     "ename": "KeyboardInterrupt",
     "evalue": "",
     "output_type": "error",
     "traceback": [
      "\u001b[0;31m---------------------------------------------------------------------------\u001b[0m",
      "\u001b[0;31mKeyboardInterrupt\u001b[0m                         Traceback (most recent call last)",
      "\u001b[0;32m/tmp/ipykernel_23189/2288187086.py\u001b[0m in \u001b[0;36m<module>\u001b[0;34m\u001b[0m\n\u001b[1;32m      5\u001b[0m         \u001b[0mprint\u001b[0m\u001b[0;34m(\u001b[0m\u001b[0mfname\u001b[0m\u001b[0;34m)\u001b[0m\u001b[0;34m\u001b[0m\u001b[0;34m\u001b[0m\u001b[0m\n\u001b[1;32m      6\u001b[0m         \u001b[0mstart\u001b[0m \u001b[0;34m=\u001b[0m \u001b[0mtime\u001b[0m\u001b[0;34m.\u001b[0m\u001b[0mperf_counter\u001b[0m\u001b[0;34m(\u001b[0m\u001b[0;34m)\u001b[0m\u001b[0;34m\u001b[0m\u001b[0;34m\u001b[0m\u001b[0m\n\u001b[0;32m----> 7\u001b[0;31m         \u001b[0mcalculate_densities\u001b[0m\u001b[0;34m(\u001b[0m\u001b[0;34m\"gaiaedr3_star_labels.csv\"\u001b[0m\u001b[0;34m,\u001b[0m \u001b[0mfname\u001b[0m\u001b[0;34m,\u001b[0m \u001b[0mcrossmatch_dir\u001b[0m\u001b[0;34m,\u001b[0m \u001b[0mdensities_dir\u001b[0m\u001b[0;34m,\u001b[0m \u001b[0mexoplanets_only\u001b[0m\u001b[0;34m=\u001b[0m\u001b[0;32mTrue\u001b[0m\u001b[0;34m,\u001b[0m \u001b[0mrun_on_gpu\u001b[0m\u001b[0;34m=\u001b[0m\u001b[0;32mTrue\u001b[0m\u001b[0;34m)\u001b[0m\u001b[0;34m\u001b[0m\u001b[0;34m\u001b[0m\u001b[0m\n\u001b[0m\u001b[1;32m      8\u001b[0m         \u001b[0mend\u001b[0m \u001b[0;34m=\u001b[0m \u001b[0mtime\u001b[0m\u001b[0;34m.\u001b[0m\u001b[0mperf_counter\u001b[0m\u001b[0;34m(\u001b[0m\u001b[0;34m)\u001b[0m\u001b[0;34m\u001b[0m\u001b[0;34m\u001b[0m\u001b[0m\n\u001b[1;32m      9\u001b[0m         \u001b[0mprint\u001b[0m\u001b[0;34m(\u001b[0m\u001b[0;34mf\"{fname} completed in: {str(end-start)}\"\u001b[0m\u001b[0;34m)\u001b[0m\u001b[0;34m\u001b[0m\u001b[0;34m\u001b[0m\u001b[0m\n",
      "\u001b[0;32m/tmp/ipykernel_23189/2591605466.py\u001b[0m in \u001b[0;36mcalculate_densities\u001b[0;34m(star_labels_filename, dataset_filename, crossmatch_dir, densities_dir, exoplanets_only, start, stop, step, run_on_gpu)\u001b[0m\n\u001b[1;32m     29\u001b[0m \u001b[0;34m\u001b[0m\u001b[0m\n\u001b[1;32m     30\u001b[0m \u001b[0;34m\u001b[0m\u001b[0m\n\u001b[0;32m---> 31\u001b[0;31m     \u001b[0mdensities\u001b[0m\u001b[0;34m,\u001b[0m \u001b[0mdropped\u001b[0m \u001b[0;34m=\u001b[0m \u001b[0mget_densities\u001b[0m\u001b[0;34m(\u001b[0m\u001b[0mlabels\u001b[0m\u001b[0;34m.\u001b[0m\u001b[0mto_numpy\u001b[0m\u001b[0;34m(\u001b[0m\u001b[0;34m)\u001b[0m\u001b[0;34m,\u001b[0m \u001b[0mgaia\u001b[0m\u001b[0;34m.\u001b[0m\u001b[0mto_numpy\u001b[0m\u001b[0;34m(\u001b[0m\u001b[0;34m)\u001b[0m\u001b[0;34m,\u001b[0m \u001b[0mstart\u001b[0m\u001b[0;34m=\u001b[0m\u001b[0mstart\u001b[0m\u001b[0;34m,\u001b[0m \u001b[0mstop\u001b[0m\u001b[0;34m=\u001b[0m\u001b[0mstop\u001b[0m\u001b[0;34m,\u001b[0m \u001b[0mstep\u001b[0m\u001b[0;34m=\u001b[0m\u001b[0mstep\u001b[0m\u001b[0;34m,\u001b[0m \u001b[0mrun_on_gpu\u001b[0m\u001b[0;34m=\u001b[0m\u001b[0mrun_on_gpu\u001b[0m\u001b[0;34m)\u001b[0m\u001b[0;34m\u001b[0m\u001b[0;34m\u001b[0m\u001b[0m\n\u001b[0m\u001b[1;32m     32\u001b[0m \u001b[0;34m\u001b[0m\u001b[0m\n\u001b[1;32m     33\u001b[0m     \u001b[0;32mwith\u001b[0m \u001b[0mopen\u001b[0m\u001b[0;34m(\u001b[0m\u001b[0;34mf\"{densities_dir}/densities_{name}.data\"\u001b[0m\u001b[0;34m,\u001b[0m \u001b[0;34m\"wb\"\u001b[0m\u001b[0;34m)\u001b[0m \u001b[0;32mas\u001b[0m \u001b[0mf\u001b[0m\u001b[0;34m:\u001b[0m\u001b[0;34m\u001b[0m\u001b[0;34m\u001b[0m\u001b[0m\n",
      "\u001b[0;32m~/MSc_project/preprocessing/calc_density.py\u001b[0m in \u001b[0;36mget_densities\u001b[0;34m(labels, gaia, start, stop, step, run_on_gpu)\u001b[0m\n\u001b[1;32m    301\u001b[0m             \u001b[0;32melse\u001b[0m\u001b[0;34m:\u001b[0m\u001b[0;34m\u001b[0m\u001b[0;34m\u001b[0m\u001b[0m\n\u001b[1;32m    302\u001b[0m                 \u001b[0mmah_dist_arr\u001b[0m \u001b[0;34m=\u001b[0m \u001b[0mnp\u001b[0m\u001b[0;34m.\u001b[0m\u001b[0mzeros\u001b[0m\u001b[0;34m(\u001b[0m\u001b[0mshape\u001b[0m\u001b[0;34m=\u001b[0m\u001b[0;34m(\u001b[0m\u001b[0mset1\u001b[0m\u001b[0;34m.\u001b[0m\u001b[0mshape\u001b[0m\u001b[0;34m[\u001b[0m\u001b[0;36m0\u001b[0m\u001b[0;34m]\u001b[0m\u001b[0;34m,\u001b[0m\u001b[0;34m)\u001b[0m\u001b[0;34m)\u001b[0m\u001b[0;34m\u001b[0m\u001b[0;34m\u001b[0m\u001b[0m\n\u001b[0;32m--> 303\u001b[0;31m                 \u001b[0mcalc_mah_gpu_5d\u001b[0m\u001b[0;34m[\u001b[0m\u001b[0;36m80\u001b[0m\u001b[0;34m,\u001b[0m \u001b[0;36m96\u001b[0m\u001b[0;34m]\u001b[0m\u001b[0;34m(\u001b[0m\u001b[0mset1\u001b[0m\u001b[0;34m,\u001b[0m \u001b[0mset2\u001b[0m\u001b[0;34m,\u001b[0m \u001b[0mset2_inv\u001b[0m\u001b[0;34m,\u001b[0m \u001b[0mmah_dist_arr\u001b[0m\u001b[0;34m)\u001b[0m\u001b[0;34m\u001b[0m\u001b[0;34m\u001b[0m\u001b[0m\n\u001b[0m\u001b[1;32m    304\u001b[0m         \u001b[0;32melse\u001b[0m\u001b[0;34m:\u001b[0m\u001b[0;34m\u001b[0m\u001b[0;34m\u001b[0m\u001b[0m\n\u001b[1;32m    305\u001b[0m             \u001b[0mmah_dist_arr\u001b[0m \u001b[0;34m=\u001b[0m \u001b[0mnp\u001b[0m\u001b[0;34m.\u001b[0m\u001b[0mzeros\u001b[0m\u001b[0;34m(\u001b[0m\u001b[0mset1\u001b[0m\u001b[0;34m.\u001b[0m\u001b[0mshape\u001b[0m\u001b[0;34m[\u001b[0m\u001b[0;36m0\u001b[0m\u001b[0;34m]\u001b[0m\u001b[0;34m,\u001b[0m \u001b[0mdtype\u001b[0m\u001b[0;34m=\u001b[0m\u001b[0;34m\"float64\"\u001b[0m\u001b[0;34m)\u001b[0m\u001b[0;34m\u001b[0m\u001b[0;34m\u001b[0m\u001b[0m\n",
      "\u001b[0;32m~/anaconda3/envs/Exoplanets/lib/python3.8/site-packages/numba/cuda/compiler.py\u001b[0m in \u001b[0;36m__call__\u001b[0;34m(self, *args)\u001b[0m\n\u001b[1;32m    819\u001b[0m \u001b[0;34m\u001b[0m\u001b[0m\n\u001b[1;32m    820\u001b[0m     \u001b[0;32mdef\u001b[0m \u001b[0m__call__\u001b[0m\u001b[0;34m(\u001b[0m\u001b[0mself\u001b[0m\u001b[0;34m,\u001b[0m \u001b[0;34m*\u001b[0m\u001b[0margs\u001b[0m\u001b[0;34m)\u001b[0m\u001b[0;34m:\u001b[0m\u001b[0;34m\u001b[0m\u001b[0;34m\u001b[0m\u001b[0m\n\u001b[0;32m--> 821\u001b[0;31m         return self.dispatcher.call(args, self.griddim, self.blockdim,\n\u001b[0m\u001b[1;32m    822\u001b[0m                                     self.stream, self.sharedmem)\n\u001b[1;32m    823\u001b[0m \u001b[0;34m\u001b[0m\u001b[0m\n",
      "\u001b[0;32m~/anaconda3/envs/Exoplanets/lib/python3.8/site-packages/numba/cuda/compiler.py\u001b[0m in \u001b[0;36mcall\u001b[0;34m(self, args, griddim, blockdim, stream, sharedmem)\u001b[0m\n\u001b[1;32m    964\u001b[0m             \u001b[0mkernel\u001b[0m \u001b[0;34m=\u001b[0m \u001b[0m_dispatcher\u001b[0m\u001b[0;34m.\u001b[0m\u001b[0mDispatcher\u001b[0m\u001b[0;34m.\u001b[0m\u001b[0m_cuda_call\u001b[0m\u001b[0;34m(\u001b[0m\u001b[0mself\u001b[0m\u001b[0;34m,\u001b[0m \u001b[0;34m*\u001b[0m\u001b[0margs\u001b[0m\u001b[0;34m)\u001b[0m\u001b[0;34m\u001b[0m\u001b[0;34m\u001b[0m\u001b[0m\n\u001b[1;32m    965\u001b[0m \u001b[0;34m\u001b[0m\u001b[0m\n\u001b[0;32m--> 966\u001b[0;31m         \u001b[0mkernel\u001b[0m\u001b[0;34m.\u001b[0m\u001b[0mlaunch\u001b[0m\u001b[0;34m(\u001b[0m\u001b[0margs\u001b[0m\u001b[0;34m,\u001b[0m \u001b[0mgriddim\u001b[0m\u001b[0;34m,\u001b[0m \u001b[0mblockdim\u001b[0m\u001b[0;34m,\u001b[0m \u001b[0mstream\u001b[0m\u001b[0;34m,\u001b[0m \u001b[0msharedmem\u001b[0m\u001b[0;34m)\u001b[0m\u001b[0;34m\u001b[0m\u001b[0;34m\u001b[0m\u001b[0m\n\u001b[0m\u001b[1;32m    967\u001b[0m \u001b[0;34m\u001b[0m\u001b[0m\n\u001b[1;32m    968\u001b[0m     \u001b[0;32mdef\u001b[0m \u001b[0m_compile_for_args\u001b[0m\u001b[0;34m(\u001b[0m\u001b[0mself\u001b[0m\u001b[0;34m,\u001b[0m \u001b[0;34m*\u001b[0m\u001b[0margs\u001b[0m\u001b[0;34m,\u001b[0m \u001b[0;34m**\u001b[0m\u001b[0mkws\u001b[0m\u001b[0;34m)\u001b[0m\u001b[0;34m:\u001b[0m\u001b[0;34m\u001b[0m\u001b[0;34m\u001b[0m\u001b[0m\n",
      "\u001b[0;32m~/anaconda3/envs/Exoplanets/lib/python3.8/site-packages/numba/cuda/compiler.py\u001b[0m in \u001b[0;36mlaunch\u001b[0;34m(self, args, griddim, blockdim, stream, sharedmem)\u001b[0m\n\u001b[1;32m    735\u001b[0m         \u001b[0;31m# retrieve auto converted arrays\u001b[0m\u001b[0;34m\u001b[0m\u001b[0;34m\u001b[0m\u001b[0;34m\u001b[0m\u001b[0m\n\u001b[1;32m    736\u001b[0m         \u001b[0;32mfor\u001b[0m \u001b[0mwb\u001b[0m \u001b[0;32min\u001b[0m \u001b[0mretr\u001b[0m\u001b[0;34m:\u001b[0m\u001b[0;34m\u001b[0m\u001b[0;34m\u001b[0m\u001b[0m\n\u001b[0;32m--> 737\u001b[0;31m             \u001b[0mwb\u001b[0m\u001b[0;34m(\u001b[0m\u001b[0;34m)\u001b[0m\u001b[0;34m\u001b[0m\u001b[0;34m\u001b[0m\u001b[0m\n\u001b[0m\u001b[1;32m    738\u001b[0m \u001b[0;34m\u001b[0m\u001b[0m\n\u001b[1;32m    739\u001b[0m     \u001b[0;32mdef\u001b[0m \u001b[0m_prepare_args\u001b[0m\u001b[0;34m(\u001b[0m\u001b[0mself\u001b[0m\u001b[0;34m,\u001b[0m \u001b[0mty\u001b[0m\u001b[0;34m,\u001b[0m \u001b[0mval\u001b[0m\u001b[0;34m,\u001b[0m \u001b[0mstream\u001b[0m\u001b[0;34m,\u001b[0m \u001b[0mretr\u001b[0m\u001b[0;34m,\u001b[0m \u001b[0mkernelargs\u001b[0m\u001b[0;34m)\u001b[0m\u001b[0;34m:\u001b[0m\u001b[0;34m\u001b[0m\u001b[0;34m\u001b[0m\u001b[0m\n",
      "\u001b[0;32m~/anaconda3/envs/Exoplanets/lib/python3.8/site-packages/numba/cuda/args.py\u001b[0m in \u001b[0;36m<lambda>\u001b[0;34m()\u001b[0m\n\u001b[1;32m     60\u001b[0m             stream=stream)\n\u001b[1;32m     61\u001b[0m         \u001b[0;32mif\u001b[0m \u001b[0mconv\u001b[0m\u001b[0;34m:\u001b[0m\u001b[0;34m\u001b[0m\u001b[0;34m\u001b[0m\u001b[0m\n\u001b[0;32m---> 62\u001b[0;31m             \u001b[0mretr\u001b[0m\u001b[0;34m.\u001b[0m\u001b[0mappend\u001b[0m\u001b[0;34m(\u001b[0m\u001b[0;32mlambda\u001b[0m\u001b[0;34m:\u001b[0m \u001b[0mdevary\u001b[0m\u001b[0;34m.\u001b[0m\u001b[0mcopy_to_host\u001b[0m\u001b[0;34m(\u001b[0m\u001b[0mself\u001b[0m\u001b[0;34m.\u001b[0m\u001b[0mvalue\u001b[0m\u001b[0;34m,\u001b[0m \u001b[0mstream\u001b[0m\u001b[0;34m=\u001b[0m\u001b[0mstream\u001b[0m\u001b[0;34m)\u001b[0m\u001b[0;34m)\u001b[0m\u001b[0;34m\u001b[0m\u001b[0;34m\u001b[0m\u001b[0m\n\u001b[0m\u001b[1;32m     63\u001b[0m         \u001b[0;32mreturn\u001b[0m \u001b[0mdevary\u001b[0m\u001b[0;34m\u001b[0m\u001b[0;34m\u001b[0m\u001b[0m\n\u001b[1;32m     64\u001b[0m \u001b[0;34m\u001b[0m\u001b[0m\n",
      "\u001b[0;32m~/anaconda3/envs/Exoplanets/lib/python3.8/site-packages/numba/cuda/cudadrv/devices.py\u001b[0m in \u001b[0;36m_require_cuda_context\u001b[0;34m(*args, **kws)\u001b[0m\n\u001b[1;32m    222\u001b[0m     \u001b[0;32mdef\u001b[0m \u001b[0m_require_cuda_context\u001b[0m\u001b[0;34m(\u001b[0m\u001b[0;34m*\u001b[0m\u001b[0margs\u001b[0m\u001b[0;34m,\u001b[0m \u001b[0;34m**\u001b[0m\u001b[0mkws\u001b[0m\u001b[0;34m)\u001b[0m\u001b[0;34m:\u001b[0m\u001b[0;34m\u001b[0m\u001b[0;34m\u001b[0m\u001b[0m\n\u001b[1;32m    223\u001b[0m         \u001b[0;32mwith\u001b[0m \u001b[0m_runtime\u001b[0m\u001b[0;34m.\u001b[0m\u001b[0mensure_context\u001b[0m\u001b[0;34m(\u001b[0m\u001b[0;34m)\u001b[0m\u001b[0;34m:\u001b[0m\u001b[0;34m\u001b[0m\u001b[0;34m\u001b[0m\u001b[0m\n\u001b[0;32m--> 224\u001b[0;31m             \u001b[0;32mreturn\u001b[0m \u001b[0mfn\u001b[0m\u001b[0;34m(\u001b[0m\u001b[0;34m*\u001b[0m\u001b[0margs\u001b[0m\u001b[0;34m,\u001b[0m \u001b[0;34m**\u001b[0m\u001b[0mkws\u001b[0m\u001b[0;34m)\u001b[0m\u001b[0;34m\u001b[0m\u001b[0;34m\u001b[0m\u001b[0m\n\u001b[0m\u001b[1;32m    225\u001b[0m \u001b[0;34m\u001b[0m\u001b[0m\n\u001b[1;32m    226\u001b[0m     \u001b[0;32mreturn\u001b[0m \u001b[0m_require_cuda_context\u001b[0m\u001b[0;34m\u001b[0m\u001b[0;34m\u001b[0m\u001b[0m\n",
      "\u001b[0;32m~/anaconda3/envs/Exoplanets/lib/python3.8/site-packages/numba/cuda/cudadrv/devicearray.py\u001b[0m in \u001b[0;36mcopy_to_host\u001b[0;34m(self, ary, stream)\u001b[0m\n\u001b[1;32m    259\u001b[0m \u001b[0;34m\u001b[0m\u001b[0m\n\u001b[1;32m    260\u001b[0m         \u001b[0;32mif\u001b[0m \u001b[0mself\u001b[0m\u001b[0;34m.\u001b[0m\u001b[0malloc_size\u001b[0m \u001b[0;34m!=\u001b[0m \u001b[0;36m0\u001b[0m\u001b[0;34m:\u001b[0m\u001b[0;34m\u001b[0m\u001b[0;34m\u001b[0m\u001b[0m\n\u001b[0;32m--> 261\u001b[0;31m             _driver.device_to_host(hostary, self, self.alloc_size,\n\u001b[0m\u001b[1;32m    262\u001b[0m                                    stream=stream)\n\u001b[1;32m    263\u001b[0m \u001b[0;34m\u001b[0m\u001b[0m\n",
      "\u001b[0;32m~/anaconda3/envs/Exoplanets/lib/python3.8/site-packages/numba/cuda/cudadrv/driver.py\u001b[0m in \u001b[0;36mdevice_to_host\u001b[0;34m(dst, src, size, stream)\u001b[0m\n\u001b[1;32m   2401\u001b[0m         \u001b[0mfn\u001b[0m \u001b[0;34m=\u001b[0m \u001b[0mdriver\u001b[0m\u001b[0;34m.\u001b[0m\u001b[0mcuMemcpyDtoH\u001b[0m\u001b[0;34m\u001b[0m\u001b[0;34m\u001b[0m\u001b[0m\n\u001b[1;32m   2402\u001b[0m \u001b[0;34m\u001b[0m\u001b[0m\n\u001b[0;32m-> 2403\u001b[0;31m     \u001b[0mfn\u001b[0m\u001b[0;34m(\u001b[0m\u001b[0mhost_pointer\u001b[0m\u001b[0;34m(\u001b[0m\u001b[0mdst\u001b[0m\u001b[0;34m)\u001b[0m\u001b[0;34m,\u001b[0m \u001b[0mdevice_pointer\u001b[0m\u001b[0;34m(\u001b[0m\u001b[0msrc\u001b[0m\u001b[0;34m)\u001b[0m\u001b[0;34m,\u001b[0m \u001b[0msize\u001b[0m\u001b[0;34m,\u001b[0m \u001b[0;34m*\u001b[0m\u001b[0mvarargs\u001b[0m\u001b[0;34m)\u001b[0m\u001b[0;34m\u001b[0m\u001b[0;34m\u001b[0m\u001b[0m\n\u001b[0m\u001b[1;32m   2404\u001b[0m \u001b[0;34m\u001b[0m\u001b[0m\n\u001b[1;32m   2405\u001b[0m \u001b[0;34m\u001b[0m\u001b[0m\n",
      "\u001b[0;32m~/anaconda3/envs/Exoplanets/lib/python3.8/site-packages/numba/cuda/cudadrv/driver.py\u001b[0m in \u001b[0;36msafe_cuda_api_call\u001b[0;34m(*args)\u001b[0m\n\u001b[1;32m    297\u001b[0m         \u001b[0;32mdef\u001b[0m \u001b[0msafe_cuda_api_call\u001b[0m\u001b[0;34m(\u001b[0m\u001b[0;34m*\u001b[0m\u001b[0margs\u001b[0m\u001b[0;34m)\u001b[0m\u001b[0;34m:\u001b[0m\u001b[0;34m\u001b[0m\u001b[0;34m\u001b[0m\u001b[0m\n\u001b[1;32m    298\u001b[0m             \u001b[0m_logger\u001b[0m\u001b[0;34m.\u001b[0m\u001b[0mdebug\u001b[0m\u001b[0;34m(\u001b[0m\u001b[0;34m'call driver api: %s'\u001b[0m\u001b[0;34m,\u001b[0m \u001b[0mlibfn\u001b[0m\u001b[0;34m.\u001b[0m\u001b[0m__name__\u001b[0m\u001b[0;34m)\u001b[0m\u001b[0;34m\u001b[0m\u001b[0;34m\u001b[0m\u001b[0m\n\u001b[0;32m--> 299\u001b[0;31m             \u001b[0mretcode\u001b[0m \u001b[0;34m=\u001b[0m \u001b[0mlibfn\u001b[0m\u001b[0;34m(\u001b[0m\u001b[0;34m*\u001b[0m\u001b[0margs\u001b[0m\u001b[0;34m)\u001b[0m\u001b[0;34m\u001b[0m\u001b[0;34m\u001b[0m\u001b[0m\n\u001b[0m\u001b[1;32m    300\u001b[0m             \u001b[0mself\u001b[0m\u001b[0;34m.\u001b[0m\u001b[0m_check_error\u001b[0m\u001b[0;34m(\u001b[0m\u001b[0mfname\u001b[0m\u001b[0;34m,\u001b[0m \u001b[0mretcode\u001b[0m\u001b[0;34m)\u001b[0m\u001b[0;34m\u001b[0m\u001b[0;34m\u001b[0m\u001b[0m\n\u001b[1;32m    301\u001b[0m         \u001b[0;32mreturn\u001b[0m \u001b[0msafe_cuda_api_call\u001b[0m\u001b[0;34m\u001b[0m\u001b[0;34m\u001b[0m\u001b[0m\n",
      "\u001b[0;31mKeyboardInterrupt\u001b[0m: "
     ]
    }
   ],
   "source": [
    "for fname in os.listdir(crossmatch_dir):\n",
    "    if \"cartesian\" in fname:\n",
    "        if \"5d_drop_rv\" not in fname:\n",
    "            continue\n",
    "        print(fname)\n",
    "        start = time.perf_counter()\n",
    "        calculate_densities(\"gaiaedr3_star_labels.csv\", fname, crossmatch_dir, densities_dir, exoplanets_only=True, run_on_gpu=True)\n",
    "        end = time.perf_counter()\n",
    "        print(f\"{fname} completed in: {str(end-start)}\")\n",
    "\n",
    "        start = time.perf_counter()\n",
    "        calculate_densities(\"gaiaedr3_star_labels.csv\", fname, crossmatch_dir, densities_dir, exoplanets_only=False, run_on_gpu=True)\n",
    "        end = time.perf_counter()\n",
    "        print(f\"{fname} completed in: {str(end-start)}\")"
   ]
  },
  {
   "cell_type": "markdown",
   "id": "62e9423d-f2b3-42a6-aae2-48818dd17fb4",
   "metadata": {},
   "source": [
    "# 3. Fit gaussian mixture model to predict if target star belongs to overdensity or underdensity group. Return scores and attributes of the model."
   ]
  },
  {
   "cell_type": "code",
   "execution_count": 17,
   "id": "f04685ab-3c02-4e6e-bca3-646094d24ee3",
   "metadata": {},
   "outputs": [],
   "source": [
    "def labels(row):\n",
    "    if row[\"gm_p_low\"] >= 0.84:\n",
    "        return '0'\n",
    "    elif row[\"gm_p_high\"] >= 0.84:\n",
    "        return '2'\n",
    "    else:\n",
    "        return '1'"
   ]
  },
  {
   "cell_type": "code",
   "execution_count": 18,
   "id": "ba9d2628-900c-4c72-85ce-a7e9e3bf98b2",
   "metadata": {},
   "outputs": [],
   "source": [
    "def fit_gaussian_mixture(file_name, classification_dir, densities_dir, show_graph=False, save_graph=False):\n",
    "\n",
    "    sigma = 2\n",
    "    fig_dir=None\n",
    "    file_name = file_name.split(\".\")[0]\n",
    "    if save_graph:  \n",
    "        if os.path.isdir(f\"figures/{file_name}\"):\n",
    "            shutil.rmtree(f\"figures/{file_name}\")\n",
    "        fig_dir = file_name\n",
    "    \n",
    "        os.mkdir(f\"figures/{fig_dir}\")\n",
    "    \n",
    "    with open(f\"{densities_dir}/{file_name}.data\", \"rb\") as f:\n",
    "        densities = pickle.load(f)\n",
    "\n",
    "    results = []\n",
    "    for i in densities:\n",
    "        # Compute log10 of the host density and expand dimensions for further use\n",
    "        target = np.expand_dims(np.log10(i[1]), axis=0).T\n",
    "\n",
    "        # Remove outliers outside sigma\n",
    "        data = remove_outliers(i[4], sigma=sigma)\n",
    "        \n",
    "        # Apply gaussian mixture model to the data\n",
    "        model, scores = gaussian_mixture(data, [target], components=2, scores_only=False)\n",
    "\n",
    "        # Create list consisting of star name and its density for graph drawing\n",
    "        scores.insert(0, target[0])\n",
    "        scores.insert(0, np.log10(i[4].min()))\n",
    "        scores.insert(0, np.log10(i[4].max()))\n",
    "        scores.insert(0, np.log10(i[4].std()))\n",
    "        scores.insert(0, np.log10(i[4].mean()))\n",
    "        scores.insert(0, i[3])\n",
    "        scores.insert(0, i[2])\n",
    "        scores.insert(0, i[0])\n",
    "        \n",
    "        results.append(scores)\n",
    "        \n",
    "        # Draw best fit mixture\n",
    "        if type(i[0]) != str:\n",
    "            host = [f\"{i[0]:.0f}\", target]\n",
    "        else:\n",
    "            host = [i[0], target]\n",
    "        \n",
    "        if show_graph or save_graph:\n",
    "            best_fit_mixture(model, data, host, results[densities.index(i)][4], fig_dir, show_graph, save_graph)\n",
    "\n",
    "    \n",
    "    df = pd.DataFrame(results, columns=[\"Host\", \"n_40pc_stars\", \"n_80pc_stars\", \"densities_mean\", \"densities_std\", \n",
    "                                        \"densities_max\", \"densities_min\", \"target_density\", \"gm_p_low\", \"gm_p_high\",\n",
    "                                        \"gm_mean_low\", \"gm_mean_high\", \"gm_cov_low\", \"gm_cov_high\", \"gm_aic\", \"gm_bic\"])\n",
    "    df[\"class\"] = df.apply(lambda row: labels(row), axis=1)\n",
    "\n",
    "    df.to_csv(f\"{classification_dir}/features_{file_name}.csv\")"
   ]
  },
  {
   "cell_type": "code",
   "execution_count": 19,
   "id": "16539f98-48df-4982-9293-8ddb5cf6ece0",
   "metadata": {
    "tags": []
   },
   "outputs": [
    {
     "name": "stdout",
     "output_type": "stream",
     "text": [
      "densities_gaiaedr3_6d_600000_800000.data\n",
      "densities_gaiaedr3_5d_drop_rv_600000_800000.data\n",
      "densities_gaiaedr3_6d_800000_1000000.data\n",
      "densities_gaiaedr3_6d_200000_400000.data\n",
      "densities_gaiaedr3_5d_drop_rv_800000_1000000.data\n",
      "densities_gaiaedr3_5d_drop_rv_0_200000.data\n",
      "densities_gaiaedr3_5d_drop_rv_400000_600000.data\n",
      "densities_gaiaedr3_5d_drop_rv_200000_400000.data\n",
      "densities_gaiaedr3_6d_400000_600000.data\n",
      "densities_gaiaedr3_6d_0_200000.data\n"
     ]
    }
   ],
   "source": [
    "features = os.listdir(classification_dir)\n",
    "for fname in os.listdir(densities_dir):\n",
    "    for i in features:\n",
    "        if fname.split(\".\")[0] in i:\n",
    "            continue\n",
    "    fit_gaussian_mixture(fname, classification_dir, densities_dir, show_graph=False, save_graph=False)"
   ]
  },
  {
   "cell_type": "code",
   "execution_count": null,
   "id": "c7941899-5e86-49e7-9b40-d01196844aec",
   "metadata": {},
   "outputs": [],
   "source": []
  }
 ],
 "metadata": {
  "kernelspec": {
   "display_name": "Python 3 (ipykernel)",
   "language": "python",
   "name": "python3"
  },
  "language_info": {
   "codemirror_mode": {
    "name": "ipython",
    "version": 3
   },
   "file_extension": ".py",
   "mimetype": "text/x-python",
   "name": "python",
   "nbconvert_exporter": "python",
   "pygments_lexer": "ipython3",
   "version": "3.8.6"
  }
 },
 "nbformat": 4,
 "nbformat_minor": 5
}
