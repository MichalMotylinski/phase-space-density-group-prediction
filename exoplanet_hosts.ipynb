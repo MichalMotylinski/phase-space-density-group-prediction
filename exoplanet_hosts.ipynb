{
 "cells": [
  {
   "cell_type": "code",
   "execution_count": 1,
   "id": "foreign-rogers",
   "metadata": {},
   "outputs": [],
   "source": [
    "import pandas as pd\n",
    "import numpy as np\n",
    "import re\n",
    "from io import StringIO"
   ]
  },
  {
   "cell_type": "code",
   "execution_count": 2,
   "id": "collectible-birth",
   "metadata": {},
   "outputs": [],
   "source": [
    "data = \"\"\n",
    "with open(\"table1.dat.txt\", \"r\") as f:\n",
    "    for line in f:\n",
    "\n",
    "        if line[30:33] == \"   \":\n",
    "            line = line[:30] + \"---\" + line[33:]\n",
    "        if line[41:44] == \"   \":\n",
    "            line = line[:41] + \"---\" + line[44:]\n",
    "        \n",
    "        line = line[:20].replace(\" \", \"\") + line[20:]\n",
    "        line = line.replace(\" \", \",\")\n",
    "        line = line.replace(\"|\", \",\")\n",
    " \n",
    "        for i in line[:15]:\n",
    "            if i == \",\":\n",
    "                if line[line.index(i)-1] != \",\" and line[line.index(i)+1] != \",\":\n",
    "                    line = line[:line.index(i)] + \" \" + line[line.index(i)+1:]\n",
    "                else:\n",
    "                    break\n",
    "\n",
    "        line = re.sub('\\,+', ',', line)\n",
    "            \n",
    "        data = data+line"
   ]
  },
  {
   "cell_type": "code",
   "execution_count": 3,
   "id": "natural-fields",
   "metadata": {},
   "outputs": [],
   "source": [
    "labels = [\"Host\", \"mass\", \"mass_error\", \"age\", \"age_error\", \"nstars\", \"logPnull\", \"BIC1-2\", \"logbetaM20\", \"logPhigh\", \"HJ\", \"Include\"]"
   ]
  },
  {
   "cell_type": "code",
   "execution_count": 4,
   "id": "conscious-district",
   "metadata": {},
   "outputs": [],
   "source": [
    "hosts = pd.read_csv(StringIO(data), sep=\",\", names=labels)"
   ]
  },
  {
   "cell_type": "code",
   "execution_count": 5,
   "id": "directed-breathing",
   "metadata": {},
   "outputs": [],
   "source": [
    "df = pd.read_csv(\"exoplanets.csv\", skiprows=98)"
   ]
  },
  {
   "cell_type": "code",
   "execution_count": 6,
   "id": "encouraging-prince",
   "metadata": {},
   "outputs": [],
   "source": [
    "df[\"Host\"] = df[\"hostname\"].str.replace(\" \",\"\")"
   ]
  },
  {
   "cell_type": "code",
   "execution_count": 7,
   "id": "large-valuation",
   "metadata": {},
   "outputs": [],
   "source": [
    "df = df[[\"hostname\", \"Host\", \"ra\", \"dec\"]]"
   ]
  },
  {
   "cell_type": "code",
   "execution_count": 8,
   "id": "sustained-creativity",
   "metadata": {},
   "outputs": [],
   "source": [
    "df1 = pd.merge(hosts, df, how=\"left\", on=\"Host\")"
   ]
  },
  {
   "cell_type": "code",
   "execution_count": 9,
   "id": "adequate-romance",
   "metadata": {},
   "outputs": [],
   "source": [
    "df1.drop_duplicates(subset=\"Host\", inplace=True)"
   ]
  },
  {
   "cell_type": "code",
   "execution_count": 10,
   "id": "defined-green",
   "metadata": {},
   "outputs": [],
   "source": [
    "df1.drop([\"Host\"], axis=1, inplace=True)"
   ]
  },
  {
   "cell_type": "code",
   "execution_count": 11,
   "id": "scenic-color",
   "metadata": {},
   "outputs": [],
   "source": [
    "df1 = df1.iloc[1:]"
   ]
  },
  {
   "cell_type": "code",
   "execution_count": 12,
   "id": "provincial-american",
   "metadata": {},
   "outputs": [],
   "source": [
    "df1.dropna(how=\"any\", subset=[\"hostname\"], inplace=True)"
   ]
  },
  {
   "cell_type": "code",
   "execution_count": 13,
   "id": "attractive-slovenia",
   "metadata": {},
   "outputs": [],
   "source": [
    "df1.set_index(\"hostname\", inplace=True)"
   ]
  },
  {
   "cell_type": "code",
   "execution_count": 14,
   "id": "continental-interaction",
   "metadata": {},
   "outputs": [],
   "source": [
    "df2 = pd.read_csv(\"gaia_all.csv\")"
   ]
  },
  {
   "cell_type": "code",
   "execution_count": 15,
   "id": "brazilian-marketing",
   "metadata": {},
   "outputs": [],
   "source": [
    "delta = 0.9\n",
    "vals = np.zeros((df1.shape[0],13))"
   ]
  },
  {
   "cell_type": "code",
   "execution_count": 16,
   "id": "diverse-facial",
   "metadata": {},
   "outputs": [],
   "source": [
    "idx = 0\n",
    "for i, row in df1.iterrows():\n",
    "    ra = row[\"ra\"]\n",
    "    dec = row[\"dec\"]\n",
    "    #print(row[\"ra\"], row[\"dec\"])\n",
    "    #print(df2[(df2[\"ra\"] < ra+delta) & (df2[\"ra\"] > ra-delta) & (df2[\"dec\"] < dec+delta) & (df2[\"dec\"] > dec-delta)])\n",
    "    arr = np.array(df2[(df2[\"ra\"] < ra+delta) & (df2[\"ra\"] > ra-delta) & (df2[\"dec\"] < dec+delta) & (df2[\"dec\"] > dec-delta)].values)\n",
    "    #print(arr[:, 1])\n",
    "    a = (np.abs(arr[:, 1] - ra)).argmin()\n",
    "    vals[idx] = arr[a]\n",
    "    idx += 1"
   ]
  },
  {
   "cell_type": "code",
   "execution_count": 17,
   "id": "younger-cornell",
   "metadata": {},
   "outputs": [],
   "source": [
    "df3 = pd.DataFrame(vals, columns=df2.columns)"
   ]
  },
  {
   "cell_type": "code",
   "execution_count": 18,
   "id": "social-wildlife",
   "metadata": {},
   "outputs": [],
   "source": [
    "df1.drop([\"ra\", \"dec\"], axis=1, inplace=True)\n",
    "df3.drop([\"source_id\"], axis=1, inplace=True)"
   ]
  },
  {
   "cell_type": "code",
   "execution_count": 19,
   "id": "adult-karen",
   "metadata": {},
   "outputs": [],
   "source": [
    "df4 = pd.merge(df1.reset_index(), df3, how=\"left\", on=df1.reset_index().index)"
   ]
  },
  {
   "cell_type": "code",
   "execution_count": 20,
   "id": "amazing-binding",
   "metadata": {},
   "outputs": [],
   "source": [
    "df4.drop([\"key_0\"], axis=1, inplace=True)"
   ]
  },
  {
   "cell_type": "code",
   "execution_count": 21,
   "id": "accomplished-wagner",
   "metadata": {},
   "outputs": [],
   "source": [
    "df4.set_index(\"hostname\", inplace=True)"
   ]
  },
  {
   "cell_type": "code",
   "execution_count": 22,
   "id": "brazilian-relative",
   "metadata": {},
   "outputs": [],
   "source": [
    "df4.to_csv(\"hosts.csv\")"
   ]
  },
  {
   "cell_type": "code",
   "execution_count": 23,
   "id": "amazing-testing",
   "metadata": {},
   "outputs": [],
   "source": [
    "df2 = df2[(~df2[\"ra\"].isin(df4[\"ra\"]))&(~df2[\"dec\"].isin(df4[\"dec\"]))]"
   ]
  },
  {
   "cell_type": "code",
   "execution_count": 24,
   "id": "refined-testing",
   "metadata": {},
   "outputs": [],
   "source": [
    "df2.to_csv(\"gaia.csv\")"
   ]
  }
 ],
 "metadata": {
  "kernelspec": {
   "display_name": "Python 3",
   "language": "python",
   "name": "python3"
  },
  "language_info": {
   "codemirror_mode": {
    "name": "ipython",
    "version": 3
   },
   "file_extension": ".py",
   "mimetype": "text/x-python",
   "name": "python",
   "nbconvert_exporter": "python",
   "pygments_lexer": "ipython3",
   "version": "3.8.6"
  }
 },
 "nbformat": 4,
 "nbformat_minor": 5
}
