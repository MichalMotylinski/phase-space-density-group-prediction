{
 "cells": [
  {
   "cell_type": "code",
   "execution_count": 1,
   "id": "b70f36d8-9b68-42df-899f-a74e22d460e3",
   "metadata": {},
   "outputs": [],
   "source": [
    "import pandas as pd\n",
    "from models.classification import random_forest as rfc\n",
    "from models.classification import get_scores, perm_importance, data_split\n",
    "from models.regression import random_forest as rfr\n",
    "from sklearn.inspection import permutation_importance\n",
    "import matplotlib.pyplot as plt\n",
    "import pickle\n",
    "import os\n",
    "from pathlib import Path"
   ]
  },
  {
   "cell_type": "code",
   "execution_count": 2,
   "id": "ee4805cb-af46-4b18-8878-72195e234f32",
   "metadata": {},
   "outputs": [],
   "source": [
    "with open(f\"data/densities/dr3/densities_gaiaedr3_6d_100000-stars.data\", \"rb\") as f:\n",
    "    df = pickle.load(f)\n",
    "features = []\n",
    "for i in df:\n",
    "    features.append((i[4].mean(), i[4].std(), i[4].min(), i[4].max()))\n",
    "feat = pd.DataFrame(features, columns=[\"mean\", \"std\", \"min\", \"max\"])"
   ]
  },
  {
   "cell_type": "code",
   "execution_count": 3,
   "id": "5a5282ea-9e15-408d-a196-6c759aa56d44",
   "metadata": {},
   "outputs": [],
   "source": [
    "with open(f\"data/densities/dr3/densities_gaiaedr3_5d_drop_rv_100000-stars.data\", \"rb\") as f:\n",
    "    df = pickle.load(f)\n",
    "features = []\n",
    "for i in df:\n",
    "    features.append((i[4].mean(), i[4].std(), i[4].min(), i[4].max()))\n",
    "feat1 = pd.DataFrame(features, columns=[\"mean\", \"std\", \"min\", \"max\"])"
   ]
  },
  {
   "cell_type": "code",
   "execution_count": 3,
   "id": "37297b9a-5178-4f26-99dd-02e3bd83d31d",
   "metadata": {},
   "outputs": [],
   "source": [
    "def labels(row):\n",
    "    if row['Plow'] >= 0.84:\n",
    "        return '0'\n",
    "    elif row['Phigh'] >= 0.84:\n",
    "        return '2'\n",
    "    else:\n",
    "        return '1'"
   ]
  },
  {
   "cell_type": "code",
   "execution_count": 4,
   "id": "bf2b616d-ebd3-4740-a0ab-f20817ab201f",
   "metadata": {},
   "outputs": [],
   "source": [
    "def classification_task(ground_truth_file, training_data_file):\n",
    "\n",
    "    results_dir = \"results/classification\"\n",
    "    features_dir = \"data/classification/dr3\"\n",
    "    results_file = \"results\" + \"_\".join(training_data_file.rsplit(\"_\", 4)[1:])\n",
    "    gt = pd.read_csv(os.path.join(features_dir, ground_truth_file), index_col=0)\n",
    "    train = pd.read_csv(os.path.join(features_dir, training_data_file), index_col=0)\n",
    "\n",
    "    gt[\"class\"] = gt.apply(lambda row: labels(row), axis=1)\n",
    "    train[\"class\"] = train.apply(lambda row: labels(row), axis=1)\n",
    "    #gt = gt[gt[\"class\"] != \"1\"]\n",
    "    #train = train[train[\"class\"] != \"1\"]\n",
    "\n",
    "    train[\"class\"] = gt[\"class\"]\n",
    "\n",
    "    #train = train[train[\"n_stars\"] > 400]\n",
    "    label = train[\"class\"]\n",
    "    #train.drop([\"Host\", \"Plow\", \"Phigh\", \"class\"], axis=1, inplace=True)\n",
    "    \n",
    "    train = train[[\"density\"]]\n",
    "    train[[\"mean\", \"std\", \"min\", \"max\"]] = feat1[[\"mean\", \"std\", \"min\", \"max\"]]\n",
    "    print(train[:5])\n",
    "    #train[\"mean\"] = feat1[\"mean\"]\n",
    "    \n",
    "    print(train.columns)\n",
    "    x_train, x_test, y_train, y_test = data_split(train, label, 0.2)\n",
    "    model, model_name = rfc(x_train, y_train)\n",
    "    scores = get_scores(model, train.columns.to_list(), x_test, y_test)\n",
    "    \n",
    "    #perms = perm_importance(model, x_train, x_test, y_test)\n",
    "    columns = [\"Classifier\", \"Features\", \"Accuracy\", \"Precision\", \"Recall\", \"F1-score\"]\n",
    "    df = pd.DataFrame([scores], columns=columns)\n",
    "\n",
    "    if Path(results_file).is_file():\n",
    "        df.to_csv(os.path.join(results_dir, results_file), mode='a', header=False, index=False)\n",
    "    else:\n",
    "        df.to_csv(os.path.join(results_dir, results_file), index=False)"
   ]
  },
  {
   "cell_type": "code",
   "execution_count": 7,
   "id": "a60f51ff-43c9-4f4a-90ec-78cf4d88f480",
   "metadata": {},
   "outputs": [
    {
     "name": "stdout",
     "output_type": "stream",
     "text": [
      "    density       mean         std           min          max\n",
      "0 -1.050389  11.925268  136.713327  1.959479e-06  3036.752994\n",
      "1  0.158247   1.284580    1.742365  5.760859e-05    36.437481\n",
      "2 -1.508119   1.134064    0.880591  9.529604e-05     6.549403\n",
      "3 -0.396675   1.599838    1.736066  3.350778e-10    13.453237\n",
      "4 -0.108797   1.631239    1.790833  2.987316e-10    17.195434\n",
      "Index(['density', 'mean', 'std', 'min', 'max'], dtype='object')\n",
      "              precision    recall  f1-score   support\n",
      "\n",
      "           0       0.94      0.92      0.93      1259\n",
      "           1       0.77      0.78      0.77       886\n",
      "           2       0.95      0.96      0.96      2674\n",
      "\n",
      "    accuracy                           0.92      4819\n",
      "   macro avg       0.89      0.89      0.89      4819\n",
      "weighted avg       0.92      0.92      0.92      4819\n",
      "\n",
      "[[1156  101    2]\n",
      " [  77  690  119]\n",
      " [   2  105 2567]]\n"
     ]
    }
   ],
   "source": [
    "classification_task(\"features_densities_gaiaedr3_6d_100000-stars.csv\", \"features_densities_gaiaedr3_5d_drop_rv_100000-stars.csv\")"
   ]
  },
  {
   "cell_type": "code",
   "execution_count": 73,
   "id": "a4118ea8-ad21-4803-b65c-bf42cee9742a",
   "metadata": {},
   "outputs": [
    {
     "name": "stdout",
     "output_type": "stream",
     "text": [
      "Index(['density'], dtype='object')\n",
      "              precision    recall  f1-score   support\n",
      "\n",
      "           0       0.93      0.92      0.93      1259\n",
      "           1       0.76      0.76      0.76       886\n",
      "           2       0.95      0.95      0.95      2674\n",
      "\n",
      "    accuracy                           0.91      4819\n",
      "   macro avg       0.88      0.88      0.88      4819\n",
      "weighted avg       0.91      0.91      0.91      4819\n",
      "\n",
      "[[1164   91    4]\n",
      " [  85  672  129]\n",
      " [   6  119 2549]]\n"
     ]
    }
   ],
   "source": [
    "classification_task(\"features_densities_gaiaedr3_6d_100000-stars.csv\", \"features_densities_gaiaedr3_6d_100000-stars.csv\")"
   ]
  },
  {
   "cell_type": "code",
   "execution_count": 98,
   "id": "f41a3dcd-b037-4777-926d-eb07b9b8f91c",
   "metadata": {},
   "outputs": [
    {
     "name": "stdout",
     "output_type": "stream",
     "text": [
      "Index(['density', 'mean', 'std', 'min', 'max'], dtype='object')\n",
      "              precision    recall  f1-score   support\n",
      "\n",
      "           0       0.94      0.91      0.92      1259\n",
      "           1       0.78      0.76      0.77       886\n",
      "           2       0.95      0.97      0.96      2674\n",
      "\n",
      "    accuracy                           0.91      4819\n",
      "   macro avg       0.89      0.88      0.88      4819\n",
      "weighted avg       0.91      0.91      0.91      4819\n",
      "\n",
      "[[1148  109    2]\n",
      " [  77  673  136]\n",
      " [   1   85 2588]]\n"
     ]
    }
   ],
   "source": [
    "classification_task(\"features_densities_gaiaedr3_6d_100000-stars.csv\", \"features_densities_gaiaedr3_5d_drop_rv_100000-stars.csv\")"
   ]
  },
  {
   "cell_type": "code",
   "execution_count": 80,
   "id": "e4a8373a-70ab-4a81-93be-ab39fe971b24",
   "metadata": {},
   "outputs": [
    {
     "name": "stdout",
     "output_type": "stream",
     "text": [
      "Index(['density'], dtype='object')\n",
      "              precision    recall  f1-score   support\n",
      "\n",
      "           0       0.87      0.89      0.88      1259\n",
      "           1       0.64      0.60      0.62       886\n",
      "           2       0.92      0.93      0.93      2674\n",
      "\n",
      "    accuracy                           0.86      4819\n",
      "   macro avg       0.81      0.81      0.81      4819\n",
      "weighted avg       0.86      0.86      0.86      4819\n",
      "\n",
      "[[1123  128    8]\n",
      " [ 152  535  199]\n",
      " [  16  171 2487]]\n"
     ]
    }
   ],
   "source": [
    "classification_task(\"features_densities_gaiaedr3_6d_100000-stars.csv\", \"features_densities_gaiaedr3_5d_drop_rv_100000-stars.csv\")"
   ]
  },
  {
   "cell_type": "code",
   "execution_count": 25,
   "id": "de262391-64bc-4f25-b954-835beedfd4e9",
   "metadata": {},
   "outputs": [],
   "source": [
    "def regression_task(ground_truth_file, training_data_file):\n",
    "    features_dir = \"data/classification/dr3\"\n",
    "    gt = pd.read_csv(os.path.join(features_dir, ground_truth_file), index_col=0)\n",
    "    output = gt[\"Phigh\"]\n",
    "    train = pd.read_csv(os.path.join(features_dir, training_data_file), index_col=0)\n",
    "    \n",
    "    #train[[\"mean\", \"std\", \"min\", \"max\"]] = feat1[[\"mean\", \"std\", \"min\", \"max\"]]\n",
    "    train = train.drop([\"Host\", \"Plow\", \"Phigh\", \"n_stars\",\n",
    "                  \"mean_low\", \"cov_low\", \"aic\", \"bic\", 'mean_high', 'cov_high'], axis=1)\n",
    "    print(train.columns)\n",
    "    rfr(train, output)"
   ]
  },
  {
   "cell_type": "code",
   "execution_count": 29,
   "id": "51a1a135-fd2d-451d-8894-28ea4c0b261e",
   "metadata": {},
   "outputs": [
    {
     "name": "stdout",
     "output_type": "stream",
     "text": [
      "Index(['density'], dtype='object')\n",
      "5828     9.812128e-01\n",
      "20715    8.634325e-10\n",
      "5694     8.387193e-02\n",
      "8594     8.161835e-01\n",
      "485      7.070679e-01\n",
      "12120    5.297075e-07\n",
      "22187    9.862072e-01\n",
      "14493    9.941497e-01\n",
      "2454     9.712318e-01\n",
      "9511     8.233033e-01\n",
      "23454    7.189230e-07\n",
      "18168    9.848136e-01\n",
      "554      9.656294e-01\n",
      "12948    8.752159e-01\n",
      "21462    9.459122e-01\n",
      "21714    2.469882e-01\n",
      "23182    7.986667e-01\n",
      "11564    9.903173e-01\n",
      "7866     3.832875e-03\n",
      "2313     2.211817e-03\n",
      "Name: Phigh, dtype: float64\n",
      "[9.48266969e-01 2.76065013e-06 4.93805605e-01 6.40358679e-01\n",
      " 8.16661959e-01 4.15277063e-04 9.82623964e-01 9.85132273e-01\n",
      " 9.83296694e-01 4.87283089e-01 1.80654105e-05 9.94386616e-01\n",
      " 1.88996357e-01 9.04968654e-01 9.52650612e-01 3.00631551e-01\n",
      " 8.31837348e-01 9.81904161e-01 2.07279743e-03 3.53004040e-04]\n",
      "('R2 score for Phigh: ', 0.9152341866573337)\n"
     ]
    }
   ],
   "source": [
    "regression_task(\"features_densities_gaiaedr3_6d_100000-stars.csv\", \"features_densities_gaiaedr3_5d_drop_vz_100000-stars.csv\")"
   ]
  },
  {
   "cell_type": "code",
   "execution_count": null,
   "id": "09328132-8087-429c-90d1-4e12369c680e",
   "metadata": {},
   "outputs": [],
   "source": []
  }
 ],
 "metadata": {
  "kernelspec": {
   "display_name": "Python 3 (ipykernel)",
   "language": "python",
   "name": "python3"
  },
  "language_info": {
   "codemirror_mode": {
    "name": "ipython",
    "version": 3
   },
   "file_extension": ".py",
   "mimetype": "text/x-python",
   "name": "python",
   "nbconvert_exporter": "python",
   "pygments_lexer": "ipython3",
   "version": "3.8.6"
  }
 },
 "nbformat": 4,
 "nbformat_minor": 5
}
