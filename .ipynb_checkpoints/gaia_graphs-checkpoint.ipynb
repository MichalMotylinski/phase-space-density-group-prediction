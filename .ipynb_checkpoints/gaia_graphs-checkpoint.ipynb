{
 "cells": [
  {
   "cell_type": "code",
   "execution_count": null,
   "id": "487de1c8-9bce-48a1-ac11-e8615c8ad4f2",
   "metadata": {},
   "outputs": [],
   "source": [
    "import pickle\n",
    "import os\n",
    "import numpy as np\n",
    "import shutil\n",
    "import pandas as pd\n",
    "import seaborn as sns\n",
    "from models.gaussian_mixture import remove_outliers, gaussian_mixture\n",
    "from preprocessing.read_winter import load_winter\n",
    "from graphs.mixture_fit import combined_fit_mixture\n",
    "import matplotlib.pyplot as plt\n",
    "import matplotlib.patches as mpatches\n",
    "import matplotlib.image as mpimg"
   ]
  },
  {
   "cell_type": "markdown",
   "id": "50e529ec-1c79-4136-b90d-d37dabe9deb9",
   "metadata": {},
   "source": [
    "# 1. Create combined graphs using exoplanets data"
   ]
  },
  {
   "cell_type": "code",
   "execution_count": null,
   "id": "e51e061b-2676-48e5-9233-eb4eb6f3f400",
   "metadata": {},
   "outputs": [],
   "source": [
    "def combined_gaussians(show_graph=False, save_graph=False):\n",
    "    sigma = 2\n",
    "    fig_dir=None\n",
    "    if save_graph:  \n",
    "        if os.path.isdir(f\"figures/combined_gaussians\"):\n",
    "            shutil.rmtree(f\"figures/combined_gaussians\")\n",
    "        fig_dir = \"figures/combined_gaussians\"\n",
    "    \n",
    "        os.mkdir(fig_dir)     \n",
    "    \n",
    "    labels = pd.read_csv(f\"data/crossmatch/dr3/gaiaedr3_star_labels.csv\", dtype={\"source_id\": str, \"Host\": str}, nrows=1172)\n",
    "    \n",
    "    results = []\n",
    "    n_files = 0\n",
    "    for file_name in os.listdir(\"data/densities/dr3\"):\n",
    "        if \"_0_200000\" in file_name:\n",
    "            with open(f\"data/densities/dr3/{file_name}\", \"rb\") as f:\n",
    "                densities = pickle.load(f)\n",
    "        else:\n",
    "            continue\n",
    "        \n",
    "        densities = densities[:1047]\n",
    "\n",
    "        stars = []\n",
    "        for i in densities:\n",
    "            # Compute log10 of the host density and expand dimensions for further use\n",
    "            target = np.expand_dims(np.log10(i[1]), axis=0).T\n",
    "\n",
    "            # Remove outliers outside sigma\n",
    "            data = remove_outliers(i[4], sigma=sigma)\n",
    "\n",
    "            # Apply gaussian mixture model to the data\n",
    "            model, scores = gaussian_mixture(data, [target], components=2, scores_only=False)\n",
    "            \n",
    "            host_name = labels[labels[\"source_id\"] == i[0]].values[0][1]\n",
    "            \n",
    "            # Draw best fit mixture\n",
    "            if \"5d\" in file_name:\n",
    "                host = [\"_\".join(file_name.rsplit(\"_\", 5)[1:4]) + \"_\" + host_name, target]\n",
    "            else:\n",
    "                host = [file_name.rsplit(\"_\", 4)[2] + \"_\" + host_name, target]\n",
    "\n",
    "            stars.append((model, data, host))\n",
    "        n_files += 1\n",
    "        results.append(stars)\n",
    "\n",
    "    for i in range(len(results[0])):\n",
    "        models = []\n",
    "        data = []\n",
    "        hosts = []\n",
    "        for j in range(n_files):\n",
    "            models.append(results[j][i][0])\n",
    "            data.append(results[j][i][1])\n",
    "            hosts.append(results[j][i][2])\n",
    "        \n",
    "        print(hosts)\n",
    "        combined_fit_mixture(models, data, hosts, n_files, fig_dir=fig_dir, show_graph=show_graph, save_graph=save_graph)"
   ]
  },
  {
   "cell_type": "code",
   "execution_count": null,
   "id": "cb63e1cd-f4fb-4c3c-be99-c1ccbe5eb078",
   "metadata": {
    "tags": []
   },
   "outputs": [],
   "source": [
    "combined_gaussians(show_graph=True, save_graph=False)"
   ]
  },
  {
   "cell_type": "markdown",
   "id": "54911fe7-2cc4-41d4-a2f7-9cab55d4af37",
   "metadata": {},
   "source": [
    "# 2. Create Mass x Semi-Major axis graphs for exoplanets"
   ]
  },
  {
   "cell_type": "code",
   "execution_count": null,
   "id": "55d276e5-94c8-40a0-b89f-96afac1163dd",
   "metadata": {},
   "outputs": [],
   "source": [
    "def mass_sma(exoplanets_file, features_file):\n",
    "    exoplanets_dir = \"data/initial_datasets\"\n",
    "    class_dir = \"data/classification/dr3\"\n",
    "    ex = pd.read_csv(os.path.join(exoplanets_dir, exoplanets_file), skiprows=28)\n",
    "    df = pd.read_csv(os.path.join(class_dir, features_file), index_col=0)\n",
    "    df[\"Host\"] = df[\"Host\"].astype(str)\n",
    "    #winter = load_winter()\n",
    "\n",
    "    ex[\"Host\"] = ex[\"gaia_id\"].str.replace(\"Gaia DR2 \", \"\")\n",
    "\n",
    "    ex = ex[(ex[\"st_age\"] > 1) & (ex[\"st_age\"] < 4.5)]\n",
    "    df = pd.merge(df, ex, on=\"Host\")\n",
    "\n",
    "    df = df[[\"Host\", \"gm_p_high\", \"pl_bmasse\", \"pl_orbsmax\"]]\n",
    "    df[\"pl_orbsmax\"] = np.log10(df[\"pl_orbsmax\"])  \n",
    "    df[\"mass\"] = np.log10(df[\"pl_bmasse\"])\n",
    "    \n",
    "    high = df[df[\"gm_p_high\"] > 0.84]\n",
    "    low = df[df[\"gm_p_high\"] < 0.16]\n",
    "    \n",
    "    fig, ax = plt.subplots(ncols=2, figsize=(10,5))\n",
    "    sns.kdeplot(x=low[\"pl_orbsmax\"], y=low[\"mass\"], ax=ax[0], cmap=\"Blues\", shade=True)\n",
    "    sns.scatterplot(x=low[\"pl_orbsmax\"], y=low[\"mass\"], ax=ax[0], color=\"b\")\n",
    "    ax[0].set_xlim(-2,1)\n",
    "    ax[0].set_ylim(-1, 3.5)\n",
    "    ax[0].set_xticks([-2, -1, 0, 1])\n",
    "    ax[0].set_yticks([-1, 0, 1, 2, 3, 3.5])\n",
    "    \n",
    "    sns.kdeplot(x=high[\"pl_orbsmax\"], y=high[\"mass\"], ax=ax[1], cmap=\"Reds\", shade=True)\n",
    "    sns.scatterplot(x=high[\"pl_orbsmax\"], y=high[\"mass\"], ax=ax[1], color=\"r\")\n",
    "    ax[1].set_xlim(-2,1)\n",
    "    ax[1].set_ylim(-1, 3.5)\n",
    "    ax[1].set_xticks([-2, -1, 0, 1])\n",
    "    ax[1].set_yticks([-1, 0, 1, 2, 3, 3.5])\n",
    "\n",
    "    return low"
   ]
  },
  {
   "cell_type": "code",
   "execution_count": null,
   "id": "57e91d77-7f9e-456f-8739-ab1b0f85884a",
   "metadata": {},
   "outputs": [],
   "source": [
    "df = mass_sma(\"exoplanets.csv\", \"features_densities_gaiaedr3_5d_drop_rv_0_200000.csv\")"
   ]
  },
  {
   "cell_type": "code",
   "execution_count": null,
   "id": "d882c66b-6c85-4521-a5a9-dae61c9d38d9",
   "metadata": {},
   "outputs": [],
   "source": [
    "df = mass_sma(\"exoplanets.csv\", \"features_densities_gaiaedr3_6d_0_200000.csv\")"
   ]
  },
  {
   "cell_type": "markdown",
   "id": "19a1546b-8329-467c-9d4f-32a3a1bf9f63",
   "metadata": {},
   "source": [
    "# 3. Comparison with A. Winter Phigh results"
   ]
  },
  {
   "cell_type": "code",
   "execution_count": null,
   "id": "0b09576b-f78c-40ae-a043-081ec0b8370e",
   "metadata": {},
   "outputs": [],
   "source": [
    "def hue(row):\n",
    "    # MissmatchedPlow and Phigh\n",
    "    if ((row[\"gm_p_high\"] > 0.84) & (row[\"logPhigh\"] < 0.16)) | ((row[\"gm_p_high\"] < 0.16) & (row[\"logPhigh\"] > 0.84)):\n",
    "        val = 0\n",
    "    # Missmatched Phigh for ambigous\n",
    "    elif ((row[\"gm_p_high\"] > 0.84) & (row[\"logPhigh\"] < 0.84)) | ((row[\"gm_p_high\"] < 0.84) & (row[\"logPhigh\"] > 0.84)):\n",
    "        val = 1   \n",
    "    # Missmatched Plow for ambigous\n",
    "    elif ((row[\"gm_p_high\"] < 0.16) & (row[\"logPhigh\"] > 0.16)) | ((row[\"gm_p_high\"] > 0.16) & (row[\"logPhigh\"] < 0.16)):\n",
    "        val = 2\n",
    "    # Ambigous group\n",
    "    elif ((row[\"gm_p_high\"] < 0.84) & (row[\"logPhigh\"] > 0.16)) | ((row[\"gm_p_high\"] > 0.16) & (row[\"logPhigh\"] < 0.84)):\n",
    "        val = 3\n",
    "    # Matching values\n",
    "    else:\n",
    "        val = 4\n",
    "    return val"
   ]
  },
  {
   "cell_type": "code",
   "execution_count": null,
   "id": "a9dce032-f9d4-4612-bf63-0bd6324a636c",
   "metadata": {},
   "outputs": [],
   "source": [
    "df = pd.read_csv(\"data/classification/dr3/features_densities_gaiaedr3_6d_0_200000.csv\", dtype={\"source_id\": str, \"Host\": str}, nrows=1172, index_col=0)\n",
    "labels = pd.read_csv(f\"data/crossmatch/dr3/gaiaedr3_star_labels.csv\", dtype={\"source_id\": str, \"Host\": str}, nrows=1172)\n",
    "winter = load_winter()"
   ]
  },
  {
   "cell_type": "code",
   "execution_count": null,
   "id": "9b5089c0-019d-4810-8231-b17296163193",
   "metadata": {},
   "outputs": [],
   "source": [
    "df[\"source_id\"] = df[\"Host\"]\n",
    "df.drop(\"Host\", axis=1, inplace=True)"
   ]
  },
  {
   "cell_type": "code",
   "execution_count": null,
   "id": "7221aad2-e9bb-4e2d-8b5b-6b73535db7db",
   "metadata": {},
   "outputs": [],
   "source": [
    "df = pd.merge(df, labels, on=\"source_id\")"
   ]
  },
  {
   "cell_type": "code",
   "execution_count": null,
   "id": "c696da36-e455-496e-b855-2a1dc10c6a3b",
   "metadata": {},
   "outputs": [],
   "source": [
    "df1 = pd.merge(df, winter, on=\"Host\")\n",
    "df1[\"logPhigh\"] = 10 ** df1[\"logPhigh\"]\n",
    "df1 = df1[[\"Host\", \"gm_p_high\", \"logPhigh\"]]\n",
    "df1[\"hue\"] = df1.apply(hue, axis=1)"
   ]
  },
  {
   "cell_type": "code",
   "execution_count": null,
   "id": "1c1ee671-26ff-46c4-a9ad-bda4b16e1a25",
   "metadata": {},
   "outputs": [],
   "source": [
    "colors = [\"blue\", \"m\", \"red\", \"orange\", \"green\"]\n",
    "fig, ax = plt.subplots(nrows=1, ncols=1, figsize=(10, 8), facecolor=\"w\")\n",
    "\n",
    "sns.scatterplot(x=df1[\"gm_p_high\"], y=df1[\"logPhigh\"], hue=df1[\"hue\"], palette=colors, ax=ax)\n",
    "\n",
    "# Set legend\n",
    "blue_patch = mpatches.Patch(color=colors[0], label=\"Missmatched Plow for Phigh\")\n",
    "magenta_patch = mpatches.Patch(color=colors[1], label=\"Missmatched Phigh for ambigous\")\n",
    "red_patch = mpatches.Patch(color=colors[2], label=\"Missmatched Plow for ambigous\")\n",
    "orange_patch = mpatches.Patch(color=colors[3], label=\"Ambigous\")\n",
    "green_patch = mpatches.Patch(color=colors[4], label=\"Matching Phigh and Plow\")\n",
    "plt.legend(handles=[blue_patch, magenta_patch, red_patch, orange_patch, green_patch], bbox_to_anchor=(0., 1.02, 1., .102), \n",
    "           loc=\"lower left\", ncol=3, mode=\"expand\", borderaxespad=0.);\n",
    "\n",
    "plt.xlabel(\"Density prediction (All neighbours)\")\n",
    "plt.ylabel(\"Winter density prediction (600 random neighbours)\")\n",
    "\n",
    "plt.savefig(\"report_images/winter_comparison.png\")"
   ]
  },
  {
   "cell_type": "markdown",
   "id": "f7eafa9c-97bc-4470-84bc-7b428a18a3be",
   "metadata": {},
   "source": [
    "## Gaussian mixture fit comparison graphs"
   ]
  },
  {
   "cell_type": "code",
   "execution_count": null,
   "id": "1b3151fb-0572-4033-9f07-e01ba04b4c9e",
   "metadata": {},
   "outputs": [],
   "source": [
    "# read images\n",
    "img_A = mpimg.imread(\"figures/densities_gaiaedr3_6d_only-exoplanets/HD175541.png\")\n",
    "img_B = mpimg.imread(\"figures/densities_gaiaedr3_6d_only-exoplanets/WASP-12.png\")\n",
    "winter_A = mpimg.imread(\"winter_figures/HD175541.png\")\n",
    "winter_B = mpimg.imread(\"winter_figures/WASP-12.png\")\n",
    "\n",
    "# display images\n",
    "fig, ax = plt.subplots(2,2, figsize=(12,10), facecolor=\"w\")\n",
    "ax[0][0].imshow(winter_A)\n",
    "ax[0][0].axis(\"off\")\n",
    "ax[0][1].imshow(winter_B)\n",
    "ax[0][1].axis(\"off\")\n",
    "ax[1][0].imshow(img_A)\n",
    "ax[1][0].axis(\"off\")\n",
    "ax[1][1].imshow(img_B)\n",
    "ax[1][1].axis(\"off\")\n",
    "\n",
    "fig.tight_layout()\n",
    "plt.savefig(\"report_images/star_density_comparison.png\")"
   ]
  },
  {
   "cell_type": "code",
   "execution_count": null,
   "id": "00c14552-b38a-4117-815b-5c780520c0f4",
   "metadata": {},
   "outputs": [],
   "source": []
  }
 ],
 "metadata": {
  "kernelspec": {
   "display_name": "Python 3",
   "language": "python",
   "name": "python3"
  },
  "language_info": {
   "codemirror_mode": {
    "name": "ipython",
    "version": 3
   },
   "file_extension": ".py",
   "mimetype": "text/x-python",
   "name": "python",
   "nbconvert_exporter": "python",
   "pygments_lexer": "ipython3",
   "version": "3.8.10"
  }
 },
 "nbformat": 4,
 "nbformat_minor": 5
}
