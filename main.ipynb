{
 "cells": [
  {
   "cell_type": "code",
   "execution_count": null,
   "id": "noble-peace",
   "metadata": {},
   "outputs": [],
   "source": [
    "import pandas as pd\n",
    "from pathlib import Path\n",
    "import time\n",
    "import preprocessing\n",
    "import seaborn as sns\n",
    "import matplotlib.pyplot as plt\n",
    "import numpy as np\n",
    "import pickle\n",
    "import models\n",
    "import graphs"
   ]
  },
  {
   "cell_type": "code",
   "execution_count": null,
   "id": "contemporary-nashville",
   "metadata": {},
   "outputs": [],
   "source": [
    "def download_gaiadr2():\n",
    "    query = f\"\"\"\n",
    "            select source_id, ra, ra_error, dec, dec_error, parallax, parallax_error, pmra, pmra_error, pmdec, pmdec_error, \n",
    "            radial_velocity, radial_velocity_error from gaiadr2.gaia_source where source_id is not null and ra is \n",
    "            not null and ra_error is not null and dec is not null and dec_error is not null and parallax is not null and \n",
    "            parallax_error is not null and pmra is not null and pmra_error is not null and pmdec is not null and \n",
    "            pmdec_error is not null and radial_velocity is not null and radial_velocity_error is not null\n",
    "            \"\"\"\n",
    "\n",
    "    g = preprocessing.GaiaDataset(query=query, filename=\"gaiadr2_table\")\n",
    "    g.get_gaia()"
   ]
  },
  {
   "cell_type": "code",
   "execution_count": null,
   "id": "interesting-conference",
   "metadata": {},
   "outputs": [],
   "source": [
    "def exoplanet_pipeline_with_winter_crossmatch():\n",
    "    \"\"\"\n",
    "    This function is for testing purposes only.\n",
    "    The entire pipeline below takes considerable amount of time to compute (~8 hours depending on hardware)\n",
    "    This function can be used to generate new data.\n",
    "    Please use use_precomputed_6d_densities() to work on precomputed density values.\n",
    "\n",
    "    :return: Density values for 1065 exoplanets and their neighbours, Winter-Gaia-NASA exoplanet archive crossmatch\n",
    "     table containing 6D coordinates only and Winter-Gaia-NASA exoplanet archive crossmatch table with data from all 3\n",
    "      sources combined.\n",
    "    \"\"\"\n",
    "    # Cross match datasets and generate new ones.\n",
    "    if Path(\"gaia.csv\").is_file():\n",
    "        gaia = pd.read_csv(\"gaia.csv\").to_numpy()\n",
    "    else:\n",
    "        gaia = preprocessing.gaia_exoplanets_cross(\"gaiadr2_table.csv\").to_numpy()\n",
    "    hosts = pd.read_csv(\"hosts.csv\").Host.to_numpy()\n",
    "\n",
    "    densities = preprocessing.exoplanets_loop(hosts, gaia)\n",
    "\n",
    "    with open(\"densities.data\", \"wb\") as f:\n",
    "        pickle.dump(densities, f)"
   ]
  },
  {
   "cell_type": "code",
   "execution_count": null,
   "id": "binary-letters",
   "metadata": {},
   "outputs": [],
   "source": [
    "def crossmatch_only():\n",
    "    \"\"\"\n",
    "    Use this function to generate crossmatch tables only.\n",
    "    :return:\n",
    "    \"\"\"\n",
    "    preprocessing.gaia_exoplanets_cross(\"gaiadr2_table.csv\").to_numpy()"
   ]
  },
  {
   "cell_type": "code",
   "execution_count": null,
   "id": "frequent-belief",
   "metadata": {},
   "outputs": [],
   "source": [
    "def use_precomputed_6d_densities():\n",
    "    \"\"\"\n",
    "    Please use this function to work on precomputed density list for 1065 exoplanets.\n",
    "    :return:\n",
    "    \"\"\"\n",
    "    with open(\"densities.data\", \"rb\") as f:\n",
    "        densities = pickle.load(f)\n",
    "\n",
    "    start = time.perf_counter()\n",
    "    o = 0\n",
    "    for i in densities:\n",
    "        # Uncomment below if statement to target specific star.\n",
    "        \"\"\"if i[0] != \"WASP-12\":\n",
    "            continue\"\"\"\n",
    "        # Compute log10 of the host density and expand dimensions for further use\n",
    "        target = np.expand_dims(np.log10(i[1]), axis=0).T\n",
    "\n",
    "        # Remove outliers outside sigma\n",
    "        data = preprocessing.remove_outliers(i[2], sigma=2)\n",
    "\n",
    "        # Apply gaussian mixture model to the data\n",
    "        model, aic, bic, scores, means, covs = models.gaussian_mixture(data, [target], components=2, scores_only=False)\n",
    "\n",
    "        # Create list consisting of star name and its density for graph drawing\n",
    "        host = [i[0], target]\n",
    "\n",
    "        # Draw best fit mixture\n",
    "        graphs.best_fit_mixture(model, data, host)\n",
    "\n",
    "    end = time.perf_counter()\n",
    "    print(end-start)\n"
   ]
  },
  {
   "cell_type": "code",
   "execution_count": null,
   "id": "meaningful-swift",
   "metadata": {},
   "outputs": [],
   "source": [
    "crossmatch_only()\n",
    "use_precomputed_6d_densities()"
   ]
  },
  {
   "cell_type": "code",
   "execution_count": null,
   "id": "responsible-hollywood",
   "metadata": {},
   "outputs": [],
   "source": []
  }
 ],
 "metadata": {
  "kernelspec": {
   "display_name": "Python 3",
   "language": "python",
   "name": "python3"
  },
  "language_info": {
   "codemirror_mode": {
    "name": "ipython",
    "version": 3
   },
   "file_extension": ".py",
   "mimetype": "text/x-python",
   "name": "python",
   "nbconvert_exporter": "python",
   "pygments_lexer": "ipython3",
   "version": "3.8.6"
  }
 },
 "nbformat": 4,
 "nbformat_minor": 5
}
