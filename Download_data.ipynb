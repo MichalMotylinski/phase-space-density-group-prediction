{
 "cells": [
  {
   "cell_type": "markdown",
   "id": "radio-integration",
   "metadata": {},
   "source": [
    "<center><font size=\"7\"><b>Download Gaia dataset</b></font></center>"
   ]
  },
  {
   "cell_type": "markdown",
   "id": "hidden-favor",
   "metadata": {},
   "source": [
    "# Import required modules"
   ]
  },
  {
   "cell_type": "code",
   "execution_count": 18,
   "id": "august-canyon",
   "metadata": {},
   "outputs": [],
   "source": [
    "from astroquery.gaia import Gaia\n",
    "import time\n",
    "import pandas as pd"
   ]
  },
  {
   "cell_type": "markdown",
   "id": "variable-conditions",
   "metadata": {},
   "source": [
    "# Log in to your ESA account in order to gain unlimited data transfer"
   ]
  },
  {
   "cell_type": "code",
   "execution_count": 3,
   "id": "sweet-field",
   "metadata": {},
   "outputs": [
    {
     "name": "stdout",
     "output_type": "stream",
     "text": [
      "OK\n"
     ]
    }
   ],
   "source": [
    "Gaia.login_gui()"
   ]
  },
  {
   "cell_type": "markdown",
   "id": "aggressive-installation",
   "metadata": {},
   "source": [
    "# Load table from which data will be fetched and create query"
   ]
  },
  {
   "cell_type": "code",
   "execution_count": 23,
   "id": "focused-allocation",
   "metadata": {},
   "outputs": [],
   "source": [
    "# Function to automate making query (in case more parameters will be needed)\n",
    "def make_query(params, table):\n",
    "    head = \"\"\n",
    "    tail = \"\"\n",
    "    for i in range(len(params)):\n",
    "        if i == 0:\n",
    "            head = f\"select {params[i]}, \"\n",
    "            tail = f\" where {params[i]} is not null and \"\n",
    "        elif i == len(params) - 1:\n",
    "            head += f\"{params[i]} \"\n",
    "            tail += f\"{params[i]} is not null\"\n",
    "        else:\n",
    "            head += f\"{params[i]}, \"\n",
    "            tail += f\"{params[i]} is not null and \"\n",
    "    return head + \"from \" + table + tail"
   ]
  },
  {
   "cell_type": "code",
   "execution_count": 24,
   "id": "thirty-eating",
   "metadata": {},
   "outputs": [],
   "source": [
    "table_name = \"gaiaedr3.gaia_source\"\n",
    "features = [\"source_id\", \"ra\", \"ra_error\", \n",
    "                \"dec\", \"dec_error\", \"parallax\",\n",
    "                \"parallax_error\", \"pmra\", \"pmra_error\", \n",
    "                \"pmdec\", \"pmdec_error\", \"dr2_radial_velocity\",\n",
    "                \"dr2_radial_velocity_error\"]\n",
    "query = make_query(features, table_name)"
   ]
  },
  {
   "cell_type": "code",
   "execution_count": 25,
   "id": "fatal-anthony",
   "metadata": {},
   "outputs": [
    {
     "name": "stdout",
     "output_type": "stream",
     "text": [
      "Retrieving table 'gaiaedr3.gaia_source'\n",
      "Parsing table 'gaiaedr3.gaia_source'...\n",
      "Done.\n"
     ]
    }
   ],
   "source": [
    "table = Gaia.load_table(table_name)"
   ]
  },
  {
   "cell_type": "markdown",
   "id": "august-preliminary",
   "metadata": {},
   "source": [
    "# Get data from the server"
   ]
  },
  {
   "cell_type": "code",
   "execution_count": 26,
   "id": "defined-analyst",
   "metadata": {},
   "outputs": [
    {
     "name": "stdout",
     "output_type": "stream",
     "text": [
      "INFO: Query finished. [astroquery.utils.tap.core]\n"
     ]
    },
    {
     "data": {
      "text/plain": [
       "1005.6837471350009"
      ]
     },
     "execution_count": 26,
     "metadata": {},
     "output_type": "execute_result"
    }
   ],
   "source": [
    "start = time.perf_counter()\n",
    "job = Gaia.launch_job_async(query)\n",
    "end = time.perf_counter()\n",
    "end - start"
   ]
  },
  {
   "cell_type": "markdown",
   "id": "indoor-pakistan",
   "metadata": {},
   "source": [
    "# Save to CSV"
   ]
  },
  {
   "cell_type": "code",
   "execution_count": 32,
   "id": "forty-salmon",
   "metadata": {},
   "outputs": [],
   "source": [
    "job.get_results().to_pandas().to_csv(\"gaia.csv\")"
   ]
  }
 ],
 "metadata": {
  "kernelspec": {
   "display_name": "Python 3",
   "language": "python",
   "name": "python3"
  },
  "language_info": {
   "codemirror_mode": {
    "name": "ipython",
    "version": 3
   },
   "file_extension": ".py",
   "mimetype": "text/x-python",
   "name": "python",
   "nbconvert_exporter": "python",
   "pygments_lexer": "ipython3",
   "version": "3.8.6"
  }
 },
 "nbformat": 4,
 "nbformat_minor": 5
}
