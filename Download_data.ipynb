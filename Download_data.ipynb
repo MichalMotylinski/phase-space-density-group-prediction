{
 "cells": [
  {
   "cell_type": "markdown",
   "id": "alternate-nevada",
   "metadata": {},
   "source": [
    "<center><font size=\"7\"><b>Download Gaia dataset</b></font></center>"
   ]
  },
  {
   "cell_type": "markdown",
   "id": "comparable-secretary",
   "metadata": {},
   "source": [
    "# Import required modules"
   ]
  },
  {
   "cell_type": "code",
   "execution_count": 1,
   "id": "computational-medicare",
   "metadata": {},
   "outputs": [
    {
     "name": "stdout",
     "output_type": "stream",
     "text": [
      "Created TAP+ (v1.2.1) - Connection:\n",
      "\tHost: gea.esac.esa.int\n",
      "\tUse HTTPS: True\n",
      "\tPort: 443\n",
      "\tSSL Port: 443\n",
      "Created TAP+ (v1.2.1) - Connection:\n",
      "\tHost: geadata.esac.esa.int\n",
      "\tUse HTTPS: True\n",
      "\tPort: 443\n",
      "\tSSL Port: 443\n"
     ]
    }
   ],
   "source": [
    "from astroquery.gaia import Gaia\n",
    "import time"
   ]
  },
  {
   "cell_type": "markdown",
   "id": "according-clerk",
   "metadata": {},
   "source": [
    "# Log in to your ESA account in order to gain unlimited data transfer"
   ]
  },
  {
   "cell_type": "code",
   "execution_count": 2,
   "id": "closing-junior",
   "metadata": {},
   "outputs": [
    {
     "name": "stdout",
     "output_type": "stream",
     "text": [
      "OK\n"
     ]
    }
   ],
   "source": [
    "Gaia.login_gui()"
   ]
  },
  {
   "cell_type": "markdown",
   "id": "indirect-parking",
   "metadata": {},
   "source": [
    "# Load table from which data will be fetched and create query"
   ]
  },
  {
   "cell_type": "code",
   "execution_count": 3,
   "id": "ambient-weather",
   "metadata": {},
   "outputs": [],
   "source": [
    "# Function to automate making query (in case more parameters will be needed)\n",
    "def make_query(params, table):\n",
    "    head = \"\"\n",
    "    tail = \"\"\n",
    "    for i in range(len(params)):\n",
    "        if i == 0:\n",
    "            head = f\"select {params[i]}, \"\n",
    "            tail = f\" where {params[i]} is not null and \"\n",
    "        elif i == len(params) - 1:\n",
    "            head += f\"{params[i]} \"\n",
    "            tail += f\"{params[i]} is not null\"\n",
    "        else:\n",
    "            head += f\"{params[i]}, \"\n",
    "            tail += f\"{params[i]} is not null and \"\n",
    "    return head + \"from \" + table + tail"
   ]
  },
  {
   "cell_type": "code",
   "execution_count": 4,
   "id": "compatible-authority",
   "metadata": {},
   "outputs": [],
   "source": [
    "table_name = \"gaiaedr3.gaia_source\"\n",
    "features = [\"source_id\", \"ra\", \"ra_error\", \n",
    "                \"dec\", \"dec_error\", \"parallax\",\n",
    "                \"parallax_error\", \"pmra\", \"pmra_error\", \n",
    "                \"pmdec\", \"pmdec_error\", \"dr2_radial_velocity\",\n",
    "                \"dr2_radial_velocity_error\"]\n",
    "query = make_query(features, table_name)"
   ]
  },
  {
   "cell_type": "code",
   "execution_count": 5,
   "id": "latin-valuation",
   "metadata": {},
   "outputs": [
    {
     "name": "stdout",
     "output_type": "stream",
     "text": [
      "Retrieving table 'gaiaedr3.gaia_source'\n",
      "Parsing table 'gaiaedr3.gaia_source'...\n",
      "Done.\n"
     ]
    }
   ],
   "source": [
    "table = Gaia.load_table(table_name)"
   ]
  },
  {
   "cell_type": "markdown",
   "id": "automated-sympathy",
   "metadata": {},
   "source": [
    "# Get data from the server and save locally in .vot file"
   ]
  },
  {
   "cell_type": "code",
   "execution_count": 6,
   "id": "laden-preliminary",
   "metadata": {},
   "outputs": [
    {
     "data": {
      "text/plain": [
       "809.9874416560001"
      ]
     },
     "execution_count": 6,
     "metadata": {},
     "output_type": "execute_result"
    }
   ],
   "source": [
    "start = time.perf_counter()\n",
    "job = Gaia.launch_job_async(query, dump_to_file=True, output_format=\"votable\")\n",
    "end = time.perf_counter()\n",
    "end - start"
   ]
  }
 ],
 "metadata": {
  "kernelspec": {
   "display_name": "Python 3",
   "language": "python",
   "name": "python3"
  },
  "language_info": {
   "codemirror_mode": {
    "name": "ipython",
    "version": 3
   },
   "file_extension": ".py",
   "mimetype": "text/x-python",
   "name": "python",
   "nbconvert_exporter": "python",
   "pygments_lexer": "ipython3",
   "version": "3.8.6"
  }
 },
 "nbformat": 4,
 "nbformat_minor": 5
}
