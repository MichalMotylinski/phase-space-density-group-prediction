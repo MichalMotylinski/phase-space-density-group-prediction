{
 "cells": [
  {
   "cell_type": "code",
   "execution_count": null,
   "id": "65dfd7b6-a7a7-4ac1-991e-47901a774feb",
   "metadata": {},
   "outputs": [],
   "source": [
    "import matplotlib.pyplot as plt\n",
    "from numba import cuda\n",
    "import numpy as np\n",
    "import os\n",
    "from os import path\n",
    "from pathlib import Path\n",
    "import pandas as pd\n",
    "import pickle\n",
    "import seaborn as sns\n",
    "import shutil\n",
    "import time\n",
    "\n",
    "from graphs.mixture_fit import best_fit_mixture\n",
    "from models.gaussian_mixture import remove_outliers, gaussian_mixture\n",
    "from preprocessing.exoplanets_gaia_crossmatch import gaia_exoplanets_cross, transform_to_cart\n",
    "from preprocessing.download_gaia import GaiaDataset\n",
    "from preprocessing.calc_density import get_densities"
   ]
  },
  {
   "cell_type": "code",
   "execution_count": null,
   "id": "e6ff7cc8-3851-43b9-84f7-5ec734bb7db1",
   "metadata": {},
   "outputs": [],
   "source": [
    "crossmatch_dir = \"data/crossmatch/dr3\"\n",
    "densities_dir = \"data/densities/dr3\"\n",
    "classification_dir = \"data/classification/dr3\"\n",
    "datasets_dir = \"data/initial_datasets\""
   ]
  },
  {
   "cell_type": "markdown",
   "id": "0cac63c4-aa72-4b18-ad83-e8c96b1ce7d8",
   "metadata": {},
   "source": [
    "# 1. Download Gaia dataset"
   ]
  },
  {
   "cell_type": "code",
   "execution_count": null,
   "id": "e2d589aa-7bf8-408e-84dc-697439c72a44",
   "metadata": {},
   "outputs": [],
   "source": [
    "GaiaDataset().get_gaia()"
   ]
  },
  {
   "cell_type": "markdown",
   "id": "7a0e4697-7f3e-4a92-9518-fe37cc9e93b1",
   "metadata": {},
   "source": [
    "# 2. Crossmatch NASA Exoplanet dataset with Gaia dataset"
   ]
  },
  {
   "cell_type": "code",
   "execution_count": null,
   "id": "e6e9fba9-5c91-487d-a908-27725ed86ebb",
   "metadata": {},
   "outputs": [],
   "source": [
    "def exoplanet_gaia_crossmatch(crossmatch_dir, transform_type=\"6d\", table_name=\"gaiaedr3\", save_spherical=True):\n",
    "    \"\"\"\n",
    "    :param: transform_type: Type of coordinates transformation to perform on the data (6d, 5d_drop_vx, 5d_drop_vy or 5d_drop_vz).\n",
    "    :param: table_name: Name of the Gaia dataset to use.\n",
    "    :param: save_spherical: Save spherical values to a CSV file. When looping it is adviced to apply only once to save time. \n",
    "    \n",
    "    :return: Density values for 1065 exoplanets and their neighbours, Winter-Gaia-NASA exoplanet archive crossmatch\n",
    "    table containing 6D coordinates only and Winter-Gaia-NASA exoplanet archive crossmatch table with data from all 3\n",
    "    sources combined.\n",
    "    \"\"\"\n",
    "\n",
    "    # Cross match datasets and generate new ones.\n",
    "    gaia = gaia_exoplanets_cross(f\"{table_name}.csv\", crossmatch_dir, save_gaia_id=True, return_data=True, save_spherical=save_spherical)\n",
    "    transform_to_cart(gaia, table_name, crossmatch_dir, setting=transform_type)"
   ]
  },
  {
   "cell_type": "code",
   "execution_count": null,
   "id": "3da03d62-13d3-4705-8f78-1e0ad8a9a021",
   "metadata": {
    "tags": []
   },
   "outputs": [],
   "source": [
    "exoplanet_gaia_crossmatch(crossmatch_dir, transform_type=\"6d\", save_spherical=True)\n",
    "exoplanet_gaia_crossmatch(crossmatch_dir, transform_type=\"5d_drop_rv\", save_spherical=False)\n",
    "exoplanet_gaia_crossmatch(crossmatch_dir, transform_type=\"5d_drop_vz\", save_spherical=False)"
   ]
  },
  {
   "cell_type": "markdown",
   "id": "9bd4b916-ad8c-420a-96ed-1a879d7002c6",
   "metadata": {},
   "source": [
    "# 3. Calculate phase space density for neighbours of exoplanet hosts"
   ]
  },
  {
   "cell_type": "code",
   "execution_count": null,
   "id": "3c4646a6-9e7c-4e9f-b5be-3a0851ff556e",
   "metadata": {},
   "outputs": [],
   "source": [
    "def calculate_densities(star_labels_filename, dataset_filename, crossmatch_dir, densities_dir, exoplanets_only=True, start=0, stop=1000, step=1, run_on_gpu=False):\n",
    "    \"\"\"\n",
    "    Calculate phase space density for given set of stars.\n",
    "    \n",
    "    :param: star_labels_filename: Name of the file containing star labels.\n",
    "    :param: dataset_filename: Name of the file containing coordinates of the stars.\n",
    "    :param: exoplanets_only: Compute density only for a list of exoplanets (~1000).\n",
    "    :param: n_stars: Numeber of stars to calculate density for.\n",
    "    :param: run_on_gpu: Use GPU accelerated pipeline.\n",
    "    \"\"\"\n",
    "    \n",
    "    labels_file = pd.read_csv(os.path.join(crossmatch_dir, star_labels_filename), dtype={\"source_id\": str, \"Host\": str})\n",
    "    gaia = pd.read_csv(os.path.join(crossmatch_dir, dataset_filename))\n",
    "                \n",
    "    if gaia.shape[1] == 6:\n",
    "        name = dataset_filename.split(\"_\")[0] + f\"_{dataset_filename[-6:-4]}\"\n",
    "    else:\n",
    "        name = dataset_filename.split(\"_\")[0] + f\"_{dataset_filename[-14:-4]}\"\n",
    "            \n",
    "    if exoplanets_only:\n",
    "        labels = labels_file[\"Host\"].dropna()\n",
    "        start = 0\n",
    "        stop = labels.shape[0]\n",
    "        step = 1\n",
    "        name = name + \"_only-\" + dataset_filename.split(\"_\")[1] + \"s\"\n",
    "    else:\n",
    "        labels = labels_file[\"source_id\"]\n",
    "        name = name + f\"_{str(start)}_{str(stop)}\"\n",
    "\n",
    "    densities, dropped = get_densities(labels.to_numpy(), gaia.to_numpy(), start=start, stop=stop, step=step, run_on_gpu=run_on_gpu)\n",
    "    \n",
    "    with open(f\"{densities_dir}/densities_{name}.data\", \"wb\") as f:\n",
    "        pickle.dump(densities, f)\n",
    "    with open(f\"{densities_dir}/dropped_densities_{name}.data\", \"wb\") as f:\n",
    "        pickle.dump(dropped, f)"
   ]
  },
  {
   "cell_type": "code",
   "execution_count": null,
   "id": "2b45d1b7-6cbc-4f88-8a12-9d80da0a8d67",
   "metadata": {
    "tags": []
   },
   "outputs": [],
   "source": [
    "n_stars = 1000\n",
    "for fname in os.listdir(crossmatch_dir):\n",
    "    if \"cartesian_5d_drop_rv\" in fname:\n",
    "        for i in range(0, 10, 1):\n",
    "            start = i * n_stars\n",
    "            stop = (i+1) * n_stars\n",
    "            step = 1\n",
    "            tstart = time.perf_counter()\n",
    "            calculate_densities(\"gaiaedr3_star_labels.csv\", fname, crossmatch_dir, densities_dir, exoplanets_only=False, start=start, stop=stop, step=step, run_on_gpu=True)\n",
    "            tend = time.perf_counter()\n",
    "            print(f\"{fname} completed in: {str(tend-tstart)}\")"
   ]
  },
  {
   "cell_type": "code",
   "execution_count": null,
   "id": "96d01b19-3499-4074-9b71-a06e161bcde1",
   "metadata": {
    "tags": []
   },
   "outputs": [],
   "source": [
    "n_stars = 1000\n",
    "for fname in os.listdir(crossmatch_dir):\n",
    "    if \"cartesian_6d\" in fname:\n",
    "        for i in range(0, 10, 1):\n",
    "            start = i * n_stars\n",
    "            stop = (i+1) * n_stars\n",
    "            step = 1\n",
    "            tstart = time.perf_counter()\n",
    "            calculate_densities(\"gaiaedr3_star_labels.csv\", fname, crossmatch_dir, densities_dir, exoplanets_only=False, start=start, stop=stop, step=step, run_on_gpu=True)\n",
    "            tend = time.perf_counter()\n",
    "            print(f\"{fname} completed in: {str(tend-tstart)}\")"
   ]
  },
  {
   "cell_type": "markdown",
   "id": "62e9423d-f2b3-42a6-aae2-48818dd17fb4",
   "metadata": {
    "tags": []
   },
   "source": [
    "# 3. Fit gaussian mixture model to predict if target star belongs to overdensity or underdensity group. Return scores and attributes of the model."
   ]
  },
  {
   "cell_type": "code",
   "execution_count": null,
   "id": "4c49d384-cf0a-4ce5-b2f0-35ee9907b7e1",
   "metadata": {},
   "outputs": [],
   "source": [
    "def labels(row):\n",
    "    if row[\"gm_p_low\"] >= 0.84:\n",
    "        return \"0\"\n",
    "    elif row[\"gm_p_high\"] >= 0.84:\n",
    "        return \"2\"\n",
    "    else:\n",
    "        return \"1\""
   ]
  },
  {
   "cell_type": "code",
   "execution_count": null,
   "id": "ba9d2628-900c-4c72-85ce-a7e9e3bf98b2",
   "metadata": {},
   "outputs": [],
   "source": [
    "def fit_gaussian_mixture(file_name, classification_dir, densities_dir, show_graph=False, save_graph=False):\n",
    "\n",
    "    sigma = 2\n",
    "    fig_dir=None\n",
    "    file_name = file_name.split(\".\")[0]\n",
    "    if save_graph:  \n",
    "        if os.path.isdir(f\"figures/{file_name}\"):\n",
    "            shutil.rmtree(f\"figures/{file_name}\")\n",
    "        fig_dir = file_name\n",
    "    \n",
    "        os.mkdir(f\"figures/{fig_dir}\")\n",
    "    \n",
    "    with open(f\"{densities_dir}/{file_name}.data\", \"rb\") as f:\n",
    "        densities = pickle.load(f)\n",
    "\n",
    "    results = []\n",
    "    for i in densities:\n",
    "        # Compute log10 of the host density and expand dimensions for further use\n",
    "        target = np.expand_dims(np.log10(i[1]), axis=0).T\n",
    "\n",
    "        # Remove outliers outside sigma\n",
    "        data = remove_outliers(i[4], sigma=sigma)\n",
    "        \n",
    "        # Apply gaussian mixture model to the data\n",
    "        model, scores = gaussian_mixture(data, [target], components=2, scores_only=False)\n",
    "\n",
    "        # Create list consisting of star name and its density for graph drawing\n",
    "        scores.insert(0, target[0])\n",
    "        scores.insert(0, np.log10(i[4].min()))\n",
    "        scores.insert(0, np.log10(i[4].max()))\n",
    "        scores.insert(0, np.log10(i[4].std()))\n",
    "        scores.insert(0, np.log10(i[4].mean()))\n",
    "        scores.insert(0, i[3])\n",
    "        scores.insert(0, i[2])\n",
    "        scores.insert(0, i[0])\n",
    "        \n",
    "        results.append(scores)\n",
    "        \n",
    "        # Draw best fit mixture\n",
    "        if type(i[0]) != str:\n",
    "            host = [f\"{i[0]:.0f}\", target]\n",
    "        else:\n",
    "            host = [i[0], target]\n",
    "        \n",
    "        if show_graph or save_graph:\n",
    "            best_fit_mixture(model, data, host, results[densities.index(i)][4], fig_dir, show_graph, save_graph)\n",
    "\n",
    "    \n",
    "    df = pd.DataFrame(results, columns=[\"Host\", \"n_40pc_stars\", \"n_80pc_stars\", \"densities_mean\", \"densities_std\", \n",
    "                                        \"densities_max\", \"densities_min\", \"target_density\", \"gm_p_low\", \"gm_p_high\",\n",
    "                                        \"gm_mean_low\", \"gm_mean_high\", \"gm_cov_low\", \"gm_cov_high\", \"gm_aic\", \"gm_bic\"])\n",
    "    df[\"class\"] = df.apply(lambda row: labels(row), axis=1)\n",
    "\n",
    "    df.to_csv(f\"{classification_dir}/features_{file_name}.csv\")"
   ]
  },
  {
   "cell_type": "code",
   "execution_count": null,
   "id": "16539f98-48df-4982-9293-8ddb5cf6ece0",
   "metadata": {
    "tags": []
   },
   "outputs": [],
   "source": [
    "features = os.listdir(classification_dir)\n",
    "for fname in os.listdir(densities_dir):\n",
    "    for i in features:\n",
    "        if fname.split(\".\")[0] in i:\n",
    "            continue\n",
    "    fit_gaussian_mixture(fname, classification_dir, densities_dir, show_graph=False, save_graph=False)"
   ]
  }
 ],
 "metadata": {
  "kernelspec": {
   "display_name": "Python 3",
   "language": "python",
   "name": "python3"
  },
  "language_info": {
   "codemirror_mode": {
    "name": "ipython",
    "version": 3
   },
   "file_extension": ".py",
   "mimetype": "text/x-python",
   "name": "python",
   "nbconvert_exporter": "python",
   "pygments_lexer": "ipython3",
   "version": "3.8.10"
  }
 },
 "nbformat": 4,
 "nbformat_minor": 5
}
