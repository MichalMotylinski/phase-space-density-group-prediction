{
 "cells": [
  {
   "cell_type": "code",
   "execution_count": 1,
   "id": "65dfd7b6-a7a7-4ac1-991e-47901a774feb",
   "metadata": {},
   "outputs": [
    {
     "name": "stdout",
     "output_type": "stream",
     "text": [
      "Created TAP+ (v1.2.1) - Connection:\n",
      "\tHost: gea.esac.esa.int\n",
      "\tUse HTTPS: True\n",
      "\tPort: 443\n",
      "\tSSL Port: 443\n",
      "Created TAP+ (v1.2.1) - Connection:\n",
      "\tHost: geadata.esac.esa.int\n",
      "\tUse HTTPS: True\n",
      "\tPort: 443\n",
      "\tSSL Port: 443\n"
     ]
    }
   ],
   "source": [
    "import pandas as pd\n",
    "from pathlib import Path\n",
    "import time\n",
    "from os import path\n",
    "import seaborn as sns\n",
    "\n",
    "from preprocessing.exoplanets_gaia_crossmatch import gaia_exoplanets_cross, transform_to_cart\n",
    "from preprocessing.download_gaia import GaiaDataset\n",
    "from preprocessing.calc_density import get_densities\n",
    "from models.gaussian_mixture import remove_outliers, gaussian_mixture\n",
    "from models.classification import random_forest as rfc\n",
    "from models.regression import random_forest as rfr\n",
    "from models.regression import RadialVelocityRegression, ann\n",
    "from sklearn.metrics import r2_score\n",
    "from graphs.mixture_fit import best_fit_mixture\n",
    "\n",
    "import seaborn as sns\n",
    "import matplotlib.pyplot as plt\n",
    "import numpy as np\n",
    "import pickle\n",
    "import os\n",
    "import shutil"
   ]
  },
  {
   "cell_type": "code",
   "execution_count": 2,
   "id": "e6ff7cc8-3851-43b9-84f7-5ec734bb7db1",
   "metadata": {},
   "outputs": [],
   "source": [
    "crossmatch_dir = \"data/crossmatch/dr3\"\n",
    "densities_dir = \"data/densities/dr3\"\n",
    "classification_dir = \"data/classification/dr3\"\n",
    "datasets_dir = \"data/initial_datasets\""
   ]
  },
  {
   "cell_type": "code",
   "execution_count": null,
   "id": "01d9bcb9-a048-4b5a-a90c-6380f7f6d43b",
   "metadata": {},
   "outputs": [],
   "source": [
    "if not os.path.exists(crossmatch_dir):\n",
    "    os.mkdir(crossmatch_dir)\n",
    "if not os.path.exists(densities_dir):\n",
    "    os.mkdir(densities_dir)\n",
    "if not os.path.exists(classification_dir):\n",
    "    os.mkdir(classification_dir)\n",
    "if not os.path.exists(datasets_dir):\n",
    "    os.mkdir(datasets_dir)"
   ]
  },
  {
   "cell_type": "markdown",
   "id": "0cac63c4-aa72-4b18-ad83-e8c96b1ce7d8",
   "metadata": {},
   "source": [
    "# 1. Download Gaia dataset"
   ]
  },
  {
   "cell_type": "code",
   "execution_count": 5,
   "id": "e2d589aa-7bf8-408e-84dc-697439c72a44",
   "metadata": {},
   "outputs": [
    {
     "name": "stdout",
     "output_type": "stream",
     "text": [
      "OK\n",
      "INFO: Query finished. [astroquery.utils.tap.core]\n"
     ]
    }
   ],
   "source": [
    "GaiaDataset().get_gaia()"
   ]
  },
  {
   "cell_type": "markdown",
   "id": "7a0e4697-7f3e-4a92-9518-fe37cc9e93b1",
   "metadata": {},
   "source": [
    "# 2. Crossmatch NASA Exoplanet dataset with Gaia dataset"
   ]
  },
  {
   "cell_type": "code",
   "execution_count": 32,
   "id": "e6e9fba9-5c91-487d-a908-27725ed86ebb",
   "metadata": {},
   "outputs": [],
   "source": [
    "def exoplanet_gaia_crossmatch(crossmatch_dir, transform_type=\"6d\", table_name=\"gaiaedr3\", save_spherical=True):\n",
    "    \"\"\"\n",
    "    :param: transform_type: Type of coordinates transformation to perform on the data (6d, 5d_drop_vx, 5d_drop_vy or 5d_drop_vz).\n",
    "    :param: table_name: Name of the Gaia dataset to use.\n",
    "    :param: save_spherical: Save spherical values to a CSV file. When looping it is adviced to apply only once to save time. \n",
    "    \n",
    "    :return: Density values for 1065 exoplanets and their neighbours, Winter-Gaia-NASA exoplanet archive crossmatch\n",
    "    table containing 6D coordinates only and Winter-Gaia-NASA exoplanet archive crossmatch table with data from all 3\n",
    "    sources combined.\n",
    "    \"\"\"\n",
    "\n",
    "    # Cross match datasets and generate new ones.\n",
    "    gaia = gaia_exoplanets_cross(f\"{table_name}.csv\", crossmatch_dir, save_gaia_id=True, return_data=True, save_spherical=save_spherical)\n",
    "    transform_to_cart(gaia, table_name, crossmatch_dir, setting=transform_type)"
   ]
  },
  {
   "cell_type": "code",
   "execution_count": 8,
   "id": "3da03d62-13d3-4705-8f78-1e0ad8a9a021",
   "metadata": {
    "tags": []
   },
   "outputs": [],
   "source": [
    "exoplanet_gaia_crossmatch(crossmatch_dir, transform_type=\"6d\", save_spherical=True)\n",
    "exoplanet_gaia_crossmatch(crossmatch_dir, transform_type=\"5d_drop_rv\", save_spherical=False)\n",
    "exoplanet_gaia_crossmatch(crossmatch_dir, transform_type=\"5d_drop_vz\", save_spherical=False)"
   ]
  },
  {
   "cell_type": "markdown",
   "id": "9bd4b916-ad8c-420a-96ed-1a879d7002c6",
   "metadata": {},
   "source": [
    "# 3. Calculate phase space density for neighbours of exoplanet hosts"
   ]
  },
  {
   "cell_type": "code",
   "execution_count": 3,
   "id": "3c4646a6-9e7c-4e9f-b5be-3a0851ff556e",
   "metadata": {},
   "outputs": [],
   "source": [
    "def calculate_densities(star_labels_filename, dataset_filename, crossmatch_dir, densities_dir, exoplanets_only=True, start=0, stop=1000, step=1, run_on_gpu=False):\n",
    "    \"\"\"\n",
    "    Calculate phase space density for given set of stars.\n",
    "    \n",
    "    :param: star_labels_filename: Name of the file containing star labels.\n",
    "    :param: dataset_filename: Name of the file containing coordinates of the stars.\n",
    "    :param: exoplanets_only: Compute density only for a list of exoplanets (~1000).\n",
    "    :param: n_stars: Numeber of stars to calculate density for.\n",
    "    :param: run_on_gpu: Use GPU accelerated pipeline.\n",
    "    \"\"\"\n",
    "    \n",
    "    labels_file = pd.read_csv(os.path.join(crossmatch_dir, star_labels_filename), dtype={\"source_id\": np.float64, \"Host\": np.object})\n",
    "    gaia = pd.read_csv(os.path.join(crossmatch_dir, dataset_filename))\n",
    "                \n",
    "    if gaia.shape[1] == 6:\n",
    "        name = dataset_filename.split(\"_\")[0] + f\"_{dataset_filename[-6:-4]}\"\n",
    "    else:\n",
    "        name = dataset_filename.split(\"_\")[0] + f\"_{dataset_filename[-14:-4]}\"\n",
    "            \n",
    "    if exoplanets_only:\n",
    "        labels = labels_file[\"Host\"].dropna()\n",
    "        start = 0\n",
    "        stop = labels.shape[0]\n",
    "        step = 1\n",
    "        name = name + \"_only-\" + dataset_filename.split(\"_\")[1] + \"s\"\n",
    "    else:\n",
    "        labels = labels_file[\"source_id\"]\n",
    "        name = name + f\"_{str(start)}_{str(stop)}\"\n",
    "\n",
    "    densities, dropped = get_densities(labels.to_numpy(), gaia.to_numpy(), start=start, stop=stop, step=step, run_on_gpu=run_on_gpu)\n",
    "    \n",
    "    with open(f\"{densities_dir}/densities_{name}.data\", \"wb\") as f:\n",
    "        pickle.dump(densities, f)\n",
    "    with open(f\"{densities_dir}/dropped_densities_{name}.data\", \"wb\") as f:\n",
    "        pickle.dump(dropped, f)"
   ]
  },
  {
   "cell_type": "code",
   "execution_count": 4,
   "id": "96d01b19-3499-4074-9b71-a06e161bcde1",
   "metadata": {
    "collapsed": true,
    "jupyter": {
     "outputs_hidden": true
    },
    "tags": []
   },
   "outputs": [
    {
     "name": "stdout",
     "output_type": "stream",
     "text": [
      "gaiaedr3_exoplanet_cross_cartesian_6d.csv completed in: 14.817765488000077\n",
      "gaiaedr3_exoplanet_cross_cartesian_6d.csv completed in: 13.269045785999879\n"
     ]
    },
    {
     "ename": "KeyboardInterrupt",
     "evalue": "",
     "output_type": "error",
     "traceback": [
      "\u001b[0;31m---------------------------------------------------------------------------\u001b[0m",
      "\u001b[0;31mKeyboardInterrupt\u001b[0m                         Traceback (most recent call last)",
      "\u001b[0;32m/tmp/ipykernel_11796/688295196.py\u001b[0m in \u001b[0;36m<module>\u001b[0;34m\u001b[0m\n\u001b[1;32m      7\u001b[0m             \u001b[0mstep\u001b[0m \u001b[0;34m=\u001b[0m \u001b[0;36m1\u001b[0m\u001b[0;34m\u001b[0m\u001b[0;34m\u001b[0m\u001b[0m\n\u001b[1;32m      8\u001b[0m             \u001b[0mtstart\u001b[0m \u001b[0;34m=\u001b[0m \u001b[0mtime\u001b[0m\u001b[0;34m.\u001b[0m\u001b[0mperf_counter\u001b[0m\u001b[0;34m(\u001b[0m\u001b[0;34m)\u001b[0m\u001b[0;34m\u001b[0m\u001b[0;34m\u001b[0m\u001b[0m\n\u001b[0;32m----> 9\u001b[0;31m             \u001b[0mcalculate_densities\u001b[0m\u001b[0;34m(\u001b[0m\u001b[0;34m\"gaiaedr3_star_labels.csv\"\u001b[0m\u001b[0;34m,\u001b[0m \u001b[0mfname\u001b[0m\u001b[0;34m,\u001b[0m \u001b[0mcrossmatch_dir\u001b[0m\u001b[0;34m,\u001b[0m \u001b[0mdensities_dir\u001b[0m\u001b[0;34m,\u001b[0m \u001b[0mexoplanets_only\u001b[0m\u001b[0;34m=\u001b[0m\u001b[0;32mFalse\u001b[0m\u001b[0;34m,\u001b[0m \u001b[0mstart\u001b[0m\u001b[0;34m=\u001b[0m\u001b[0mstart\u001b[0m\u001b[0;34m,\u001b[0m \u001b[0mstop\u001b[0m\u001b[0;34m=\u001b[0m\u001b[0mstop\u001b[0m\u001b[0;34m,\u001b[0m \u001b[0mstep\u001b[0m\u001b[0;34m=\u001b[0m\u001b[0mstep\u001b[0m\u001b[0;34m,\u001b[0m \u001b[0mrun_on_gpu\u001b[0m\u001b[0;34m=\u001b[0m\u001b[0;32mTrue\u001b[0m\u001b[0;34m)\u001b[0m\u001b[0;34m\u001b[0m\u001b[0;34m\u001b[0m\u001b[0m\n\u001b[0m\u001b[1;32m     10\u001b[0m             \u001b[0mtend\u001b[0m \u001b[0;34m=\u001b[0m \u001b[0mtime\u001b[0m\u001b[0;34m.\u001b[0m\u001b[0mperf_counter\u001b[0m\u001b[0;34m(\u001b[0m\u001b[0;34m)\u001b[0m\u001b[0;34m\u001b[0m\u001b[0;34m\u001b[0m\u001b[0m\n\u001b[1;32m     11\u001b[0m             \u001b[0mprint\u001b[0m\u001b[0;34m(\u001b[0m\u001b[0;34mf\"{fname} completed in: {str(tend-tstart)}\"\u001b[0m\u001b[0;34m)\u001b[0m\u001b[0;34m\u001b[0m\u001b[0;34m\u001b[0m\u001b[0m\n",
      "\u001b[0;32m/tmp/ipykernel_11796/1029686843.py\u001b[0m in \u001b[0;36mcalculate_densities\u001b[0;34m(star_labels_filename, dataset_filename, crossmatch_dir, densities_dir, exoplanets_only, start, stop, step, run_on_gpu)\u001b[0m\n\u001b[1;32m     11\u001b[0m \u001b[0;34m\u001b[0m\u001b[0m\n\u001b[1;32m     12\u001b[0m     \u001b[0mlabels_file\u001b[0m \u001b[0;34m=\u001b[0m \u001b[0mpd\u001b[0m\u001b[0;34m.\u001b[0m\u001b[0mread_csv\u001b[0m\u001b[0;34m(\u001b[0m\u001b[0mos\u001b[0m\u001b[0;34m.\u001b[0m\u001b[0mpath\u001b[0m\u001b[0;34m.\u001b[0m\u001b[0mjoin\u001b[0m\u001b[0;34m(\u001b[0m\u001b[0mcrossmatch_dir\u001b[0m\u001b[0;34m,\u001b[0m \u001b[0mstar_labels_filename\u001b[0m\u001b[0;34m)\u001b[0m\u001b[0;34m,\u001b[0m \u001b[0mdtype\u001b[0m\u001b[0;34m=\u001b[0m\u001b[0;34m{\u001b[0m\u001b[0;34m\"source_id\"\u001b[0m\u001b[0;34m:\u001b[0m \u001b[0mnp\u001b[0m\u001b[0;34m.\u001b[0m\u001b[0mfloat64\u001b[0m\u001b[0;34m,\u001b[0m \u001b[0;34m\"Host\"\u001b[0m\u001b[0;34m:\u001b[0m \u001b[0mnp\u001b[0m\u001b[0;34m.\u001b[0m\u001b[0mobject\u001b[0m\u001b[0;34m}\u001b[0m\u001b[0;34m)\u001b[0m\u001b[0;34m\u001b[0m\u001b[0;34m\u001b[0m\u001b[0m\n\u001b[0;32m---> 13\u001b[0;31m     \u001b[0mgaia\u001b[0m \u001b[0;34m=\u001b[0m \u001b[0mpd\u001b[0m\u001b[0;34m.\u001b[0m\u001b[0mread_csv\u001b[0m\u001b[0;34m(\u001b[0m\u001b[0mos\u001b[0m\u001b[0;34m.\u001b[0m\u001b[0mpath\u001b[0m\u001b[0;34m.\u001b[0m\u001b[0mjoin\u001b[0m\u001b[0;34m(\u001b[0m\u001b[0mcrossmatch_dir\u001b[0m\u001b[0;34m,\u001b[0m \u001b[0mdataset_filename\u001b[0m\u001b[0;34m)\u001b[0m\u001b[0;34m)\u001b[0m\u001b[0;34m\u001b[0m\u001b[0;34m\u001b[0m\u001b[0m\n\u001b[0m\u001b[1;32m     14\u001b[0m \u001b[0;34m\u001b[0m\u001b[0m\n\u001b[1;32m     15\u001b[0m     \u001b[0;32mif\u001b[0m \u001b[0mgaia\u001b[0m\u001b[0;34m.\u001b[0m\u001b[0mshape\u001b[0m\u001b[0;34m[\u001b[0m\u001b[0;36m1\u001b[0m\u001b[0;34m]\u001b[0m \u001b[0;34m==\u001b[0m \u001b[0;36m6\u001b[0m\u001b[0;34m:\u001b[0m\u001b[0;34m\u001b[0m\u001b[0;34m\u001b[0m\u001b[0m\n",
      "\u001b[0;32m~/anaconda3/envs/Exoplanets/lib/python3.8/site-packages/pandas/io/parsers.py\u001b[0m in \u001b[0;36mread_csv\u001b[0;34m(filepath_or_buffer, sep, delimiter, header, names, index_col, usecols, squeeze, prefix, mangle_dupe_cols, dtype, engine, converters, true_values, false_values, skipinitialspace, skiprows, skipfooter, nrows, na_values, keep_default_na, na_filter, verbose, skip_blank_lines, parse_dates, infer_datetime_format, keep_date_col, date_parser, dayfirst, cache_dates, iterator, chunksize, compression, thousands, decimal, lineterminator, quotechar, quoting, doublequote, escapechar, comment, encoding, dialect, error_bad_lines, warn_bad_lines, delim_whitespace, low_memory, memory_map, float_precision)\u001b[0m\n\u001b[1;32m    686\u001b[0m     )\n\u001b[1;32m    687\u001b[0m \u001b[0;34m\u001b[0m\u001b[0m\n\u001b[0;32m--> 688\u001b[0;31m     \u001b[0;32mreturn\u001b[0m \u001b[0m_read\u001b[0m\u001b[0;34m(\u001b[0m\u001b[0mfilepath_or_buffer\u001b[0m\u001b[0;34m,\u001b[0m \u001b[0mkwds\u001b[0m\u001b[0;34m)\u001b[0m\u001b[0;34m\u001b[0m\u001b[0;34m\u001b[0m\u001b[0m\n\u001b[0m\u001b[1;32m    689\u001b[0m \u001b[0;34m\u001b[0m\u001b[0m\n\u001b[1;32m    690\u001b[0m \u001b[0;34m\u001b[0m\u001b[0m\n",
      "\u001b[0;32m~/anaconda3/envs/Exoplanets/lib/python3.8/site-packages/pandas/io/parsers.py\u001b[0m in \u001b[0;36m_read\u001b[0;34m(filepath_or_buffer, kwds)\u001b[0m\n\u001b[1;32m    458\u001b[0m \u001b[0;34m\u001b[0m\u001b[0m\n\u001b[1;32m    459\u001b[0m     \u001b[0;32mtry\u001b[0m\u001b[0;34m:\u001b[0m\u001b[0;34m\u001b[0m\u001b[0;34m\u001b[0m\u001b[0m\n\u001b[0;32m--> 460\u001b[0;31m         \u001b[0mdata\u001b[0m \u001b[0;34m=\u001b[0m \u001b[0mparser\u001b[0m\u001b[0;34m.\u001b[0m\u001b[0mread\u001b[0m\u001b[0;34m(\u001b[0m\u001b[0mnrows\u001b[0m\u001b[0;34m)\u001b[0m\u001b[0;34m\u001b[0m\u001b[0;34m\u001b[0m\u001b[0m\n\u001b[0m\u001b[1;32m    461\u001b[0m     \u001b[0;32mfinally\u001b[0m\u001b[0;34m:\u001b[0m\u001b[0;34m\u001b[0m\u001b[0;34m\u001b[0m\u001b[0m\n\u001b[1;32m    462\u001b[0m         \u001b[0mparser\u001b[0m\u001b[0;34m.\u001b[0m\u001b[0mclose\u001b[0m\u001b[0;34m(\u001b[0m\u001b[0;34m)\u001b[0m\u001b[0;34m\u001b[0m\u001b[0;34m\u001b[0m\u001b[0m\n",
      "\u001b[0;32m~/anaconda3/envs/Exoplanets/lib/python3.8/site-packages/pandas/io/parsers.py\u001b[0m in \u001b[0;36mread\u001b[0;34m(self, nrows)\u001b[0m\n\u001b[1;32m   1196\u001b[0m     \u001b[0;32mdef\u001b[0m \u001b[0mread\u001b[0m\u001b[0;34m(\u001b[0m\u001b[0mself\u001b[0m\u001b[0;34m,\u001b[0m \u001b[0mnrows\u001b[0m\u001b[0;34m=\u001b[0m\u001b[0;32mNone\u001b[0m\u001b[0;34m)\u001b[0m\u001b[0;34m:\u001b[0m\u001b[0;34m\u001b[0m\u001b[0;34m\u001b[0m\u001b[0m\n\u001b[1;32m   1197\u001b[0m         \u001b[0mnrows\u001b[0m \u001b[0;34m=\u001b[0m \u001b[0m_validate_integer\u001b[0m\u001b[0;34m(\u001b[0m\u001b[0;34m\"nrows\"\u001b[0m\u001b[0;34m,\u001b[0m \u001b[0mnrows\u001b[0m\u001b[0;34m)\u001b[0m\u001b[0;34m\u001b[0m\u001b[0;34m\u001b[0m\u001b[0m\n\u001b[0;32m-> 1198\u001b[0;31m         \u001b[0mret\u001b[0m \u001b[0;34m=\u001b[0m \u001b[0mself\u001b[0m\u001b[0;34m.\u001b[0m\u001b[0m_engine\u001b[0m\u001b[0;34m.\u001b[0m\u001b[0mread\u001b[0m\u001b[0;34m(\u001b[0m\u001b[0mnrows\u001b[0m\u001b[0;34m)\u001b[0m\u001b[0;34m\u001b[0m\u001b[0;34m\u001b[0m\u001b[0m\n\u001b[0m\u001b[1;32m   1199\u001b[0m \u001b[0;34m\u001b[0m\u001b[0m\n\u001b[1;32m   1200\u001b[0m         \u001b[0;31m# May alter columns / col_dict\u001b[0m\u001b[0;34m\u001b[0m\u001b[0;34m\u001b[0m\u001b[0;34m\u001b[0m\u001b[0m\n",
      "\u001b[0;32m~/anaconda3/envs/Exoplanets/lib/python3.8/site-packages/pandas/io/parsers.py\u001b[0m in \u001b[0;36mread\u001b[0;34m(self, nrows)\u001b[0m\n\u001b[1;32m   2155\u001b[0m     \u001b[0;32mdef\u001b[0m \u001b[0mread\u001b[0m\u001b[0;34m(\u001b[0m\u001b[0mself\u001b[0m\u001b[0;34m,\u001b[0m \u001b[0mnrows\u001b[0m\u001b[0;34m=\u001b[0m\u001b[0;32mNone\u001b[0m\u001b[0;34m)\u001b[0m\u001b[0;34m:\u001b[0m\u001b[0;34m\u001b[0m\u001b[0;34m\u001b[0m\u001b[0m\n\u001b[1;32m   2156\u001b[0m         \u001b[0;32mtry\u001b[0m\u001b[0;34m:\u001b[0m\u001b[0;34m\u001b[0m\u001b[0;34m\u001b[0m\u001b[0m\n\u001b[0;32m-> 2157\u001b[0;31m             \u001b[0mdata\u001b[0m \u001b[0;34m=\u001b[0m \u001b[0mself\u001b[0m\u001b[0;34m.\u001b[0m\u001b[0m_reader\u001b[0m\u001b[0;34m.\u001b[0m\u001b[0mread\u001b[0m\u001b[0;34m(\u001b[0m\u001b[0mnrows\u001b[0m\u001b[0;34m)\u001b[0m\u001b[0;34m\u001b[0m\u001b[0;34m\u001b[0m\u001b[0m\n\u001b[0m\u001b[1;32m   2158\u001b[0m         \u001b[0;32mexcept\u001b[0m \u001b[0mStopIteration\u001b[0m\u001b[0;34m:\u001b[0m\u001b[0;34m\u001b[0m\u001b[0;34m\u001b[0m\u001b[0m\n\u001b[1;32m   2159\u001b[0m             \u001b[0;32mif\u001b[0m \u001b[0mself\u001b[0m\u001b[0;34m.\u001b[0m\u001b[0m_first_chunk\u001b[0m\u001b[0;34m:\u001b[0m\u001b[0;34m\u001b[0m\u001b[0;34m\u001b[0m\u001b[0m\n",
      "\u001b[0;32mpandas/_libs/parsers.pyx\u001b[0m in \u001b[0;36mpandas._libs.parsers.TextReader.read\u001b[0;34m()\u001b[0m\n",
      "\u001b[0;32mpandas/_libs/parsers.pyx\u001b[0m in \u001b[0;36mpandas._libs.parsers.TextReader._read_low_memory\u001b[0;34m()\u001b[0m\n",
      "\u001b[0;32mpandas/_libs/parsers.pyx\u001b[0m in \u001b[0;36mpandas._libs.parsers.TextReader._read_rows\u001b[0;34m()\u001b[0m\n",
      "\u001b[0;32mpandas/_libs/parsers.pyx\u001b[0m in \u001b[0;36mpandas._libs.parsers.TextReader._convert_column_data\u001b[0;34m()\u001b[0m\n",
      "\u001b[0;32mpandas/_libs/parsers.pyx\u001b[0m in \u001b[0;36mpandas._libs.parsers.TextReader._convert_tokens\u001b[0;34m()\u001b[0m\n",
      "\u001b[0;32mpandas/_libs/parsers.pyx\u001b[0m in \u001b[0;36mpandas._libs.parsers.TextReader._convert_with_dtype\u001b[0;34m()\u001b[0m\n",
      "\u001b[0;32m~/anaconda3/envs/Exoplanets/lib/python3.8/site-packages/pandas/core/dtypes/common.py\u001b[0m in \u001b[0;36mis_categorical_dtype\u001b[0;34m(arr_or_dtype)\u001b[0m\n\u001b[1;32m    528\u001b[0m \u001b[0;34m\u001b[0m\u001b[0m\n\u001b[1;32m    529\u001b[0m \u001b[0;34m\u001b[0m\u001b[0m\n\u001b[0;32m--> 530\u001b[0;31m \u001b[0;32mdef\u001b[0m \u001b[0mis_categorical_dtype\u001b[0m\u001b[0;34m(\u001b[0m\u001b[0marr_or_dtype\u001b[0m\u001b[0;34m)\u001b[0m \u001b[0;34m->\u001b[0m \u001b[0mbool\u001b[0m\u001b[0;34m:\u001b[0m\u001b[0;34m\u001b[0m\u001b[0;34m\u001b[0m\u001b[0m\n\u001b[0m\u001b[1;32m    531\u001b[0m     \"\"\"\n\u001b[1;32m    532\u001b[0m     \u001b[0mCheck\u001b[0m \u001b[0mwhether\u001b[0m \u001b[0man\u001b[0m \u001b[0marray\u001b[0m\u001b[0;34m-\u001b[0m\u001b[0mlike\u001b[0m \u001b[0;32mor\u001b[0m \u001b[0mdtype\u001b[0m \u001b[0;32mis\u001b[0m \u001b[0mof\u001b[0m \u001b[0mthe\u001b[0m \u001b[0mCategorical\u001b[0m \u001b[0mdtype\u001b[0m\u001b[0;34m.\u001b[0m\u001b[0;34m\u001b[0m\u001b[0;34m\u001b[0m\u001b[0m\n",
      "\u001b[0;31mKeyboardInterrupt\u001b[0m: "
     ]
    }
   ],
   "source": [
    "n_stars = 10\n",
    "for fname in os.listdir(crossmatch_dir):\n",
    "    if \"cartesian_6d\" in fname:\n",
    "        for i in range(0, 10, 1):\n",
    "            start = i * n_stars\n",
    "            stop = (i+1) * n_stars\n",
    "            step = 1\n",
    "            tstart = time.perf_counter()\n",
    "            calculate_densities(\"gaiaedr3_star_labels.csv\", fname, crossmatch_dir, densities_dir, exoplanets_only=False, start=start, stop=stop, step=step, run_on_gpu=True)\n",
    "            tend = time.perf_counter()\n",
    "            print(f\"{fname} completed in: {str(tend-tstart)}\")"
   ]
  },
  {
   "cell_type": "code",
   "execution_count": 17,
   "id": "e7cf4e5d-310e-4fb0-b0db-96364eb78e25",
   "metadata": {},
   "outputs": [
    {
     "data": {
      "text/plain": [
       "36"
      ]
     },
     "execution_count": 17,
     "metadata": {},
     "output_type": "execute_result"
    }
   ],
   "source": [
    "gaia"
   ]
  },
  {
   "cell_type": "markdown",
   "id": "62e9423d-f2b3-42a6-aae2-48818dd17fb4",
   "metadata": {},
   "source": [
    "# 3. Fit gaussian mixture model to predict if target star belongs to overdensity or underdensity group. Return scores and attributes of the model."
   ]
  },
  {
   "cell_type": "code",
   "execution_count": 33,
   "id": "ba9d2628-900c-4c72-85ce-a7e9e3bf98b2",
   "metadata": {},
   "outputs": [],
   "source": [
    "def fit_gaussian_mixture(file_name, classification_dir, densities_dir, show_graph=False, save_graph=False):\n",
    "    \"\"\"\n",
    "    :param: star_labels_filename:\n",
    "    \"\"\"\n",
    "    sigma = 2\n",
    "    fig_dir=None\n",
    "    file_name = file_name.split(\".\")[0]\n",
    "    if save_graph:  \n",
    "        if os.path.isdir(f\"figures/{file_name}\"):\n",
    "            shutil.rmtree(f\"figures/{file_name}\")\n",
    "        fig_dir = file_name\n",
    "    \n",
    "        os.mkdir(f\"figures/{fig_dir}\")\n",
    "    \n",
    "    with open(f\"{densities_dir}/{file_name}.data\", \"rb\") as f:\n",
    "        densities = pickle.load(f)\n",
    "    \n",
    "    results = []\n",
    "    for i in densities:\n",
    "        # Compute log10 of the host density and expand dimensions for further use\n",
    "        target = np.expand_dims(np.log10(i[1]), axis=0).T\n",
    "\n",
    "        # Remove outliers outside sigma\n",
    "        data = remove_outliers(i[4], sigma=sigma)\n",
    "        \n",
    "        # Apply gaussian mixture model to the data\n",
    "        model, scores = gaussian_mixture(data, [target], components=2, scores_only=False)\n",
    "\n",
    "        # Create list consisting of star name and its density for graph drawing\n",
    "        scores.insert(0, target[0])\n",
    "        scores.insert(0, i[4].shape[0])\n",
    "        scores.insert(0, i[0])\n",
    "        \n",
    "        results.append(scores)\n",
    "        \n",
    "        # Draw best fit mixture\n",
    "        if type(i[0]) != str:\n",
    "            host = [f\"{i[0]:.0f}\", target]\n",
    "        else:\n",
    "            host = [i[0], target]\n",
    "\n",
    "        if show_graph or save_graph:\n",
    "            best_fit_mixture(model, data, host, fig_dir, show_graph, save_graph)\n",
    "\n",
    "    \n",
    "    df = pd.DataFrame(results, columns=[\"Host\", \"n_stars\", \"density\", \"Plow\", \"Phigh\", \"mean_low\", \"mean_high\", \"cov_low\",\n",
    "                                        \"cov_high\", \"aic\", \"bic\"])\n",
    "    df.to_csv(f\"{classification_dir}/features_{file_name}.csv\")"
   ]
  },
  {
   "cell_type": "code",
   "execution_count": 34,
   "id": "16539f98-48df-4982-9293-8ddb5cf6ece0",
   "metadata": {
    "tags": []
   },
   "outputs": [],
   "source": [
    "for fname in os.listdir(densities_dir):\n",
    "    if \"dropped\" in fname:\n",
    "        continue\n",
    "    if \"only-exoplanets\" in fname:\n",
    "        fit_gaussian_mixture(fname, classification_dir, densities_dir, show_graph=False, save_graph=False)\n",
    "    else:\n",
    "        fit_gaussian_mixture(fname, classification_dir, densities_dir, show_graph=False, save_graph=False)\n",
    "        "
   ]
  },
  {
   "cell_type": "code",
   "execution_count": null,
   "id": "606aaa96-8076-43b1-8f1f-37d89ae8ae14",
   "metadata": {},
   "outputs": [],
   "source": []
  }
 ],
 "metadata": {
  "kernelspec": {
   "display_name": "Python 3 (ipykernel)",
   "language": "python",
   "name": "python3"
  },
  "language_info": {
   "codemirror_mode": {
    "name": "ipython",
    "version": 3
   },
   "file_extension": ".py",
   "mimetype": "text/x-python",
   "name": "python",
   "nbconvert_exporter": "python",
   "pygments_lexer": "ipython3",
   "version": "3.8.6"
  }
 },
 "nbformat": 4,
 "nbformat_minor": 5
}
