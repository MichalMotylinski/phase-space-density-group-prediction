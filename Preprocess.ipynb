{
 "cells": [
  {
   "cell_type": "code",
   "execution_count": 1,
   "id": "suitable-virtue",
   "metadata": {},
   "outputs": [],
   "source": [
    "import pandas as pd\n",
    "import os\n",
    "import seaborn as sns\n",
    "import numpy as np\n",
    "import scipy as sp\n",
    "import coord_transform as coord\n",
    "import time\n",
    "from scipy.spatial import distance\n",
    "from matplotlib import pyplot as plt\n",
    "import numpy as np\n",
    "from sklearn.mixture import GaussianMixture\n",
    "from dask import delayed\n",
    "import dask.dataframe as dd\n",
    "from dask.distributed import Client, LocalCluster# this is experimental\n",
    "from dask_cuda import LocalCUDACluster\n",
    "from dask.dataframe import from_pandas\n",
    "import dask.array as da\n",
    "import dask.bag as db\n",
    "import cupy as cp\n",
    "from numba import cuda\n",
    "from numba import roc\n",
    "from numba import njit\n",
    "import numba as nb\n",
    "import dask\n",
    "import dask_cudf\n",
    "import gc\n",
    "import cupy\n",
    "import cudf\n",
    "import os\n",
    "import time\n",
    "import math\n",
    "from multiprocessing import Pool\n",
    "from itertools import product"
   ]
  },
  {
   "cell_type": "code",
   "execution_count": 2,
   "id": "romantic-giant",
   "metadata": {},
   "outputs": [],
   "source": [
    "df = cudf.read_csv(\"gaia.csv\")"
   ]
  },
  {
   "cell_type": "markdown",
   "id": "humanitarian-storage",
   "metadata": {},
   "source": [
    "# Reduce data"
   ]
  },
  {
   "cell_type": "code",
   "execution_count": 3,
   "id": "dressed-replacement",
   "metadata": {},
   "outputs": [],
   "source": [
    "df = df[4.5 > df[\"parallax\"]/df[\"parallax_error\"]]"
   ]
  },
  {
   "cell_type": "markdown",
   "id": "handed-electron",
   "metadata": {},
   "source": [
    "# Calculate distance in pc"
   ]
  },
  {
   "cell_type": "code",
   "execution_count": 4,
   "id": "closed-questionnaire",
   "metadata": {},
   "outputs": [],
   "source": [
    "df[\"distance_pc\"] = 1./df[\"parallax\"]"
   ]
  },
  {
   "cell_type": "code",
   "execution_count": 5,
   "id": "solar-vintage",
   "metadata": {},
   "outputs": [],
   "source": [
    "df = df[df[\"distance_pc\"]>0]"
   ]
  },
  {
   "cell_type": "markdown",
   "id": "promotional-milwaukee",
   "metadata": {},
   "source": [
    "# Converting from spherical to cartesian coordinates"
   ]
  },
  {
   "cell_type": "code",
   "execution_count": 6,
   "id": "planned-chapter",
   "metadata": {},
   "outputs": [],
   "source": [
    "df[\"x\"], df[\"y\"], df[\"z\"] = coord.sph2cart(df[\"distance_pc\"], df[\"ra\"], df[\"dec\"])"
   ]
  },
  {
   "cell_type": "code",
   "execution_count": 7,
   "id": "loving-empire",
   "metadata": {},
   "outputs": [],
   "source": [
    "df[\"vx\"],df[\"vy\"],df[\"vz\"] = coord.vsph2cart(df[\"dr2_radial_velocity\"], df[\"pmra\"], df[\"pmdec\"], df[\"distance_pc\"], df[\"ra\"], df[\"dec\"])"
   ]
  },
  {
   "cell_type": "code",
   "execution_count": 8,
   "id": "elegant-child",
   "metadata": {},
   "outputs": [],
   "source": [
    "df = df.drop(df.columns[:13], axis=1)"
   ]
  },
  {
   "cell_type": "markdown",
   "id": "toxic-strengthening",
   "metadata": {},
   "source": [
    "# Divide set into planets and stars sets. This is only for testing purposes"
   ]
  },
  {
   "cell_type": "code",
   "execution_count": 10,
   "id": "integral-blogger",
   "metadata": {},
   "outputs": [],
   "source": [
    "df[\"index\"] = df.index"
   ]
  },
  {
   "cell_type": "code",
   "execution_count": 23,
   "id": "modern-shopping",
   "metadata": {},
   "outputs": [],
   "source": [
    "planets = df[df[\"index\"] < 175000].to_pandas()"
   ]
  },
  {
   "cell_type": "code",
   "execution_count": 24,
   "id": "immune-parish",
   "metadata": {},
   "outputs": [
    {
     "data": {
      "text/html": [
       "<div>\n",
       "<style scoped>\n",
       "    .dataframe tbody tr th:only-of-type {\n",
       "        vertical-align: middle;\n",
       "    }\n",
       "\n",
       "    .dataframe tbody tr th {\n",
       "        vertical-align: top;\n",
       "    }\n",
       "\n",
       "    .dataframe thead th {\n",
       "        text-align: right;\n",
       "    }\n",
       "</style>\n",
       "<table border=\"1\" class=\"dataframe\">\n",
       "  <thead>\n",
       "    <tr style=\"text-align: right;\">\n",
       "      <th></th>\n",
       "      <th>distance_pc</th>\n",
       "      <th>x</th>\n",
       "      <th>y</th>\n",
       "      <th>z</th>\n",
       "      <th>vx</th>\n",
       "      <th>vy</th>\n",
       "      <th>vz</th>\n",
       "      <th>index</th>\n",
       "    </tr>\n",
       "  </thead>\n",
       "  <tbody>\n",
       "    <tr>\n",
       "      <th>4</th>\n",
       "      <td>4.533882</td>\n",
       "      <td>3.719793</td>\n",
       "      <td>-0.186641</td>\n",
       "      <td>-2.585420</td>\n",
       "      <td>69.817767</td>\n",
       "      <td>-13.857311</td>\n",
       "      <td>-77.070225</td>\n",
       "      <td>4</td>\n",
       "    </tr>\n",
       "    <tr>\n",
       "      <th>7</th>\n",
       "      <td>8.251274</td>\n",
       "      <td>6.737695</td>\n",
       "      <td>3.800255</td>\n",
       "      <td>-2.871419</td>\n",
       "      <td>164.664820</td>\n",
       "      <td>53.223959</td>\n",
       "      <td>-84.625623</td>\n",
       "      <td>7</td>\n",
       "    </tr>\n",
       "    <tr>\n",
       "      <th>30</th>\n",
       "      <td>2.974852</td>\n",
       "      <td>2.527311</td>\n",
       "      <td>0.167956</td>\n",
       "      <td>-1.560204</td>\n",
       "      <td>5.279663</td>\n",
       "      <td>-4.895415</td>\n",
       "      <td>-28.628855</td>\n",
       "      <td>30</td>\n",
       "    </tr>\n",
       "    <tr>\n",
       "      <th>59</th>\n",
       "      <td>13.093292</td>\n",
       "      <td>11.436229</td>\n",
       "      <td>1.327061</td>\n",
       "      <td>-6.235854</td>\n",
       "      <td>45.514479</td>\n",
       "      <td>-33.959848</td>\n",
       "      <td>-114.773070</td>\n",
       "      <td>59</td>\n",
       "    </tr>\n",
       "    <tr>\n",
       "      <th>63</th>\n",
       "      <td>51.907321</td>\n",
       "      <td>20.418319</td>\n",
       "      <td>9.380248</td>\n",
       "      <td>-46.791807</td>\n",
       "      <td>-114.175047</td>\n",
       "      <td>-145.084068</td>\n",
       "      <td>-52.722591</td>\n",
       "      <td>63</td>\n",
       "    </tr>\n",
       "    <tr>\n",
       "      <th>...</th>\n",
       "      <td>...</td>\n",
       "      <td>...</td>\n",
       "      <td>...</td>\n",
       "      <td>...</td>\n",
       "      <td>...</td>\n",
       "      <td>...</td>\n",
       "      <td>...</td>\n",
       "      <td>...</td>\n",
       "    </tr>\n",
       "    <tr>\n",
       "      <th>174672</th>\n",
       "      <td>17.869305</td>\n",
       "      <td>0.437873</td>\n",
       "      <td>-8.620749</td>\n",
       "      <td>-15.646182</td>\n",
       "      <td>-40.882283</td>\n",
       "      <td>98.287504</td>\n",
       "      <td>-6.178595</td>\n",
       "      <td>174672</td>\n",
       "    </tr>\n",
       "    <tr>\n",
       "      <th>174681</th>\n",
       "      <td>17.423250</td>\n",
       "      <td>-0.331502</td>\n",
       "      <td>-13.574329</td>\n",
       "      <td>-10.917753</td>\n",
       "      <td>56.718015</td>\n",
       "      <td>106.723114</td>\n",
       "      <td>25.147908</td>\n",
       "      <td>174681</td>\n",
       "    </tr>\n",
       "    <tr>\n",
       "      <th>174825</th>\n",
       "      <td>1.389500</td>\n",
       "      <td>-0.292824</td>\n",
       "      <td>-0.309821</td>\n",
       "      <td>-1.322489</td>\n",
       "      <td>-7.098680</td>\n",
       "      <td>-5.022415</td>\n",
       "      <td>-17.711709</td>\n",
       "      <td>174825</td>\n",
       "    </tr>\n",
       "    <tr>\n",
       "      <th>174892</th>\n",
       "      <td>13.600626</td>\n",
       "      <td>5.164722</td>\n",
       "      <td>-11.523291</td>\n",
       "      <td>5.051378</td>\n",
       "      <td>-74.321204</td>\n",
       "      <td>-79.899271</td>\n",
       "      <td>33.808291</td>\n",
       "      <td>174892</td>\n",
       "    </tr>\n",
       "    <tr>\n",
       "      <th>174908</th>\n",
       "      <td>0.658556</td>\n",
       "      <td>0.265443</td>\n",
       "      <td>-0.543696</td>\n",
       "      <td>0.260060</td>\n",
       "      <td>-8.153204</td>\n",
       "      <td>16.295340</td>\n",
       "      <td>-8.209072</td>\n",
       "      <td>174908</td>\n",
       "    </tr>\n",
       "  </tbody>\n",
       "</table>\n",
       "<p>4332 rows × 8 columns</p>\n",
       "</div>"
      ],
      "text/plain": [
       "        distance_pc          x          y          z          vx          vy  \\\n",
       "4          4.533882   3.719793  -0.186641  -2.585420   69.817767  -13.857311   \n",
       "7          8.251274   6.737695   3.800255  -2.871419  164.664820   53.223959   \n",
       "30         2.974852   2.527311   0.167956  -1.560204    5.279663   -4.895415   \n",
       "59        13.093292  11.436229   1.327061  -6.235854   45.514479  -33.959848   \n",
       "63        51.907321  20.418319   9.380248 -46.791807 -114.175047 -145.084068   \n",
       "...             ...        ...        ...        ...         ...         ...   \n",
       "174672    17.869305   0.437873  -8.620749 -15.646182  -40.882283   98.287504   \n",
       "174681    17.423250  -0.331502 -13.574329 -10.917753   56.718015  106.723114   \n",
       "174825     1.389500  -0.292824  -0.309821  -1.322489   -7.098680   -5.022415   \n",
       "174892    13.600626   5.164722 -11.523291   5.051378  -74.321204  -79.899271   \n",
       "174908     0.658556   0.265443  -0.543696   0.260060   -8.153204   16.295340   \n",
       "\n",
       "                vz   index  \n",
       "4       -77.070225       4  \n",
       "7       -84.625623       7  \n",
       "30      -28.628855      30  \n",
       "59     -114.773070      59  \n",
       "63      -52.722591      63  \n",
       "...            ...     ...  \n",
       "174672   -6.178595  174672  \n",
       "174681   25.147908  174681  \n",
       "174825  -17.711709  174825  \n",
       "174892   33.808291  174892  \n",
       "174908   -8.209072  174908  \n",
       "\n",
       "[4332 rows x 8 columns]"
      ]
     },
     "execution_count": 24,
     "metadata": {},
     "output_type": "execute_result"
    }
   ],
   "source": [
    "planets"
   ]
  },
  {
   "cell_type": "code",
   "execution_count": 25,
   "id": "exposed-talent",
   "metadata": {},
   "outputs": [],
   "source": [
    "df = df[df[\"index\"] > 175000]"
   ]
  },
  {
   "cell_type": "code",
   "execution_count": 26,
   "id": "registered-jesus",
   "metadata": {},
   "outputs": [],
   "source": [
    "np_df = df.to_pandas().to_numpy()"
   ]
  },
  {
   "cell_type": "markdown",
   "id": "characteristic-determination",
   "metadata": {},
   "source": [
    "### Function creating 2 sets of data.\n",
    "### Set1 consists of stars within 60pc from target planet. \n",
    "### Set2 consists of stars within 80pc from target planet."
   ]
  },
  {
   "cell_type": "code",
   "execution_count": 107,
   "id": "encouraging-times",
   "metadata": {},
   "outputs": [],
   "source": [
    "@njit\n",
    "def to_sets(target, i):\n",
    "    dist1 = 40\n",
    "    dist2 = 80\n",
    "    \n",
    "    set1 = []\n",
    "    set2 = []\n",
    "    for j in range(np_df.shape[0]):\n",
    "        z = np.zeros(shape=target.shape)\n",
    "        for i in range(len(target)):\n",
    "            z[i] = target[i] - np_df[j][i+1]\n",
    "            \n",
    "        dist = np.sqrt(np.sum(z**2, 0))\n",
    "\n",
    "        if dist < dist1:\n",
    "            set1.append([np_df[j][1], np_df[j][2], np_df[j][3], np_df[j][4], np_df[j][5], np_df[j][6]])\n",
    "        if dist < dist2:\n",
    "            set2.append([np_df[j][1], np_df[j][2], np_df[j][3], np_df[j][4], np_df[j][5], np_df[j][6]])\n",
    "\n",
    "    return np.array(set1), np.array(set2)"
   ]
  },
  {
   "cell_type": "markdown",
   "id": "fitting-consultation",
   "metadata": {},
   "source": [
    "### For every star in set1 calculate mahalanobis distance to every star in set2. Store only 20 closest stars in an array. Then pick the 20th closest star from the planet "
   ]
  },
  {
   "cell_type": "code",
   "execution_count": 108,
   "id": "union-south",
   "metadata": {},
   "outputs": [],
   "source": [
    "@njit\n",
    "def calc_mah(i, set2, set2_inv):\n",
    "\n",
    "    #mahal_dist = np.zeros(set2.shape[0]-1)\n",
    "    mahal_dist = np.full(20, 1000, dtype=\"float64\")\n",
    "    \n",
    "    for j in range(1, set2.shape[0]):\n",
    "        set2_inv = np.atleast_2d(set2_inv)\n",
    "        delta = set2[i] - set2[j]\n",
    "        m = np.dot(np.dot(delta, set2_inv), delta)\n",
    "\n",
    "        #mahal_dist[j-1] = np.sqrt(m)\n",
    "        if np.sqrt(m) < mahal_dist.max():\n",
    "            mahal_dist[mahal_dist.argmax()] = np.sqrt(m)\n",
    "\n",
    "    return mahal_dist.max()"
   ]
  },
  {
   "cell_type": "markdown",
   "id": "convertible-oracle",
   "metadata": {},
   "source": [
    "### Convert mahalanobis distances of all stars in set1 to density"
   ]
  },
  {
   "cell_type": "code",
   "execution_count": 109,
   "id": "plastic-cookie",
   "metadata": {},
   "outputs": [],
   "source": [
    "@njit\n",
    "def calc_dense(mah_dist_arr):\n",
    "    density = 20/(mah_dist_arr)**6\n",
    "    norm_density = density/np.median(density)\n",
    "    return norm_density"
   ]
  },
  {
   "cell_type": "markdown",
   "id": "centered-criminal",
   "metadata": {},
   "source": [
    "### Use density to create GausianMixture model and draw low and high density groups"
   ]
  },
  {
   "cell_type": "code",
   "execution_count": 110,
   "id": "common-peoples",
   "metadata": {},
   "outputs": [],
   "source": [
    "def draw(norm_density):\n",
    "    # Add second dimension and transpose array to match input format for GaussianMixture\n",
    "    X = np.expand_dims(np.log10(norm_density), axis=0).T\n",
    "\n",
    "    # train GaussianMixture\n",
    "    model = GaussianMixture(2).fit(X)\n",
    "\n",
    "    # Define figure params\n",
    "    fig = plt.figure(figsize=(50, 5))\n",
    "    fig.subplots_adjust(left=0.12, right=0.97, bottom=0.21, top=0.9, wspace=0.5)\n",
    "    ax = fig.add_subplot(131)\n",
    "\n",
    "    x = np.linspace(-6, 6, 1000)\n",
    "    logprob = model.score_samples(x.reshape(-1, 1))\n",
    "    responsibilities = model.predict_proba(x.reshape(-1, 1))\n",
    "    pdf = np.exp(logprob)\n",
    "    pdf_individual = responsibilities * pdf[:, np.newaxis]\n",
    "\n",
    "    ax.hist(X, 30, density=True, histtype='stepfilled', alpha=0.4)\n",
    "    # Add combined kde line\n",
    "    ax.plot(x, pdf, '-k')\n",
    "    # Add individual lines for low and high density\n",
    "    ax.plot(x, pdf_individual, '--k')\n",
    "    ax.text(0.04, 0.96, \"Best-fit Mixture\", ha='left', va='top', transform=ax.transAxes)\n",
    "\n",
    "    ax.set_xlabel('$x$')\n",
    "    ax.set_ylabel('$p(x)$')\n",
    "    plt.savefig(\"plot_v1.png\", bbox_inches='tight')\n",
    "    plt.show()\n",
    "    #print(X.mean())\n",
    "    #print(model.means_)"
   ]
  },
  {
   "cell_type": "markdown",
   "id": "standing-renaissance",
   "metadata": {},
   "source": [
    "### Loop through all planets and apply above functions. \n",
    "### For testing purposes I am using only 3 planets and 1000 stars from set1. This takes around 90 seconds on my PC to compute. At the moment for planet with 150000 neighbours within 40pc it would take around 1 hour and 10 minutes to compute."
   ]
  },
  {
   "cell_type": "code",
   "execution_count": 120,
   "id": "trying-packet",
   "metadata": {},
   "outputs": [],
   "source": [
    "def get_stars():\n",
    "\n",
    "    o=0\n",
    "    density_list = []\n",
    "\n",
    "    for i, row in planets.iterrows():\n",
    "        \n",
    "        if o == 3:\n",
    "            break\n",
    "        target = np.array([row[1], row[2], row[3]])\n",
    "        set1, set2 = to_sets(target, i)\n",
    "        \n",
    "\n",
    "        set2_cov_mat = np.cov(set2.T) # Calculate the covariance matrix\n",
    "        set2_inv = np.linalg.inv(set2_cov_mat)\n",
    "        \n",
    "        mah_dist_arr = np.zeros(1000)\n",
    "        for j in range(set1.shape[0]):\n",
    "            if j == 1000:\n",
    "                break\n",
    "            mah_dist_arr[j] = (calc_mah(j, set1, set2_inv))\n",
    "\n",
    "        norm_density = calc_dense(np.array(mah_dist_arr))\n",
    "        density_list.append(norm_density)\n",
    "\n",
    "        draw(norm_density)\n",
    "        o = o + 1\n",
    "    return density_list"
   ]
  },
  {
   "cell_type": "code",
   "execution_count": 121,
   "id": "stuffed-berry",
   "metadata": {},
   "outputs": [
    {
     "data": {
      "image/png": "[encoded data removed]",
      "text/plain": [
       "<Figure size 3600x360 with 1 Axes>"
      ]
     },
     "metadata": {
      "needs_background": "light"
     },
     "output_type": "display_data"
    },
    {
     "data": {
      "image/png": "[encoded data removed]",
      "text/plain": [
       "<Figure size 3600x360 with 1 Axes>"
      ]
     },
     "metadata": {
      "needs_background": "light"
     },
     "output_type": "display_data"
    },
    {
     "data": {
      "image/png": "[encoded data removed]",
      "text/plain": [
       "<Figure size 3600x360 with 1 Axes>"
      ]
     },
     "metadata": {
      "needs_background": "light"
     },
     "output_type": "display_data"
    },
    {
     "data": {
      "text/plain": [
       "84.76944116199957"
      ]
     },
     "execution_count": 121,
     "metadata": {},
     "output_type": "execute_result"
    }
   ],
   "source": [
    "start = time.perf_counter()\n",
    "norm_density = get_stars()\n",
    "end = time.perf_counter()\n",
    "end-start"
   ]
  },
  {
   "cell_type": "code",
   "execution_count": null,
   "id": "enclosed-tuition",
   "metadata": {},
   "outputs": [],
   "source": []
  }
 ],
 "metadata": {
  "kernelspec": {
   "display_name": "Python 3",
   "language": "python",
   "name": "python3"
  },
  "language_info": {
   "codemirror_mode": {
    "name": "ipython",
    "version": 3
   },
   "file_extension": ".py",
   "mimetype": "text/x-python",
   "name": "python",
   "nbconvert_exporter": "python",
   "pygments_lexer": "ipython3",
   "version": "3.8.6"
  }
 },
 "nbformat": 4,
 "nbformat_minor": 5
}
