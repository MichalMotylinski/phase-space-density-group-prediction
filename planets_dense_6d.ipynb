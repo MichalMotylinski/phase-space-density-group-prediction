{
 "cells": [
  {
   "cell_type": "code",
   "execution_count": 1,
   "id": "bibliographic-employment",
   "metadata": {},
   "outputs": [],
   "source": [
    "import pandas as pd\n",
    "import os\n",
    "import seaborn as sns\n",
    "import numpy as np\n",
    "import scipy as sp\n",
    "import coord_transform as coord\n",
    "import time\n",
    "from scipy.spatial import distance\n",
    "from matplotlib import pyplot as plt\n",
    "import numpy as np\n",
    "from sklearn.mixture import GaussianMixture\n",
    "from dask import delayed\n",
    "import dask.dataframe as dd\n",
    "from dask.distributed import Client, LocalCluster# this is experimental\n",
    "from dask_cuda import LocalCUDACluster\n",
    "from dask.dataframe import from_pandas\n",
    "import dask.array as da\n",
    "import dask.bag as db\n",
    "import cupy as cp\n",
    "from numba import cuda\n",
    "from numba import roc\n",
    "from numba import njit\n",
    "import numba as nb\n",
    "import dask\n",
    "import dask_cudf\n",
    "import gc\n",
    "import cupy\n",
    "import cudf\n",
    "import os\n",
    "import time\n",
    "import math\n",
    "from multiprocessing import Pool\n",
    "from itertools import product"
   ]
  },
  {
   "cell_type": "code",
   "execution_count": 2,
   "id": "realistic-solution",
   "metadata": {},
   "outputs": [],
   "source": [
    "def prepare_data(df, hosts=False):\n",
    "    # Reduce data\n",
    "    if not hosts:\n",
    "        df = df[4.5 > df[\"parallax\"]/df[\"parallax_error\"]]\n",
    "    \n",
    "    # Calculate distance in pc\n",
    "    df[\"distance_pc\"] = 1./df[\"parallax\"]\n",
    "    df = df[df[\"distance_pc\"]>0]\n",
    "    \n",
    "    # Convert from spherical to cartesian coordinates\n",
    "    df[\"x\"], df[\"y\"], df[\"z\"] = coord.sph2cart(df[\"distance_pc\"], df[\"ra\"], df[\"dec\"])\n",
    "    df[\"vx\"],df[\"vy\"],df[\"vz\"] = coord.vsph2cart(df[\"dr2_radial_velocity\"], df[\"pmra\"], df[\"pmdec\"], df[\"distance_pc\"], df[\"ra\"], df[\"dec\"])\n",
    "    \n",
    "    # Remove unnecessary columns\n",
    "    if hosts:\n",
    "        df = df.drop(df.columns[1:24], axis=1)\n",
    "    else:\n",
    "        df = df.drop(df.columns[:13], axis=1)\n",
    "    \n",
    "    return df"
   ]
  },
  {
   "cell_type": "markdown",
   "id": "silver-athens",
   "metadata": {},
   "source": [
    "# Load exoplanet host stars data"
   ]
  },
  {
   "cell_type": "code",
   "execution_count": 3,
   "id": "surprised-finland",
   "metadata": {},
   "outputs": [],
   "source": [
    "hosts = cudf.read_csv(\"hosts.csv\")"
   ]
  },
  {
   "cell_type": "code",
   "execution_count": 4,
   "id": "dynamic-cambridge",
   "metadata": {},
   "outputs": [],
   "source": [
    "hosts = prepare_data(hosts, True)"
   ]
  },
  {
   "cell_type": "markdown",
   "id": "identified-examination",
   "metadata": {},
   "source": [
    "# Load gaia stars dataset"
   ]
  },
  {
   "cell_type": "code",
   "execution_count": 5,
   "id": "confident-intranet",
   "metadata": {},
   "outputs": [],
   "source": [
    "gaia = cudf.read_csv(\"gaia.csv\")"
   ]
  },
  {
   "cell_type": "code",
   "execution_count": 6,
   "id": "antique-entrepreneur",
   "metadata": {},
   "outputs": [],
   "source": [
    "gaia = prepare_data(gaia)"
   ]
  },
  {
   "cell_type": "code",
   "execution_count": 7,
   "id": "linear-husband",
   "metadata": {},
   "outputs": [],
   "source": [
    "hosts = hosts.to_pandas()"
   ]
  },
  {
   "cell_type": "code",
   "execution_count": 8,
   "id": "harmful-teddy",
   "metadata": {},
   "outputs": [],
   "source": [
    "gaia = gaia.to_pandas().to_numpy()"
   ]
  },
  {
   "cell_type": "code",
   "execution_count": 9,
   "id": "entertaining-behavior",
   "metadata": {},
   "outputs": [],
   "source": [
    "@njit\n",
    "def to_sets(target):\n",
    "    dist2 = 80\n",
    "    \n",
    "    set2 = []\n",
    "    for j in range(gaia.shape[0]):\n",
    "        z = np.zeros(shape=target.shape)\n",
    "        for i in range(len(target)):\n",
    "            z[i] = target[i] - gaia[j][i+1]\n",
    "        \n",
    "        dist = np.sqrt(np.sum(z**2, 0))\n",
    "\n",
    "        if dist < dist2:\n",
    "            set2.append([gaia[j][1], gaia[j][2], gaia[j][3], gaia[j][4], gaia[j][5], gaia[j][6]])\n",
    "\n",
    "    return np.array(set2)"
   ]
  },
  {
   "cell_type": "code",
   "execution_count": 10,
   "id": "gorgeous-decade",
   "metadata": {},
   "outputs": [],
   "source": [
    "@njit\n",
    "def calc_mah(i, set2, set2_inv):\n",
    "\n",
    "    mahal_dist = np.full(20, np.inf, dtype=\"float64\")\n",
    "    \n",
    "    for j in range(0, set2.shape[0]):\n",
    "        set2_inv = np.atleast_2d(set2_inv)\n",
    "        delta = set2[i] - set2[j]\n",
    "        m = np.dot(np.dot(delta, set2_inv), delta)\n",
    "\n",
    "        if np.sqrt(m) < mahal_dist.max():\n",
    "            mahal_dist[mahal_dist.argmax()] = np.sqrt(m)\n",
    "        \n",
    "    return mahal_dist.max()"
   ]
  },
  {
   "cell_type": "markdown",
   "id": "fleet-sharp",
   "metadata": {},
   "source": [
    "### Convert mahalanobis distances of all stars in set1 to density"
   ]
  },
  {
   "cell_type": "code",
   "execution_count": 11,
   "id": "selective-action",
   "metadata": {},
   "outputs": [],
   "source": [
    "@njit\n",
    "def calc_dense(mah_dist_arr):\n",
    "    density = 20/(mah_dist_arr)**6\n",
    "\n",
    "    norm_density = density/np.median(density)\n",
    "    return norm_density"
   ]
  },
  {
   "cell_type": "markdown",
   "id": "identical-frame",
   "metadata": {},
   "source": [
    "### Use density to create GausianMixture model and draw low and high density groups"
   ]
  },
  {
   "cell_type": "code",
   "execution_count": 12,
   "id": "hearing-civilian",
   "metadata": {},
   "outputs": [],
   "source": [
    "def draw(norm_density):\n",
    "    # Add second dimension and transpose array to match input format for GaussianMixture\n",
    "    X = np.expand_dims(np.log10(norm_density), axis=0).T\n",
    "\n",
    "    # train GaussianMixture\n",
    "    model = GaussianMixture(2).fit(X)\n",
    "\n",
    "    # Define figure params\n",
    "    fig = plt.figure(figsize=(50, 5))\n",
    "    fig.subplots_adjust(left=0.12, right=0.97, bottom=0.21, top=0.9, wspace=0.5)\n",
    "    ax = fig.add_subplot(131)\n",
    "\n",
    "    x = np.linspace(-6, 6, 1000)\n",
    "    logprob = model.score_samples(x.reshape(-1, 1))\n",
    "    responsibilities = model.predict_proba(x.reshape(-1, 1))\n",
    "    pdf = np.exp(logprob)\n",
    "    pdf_individual = responsibilities * pdf[:, np.newaxis]\n",
    "\n",
    "    ax.hist(X, 30, density=True, histtype='stepfilled', alpha=0.4)\n",
    "    # Add combined kde line\n",
    "    ax.plot(x, pdf, '-k')\n",
    "    # Add individual lines for low and high density\n",
    "    ax.plot(x, pdf_individual, '--k')\n",
    "    ax.text(0.04, 0.96, \"Best-fit Mixture\", ha='left', va='top', transform=ax.transAxes)\n",
    "\n",
    "    ax.set_xlabel('$x$')\n",
    "    ax.set_ylabel('$p(x)$')\n",
    "    plt.savefig(\"plot_v1.png\", bbox_inches='tight')\n",
    "    plt.show()\n",
    "    \n",
    "    return model"
   ]
  },
  {
   "cell_type": "markdown",
   "id": "legendary-transparency",
   "metadata": {},
   "source": [
    "### Loop through all planets and apply above functions. \n",
    "### For testing purposes I am using only 3 planets and 1000 stars from set1. This takes around 90 seconds on my PC to compute. At the moment for planet with 150000 neighbours within 40pc it would take around 1 hour and 10 minutes to compute."
   ]
  },
  {
   "cell_type": "code",
   "execution_count": 142,
   "id": "official-product",
   "metadata": {},
   "outputs": [],
   "source": [
    "def get_stars():\n",
    "\n",
    "    o=0\n",
    "    density_list = []\n",
    "    model = 0\n",
    "    names = np.chararray((hosts.shape[0], 1), itemsize=20)\n",
    "    names = []\n",
    "    mah_dist_arr = np.zeros((hosts.shape[0], 1))\n",
    "    for i, row in hosts.iterrows():\n",
    "        target = np.array([row[2], row[3], row[4]])\n",
    "\n",
    "        set2 = to_sets(target)\n",
    "\n",
    "        if set2.shape[0] < 20:\n",
    "            continue\n",
    "\n",
    "        set2_cov_mat = np.cov(set2.T) # Calculate the covariance matrix\n",
    "        set2_inv = np.linalg.inv(set2_cov_mat)\n",
    "\n",
    "        names.append(row[\"hostname\"])\n",
    "        mah_dist_arr[i] = calc_mah(i, set2, set2_inv)\n",
    "\n",
    "        o = o + 1\n",
    "    df = pd.DataFrame(mah_dist_arr, index=names, columns=[\"val\"])\n",
    "    return df"
   ]
  },
  {
   "cell_type": "code",
   "execution_count": 143,
   "id": "advanced-professor",
   "metadata": {},
   "outputs": [
    {
     "data": {
      "text/plain": [
       "117.59713178399943"
      ]
     },
     "execution_count": 143,
     "metadata": {},
     "output_type": "execute_result"
    }
   ],
   "source": [
    "start = time.perf_counter()\n",
    "mah_dist_arr = get_stars()\n",
    "end = time.perf_counter()\n",
    "end-start"
   ]
  },
  {
   "cell_type": "code",
   "execution_count": 186,
   "id": "significant-nicaragua",
   "metadata": {},
   "outputs": [],
   "source": [
    "density = 20/(mah_dist_arr[\"val\"])**6\n",
    "norm_density = density/np.median(density)"
   ]
  },
  {
   "cell_type": "code",
   "execution_count": 188,
   "id": "immediate-stone",
   "metadata": {},
   "outputs": [],
   "source": [
    "X = np.expand_dims(np.log10(norm_density), axis=0).T"
   ]
  },
  {
   "cell_type": "code",
   "execution_count": 193,
   "id": "adjusted-makeup",
   "metadata": {},
   "outputs": [],
   "source": [
    "df = pd.DataFrame(X, index=mah_dist_arr.index, columns=[\"density\"])"
   ]
  },
  {
   "cell_type": "code",
   "execution_count": 195,
   "id": "complex-smart",
   "metadata": {},
   "outputs": [],
   "source": [
    "df.to_csv(\"planets_dense_6d.csv\")"
   ]
  },
  {
   "cell_type": "code",
   "execution_count": null,
   "id": "cubic-jamaica",
   "metadata": {},
   "outputs": [],
   "source": []
  }
 ],
 "metadata": {
  "kernelspec": {
   "display_name": "Python 3",
   "language": "python",
   "name": "python3"
  },
  "language_info": {
   "codemirror_mode": {
    "name": "ipython",
    "version": 3
   },
   "file_extension": ".py",
   "mimetype": "text/x-python",
   "name": "python",
   "nbconvert_exporter": "python",
   "pygments_lexer": "ipython3",
   "version": "3.8.6"
  }
 },
 "nbformat": 4,
 "nbformat_minor": 5
}
